{
  "nbformat": 4,
  "nbformat_minor": 0,
  "metadata": {
    "colab": {
      "name": "NextJs-Example.ipynb",
      "provenance": [],
      "collapsed_sections": [],
      "toc_visible": true,
      "authorship_tag": "ABX9TyMwMcU1tZlJnbt+m4tHJfN5",
      "include_colab_link": true
    },
    "kernelspec": {
      "name": "python3",
      "display_name": "Python 3"
    }
  },
  "cells": [
    {
      "cell_type": "markdown",
      "metadata": {
        "id": "view-in-github",
        "colab_type": "text"
      },
      "source": [
        "<a href=\"https://colab.research.google.com/github/hamletbatista/smx/blob/main/NextJs_Example.ipynb\" target=\"_parent\"><img src=\"https://colab.research.google.com/assets/colab-badge.svg\" alt=\"Open In Colab\"/></a>"
      ]
    },
    {
      "cell_type": "markdown",
      "metadata": {
        "id": "hikHa5IVxgiu"
      },
      "source": [
        "#Setup"
      ]
    },
    {
      "cell_type": "code",
      "metadata": {
        "id": "tmjO7WoBsmGe"
      },
      "source": [
        "%%capture\n",
        "!wget https://bin.equinox.io/c/4VmDzA7iaHb/ngrok-stable-linux-amd64.zip && unzip ngrok-stable-linux-amd64.zip \n",
        "!apt-get install jq"
      ],
      "execution_count": 1,
      "outputs": []
    },
    {
      "cell_type": "code",
      "metadata": {
        "id": "fTtYWzjGwv5O",
        "outputId": "58dd79f1-c43e-4d38-b181-3ef54e8b1df6",
        "colab": {
          "base_uri": "https://localhost:8080/"
        }
      },
      "source": [
        "!node -v"
      ],
      "execution_count": 2,
      "outputs": [
        {
          "output_type": "stream",
          "text": [
            "v12.14.1\n"
          ],
          "name": "stdout"
        }
      ]
    },
    {
      "cell_type": "code",
      "metadata": {
        "id": "H05HK-Mmw7Z5"
      },
      "source": [
        ""
      ],
      "execution_count": null,
      "outputs": []
    },
    {
      "cell_type": "markdown",
      "metadata": {
        "id": "Xjk5kSuyw-Ji"
      },
      "source": [
        "###Start server\n",
        "\n",
        "``%%bash --bg\n",
        "npm run dev``\n",
        "\n",
        "###Start ngrok\n",
        "\n",
        "``\n",
        "./ngrok http 3000 > ngrok.log 2>&1 &\n",
        "``\n",
        "\n",
        "###Get ngrok URL\n",
        "\n",
        "``\n",
        "!curl -s http://localhost:4040/api/tunnels | jq \".tunnels[0].public_url\"\n",
        "``"
      ]
    },
    {
      "cell_type": "code",
      "metadata": {
        "id": "Kg2Tvvfoxbze"
      },
      "source": [
        ""
      ],
      "execution_count": null,
      "outputs": []
    },
    {
      "cell_type": "markdown",
      "metadata": {
        "id": "PiEiO_72xju4"
      },
      "source": [
        "#NextJs\n",
        "\n",
        "https://github.com/vercel/next.js/tree/canary/examples/blog-starter\n",
        "\n"
      ]
    },
    {
      "cell_type": "code",
      "metadata": {
        "id": "vzVpVhusDbti"
      },
      "source": [
        "#!cat package.json"
      ],
      "execution_count": null,
      "outputs": []
    },
    {
      "cell_type": "code",
      "metadata": {
        "id": "Gj8F-6Np1qak",
        "outputId": "b8461c4d-476a-460e-9c66-1ec92df8a2cf",
        "colab": {
          "base_uri": "https://localhost:8080/"
        }
      },
      "source": [
        "!npx create-next-app --example blog-starter blog-starter-app"
      ],
      "execution_count": 3,
      "outputs": [
        {
          "output_type": "stream",
          "text": [
            "\u001b[K\u001b[?25hnpx: installed 1 in 2.013s\n",
            "Creating a new Next.js app in \u001b[32m/content/blog-starter-app\u001b[39m.\n",
            "\n",
            "Downloading files for example \u001b[36mblog-starter\u001b[39m. This might take a moment.\n",
            "\n",
            "Installing packages. This might take a couple of minutes.\n",
            "\n",
            "\u001b[K\u001b[?25h\n",
            "> sharp@0.26.2 install /content/blog-starter-app/node_modules/sharp\n",
            "> (node install/libvips && node install/dll-copy && prebuild-install) || (node-gyp rebuild && node install/dll-copy)\n",
            "\n",
            "\u001b[32minfo\u001b[0m \u001b[0m\u001b[35msharp\u001b[0m Downloading https://github.com/lovell/sharp-libvips/releases/download/v8.10.0/libvips-8.10.0-linux-x64.tar.br\n",
            "\u001b[K\u001b[?25h\n",
            "> @ampproject/toolbox-optimizer@2.7.0-alpha.1 postinstall /content/blog-starter-app/node_modules/@ampproject/toolbox-optimizer\n",
            "> node lib/warmup.js\n",
            "\n",
            "\u001b[7mAMP OPTIMIZER\u001b[0m Downloaded latest AMP runtime data.\n",
            "\u001b[K\u001b[?25hadded 999 packages from 502 contributors and audited 1001 packages in 33.1s\n",
            "\n",
            "85 packages are looking for funding\n",
            "  run `npm fund` for details\n",
            "\n",
            "found 3 \u001b[1mlow\u001b[0m severity vulnerabilities\n",
            "  run `npm audit fix` to fix them, or `npm audit` for details\n",
            "\u001b[K\u001b[?25h\n",
            "\u001b[32mSuccess!\u001b[39m Created blog-starter-app at /content/blog-starter-app\n",
            "Inside that directory, you can run several commands:\n",
            "\n",
            "\u001b[36m  npm run dev\u001b[39m\n",
            "    Starts the development server.\n",
            "\n",
            "\u001b[36m  npm run build\u001b[39m\n",
            "    Builds the app for production.\n",
            "\n",
            "\u001b[36m  npm start\u001b[39m\n",
            "    Runs the built app in production mode.\n",
            "\n",
            "We suggest that you begin by typing:\n",
            "\n",
            "\u001b[36m  cd\u001b[39m blog-starter-app\n",
            "  \u001b[36mnpm run dev\u001b[39m\n",
            "\n"
          ],
          "name": "stdout"
        }
      ]
    },
    {
      "cell_type": "code",
      "metadata": {
        "id": "qWFMV-vywvgS",
        "outputId": "907e6a84-65d0-4be8-fd5c-5e4deeab2917",
        "colab": {
          "base_uri": "https://localhost:8080/"
        }
      },
      "source": [
        "%cd blog-starter-app/"
      ],
      "execution_count": 4,
      "outputs": [
        {
          "output_type": "stream",
          "text": [
            "/content/blog-starter-app\n"
          ],
          "name": "stdout"
        }
      ]
    },
    {
      "cell_type": "code",
      "metadata": {
        "id": "E5yRqamV1oXk",
        "outputId": "8cf7c51b-6bd9-4ecc-e81b-4cd26d747cc5",
        "colab": {
          "base_uri": "https://localhost:8080/"
        }
      },
      "source": [
        "!../ngrok authtoken #INPUT ngrok auth token"
      ],
      "execution_count": 15,
      "outputs": [
        {
          "output_type": "stream",
          "text": [
            "Authtoken saved to configuration file: /root/.ngrok2/ngrok.yml\n"
          ],
          "name": "stdout"
        }
      ]
    },
    {
      "cell_type": "code",
      "metadata": {
        "id": "2mkLiG_32ZKT"
      },
      "source": [
        "!../ngrok http -hostname=rnd.ranksense.com 3000 > ngrok.log 2>&1 &"
      ],
      "execution_count": 20,
      "outputs": []
    },
    {
      "cell_type": "code",
      "metadata": {
        "id": "KMSf7H3F9Zzr"
      },
      "source": [
        "!tail ngrok.log"
      ],
      "execution_count": 21,
      "outputs": []
    },
    {
      "cell_type": "code",
      "metadata": {
        "id": "FsSa24ps2i4E",
        "outputId": "5d2bf4b3-7fe2-4259-9ce4-adb8059962fa",
        "colab": {
          "base_uri": "https://localhost:8080/"
        }
      },
      "source": [
        "!curl -s http://localhost:4040/api/tunnels | jq \".tunnels[0].public_url\""
      ],
      "execution_count": 7,
      "outputs": [
        {
          "output_type": "stream",
          "text": [
            "\u001b[0;32m\"https://rnd.ranksense.com\"\u001b[0m\n"
          ],
          "name": "stdout"
        }
      ]
    },
    {
      "cell_type": "markdown",
      "metadata": {
        "id": "B50BCmzPUiRd"
      },
      "source": [
        "## Next SEO\n",
        "\n",
        "https://www.npmjs.com/package/next-seo\n",
        "\n",
        "JSON-LD\n",
        "https://www.npmjs.com/package/next-seo#json-ld\n",
        "\n",
        "Article JSON-LD\n",
        "https://www.npmjs.com/package/next-seo#article-1\n",
        "\n",
        "\n"
      ]
    },
    {
      "cell_type": "code",
      "metadata": {
        "id": "loW-qh56UrBE",
        "outputId": "23588f0d-307b-48bc-ca1e-26e303398a7b",
        "colab": {
          "base_uri": "https://localhost:8080/"
        }
      },
      "source": [
        "!npm install --save next-seo\n"
      ],
      "execution_count": 19,
      "outputs": [
        {
          "output_type": "stream",
          "text": [
            "\u001b[K\u001b[?25h\u001b[37;40mnpm\u001b[0m \u001b[0m\u001b[30;43mWARN\u001b[0m\u001b[35m\u001b[0m use-subscription@1.5.0 requires a peer of react@^17.0.0 but none is installed. You must install peer dependencies yourself.\n",
            "\u001b[0m\u001b[37;40mnpm\u001b[0m \u001b[0m\u001b[30;43mWARN\u001b[0m\u001b[35m\u001b[0m blog-starter@1.0.0 No repository field.\n",
            "\u001b[0m\u001b[37;40mnpm\u001b[0m \u001b[0m\u001b[30;43mWARN\u001b[0m \u001b[0m\u001b[35moptional\u001b[0m SKIPPING OPTIONAL DEPENDENCY: fsevents@2.1.3 (node_modules/fsevents):\n",
            "\u001b[0m\u001b[37;40mnpm\u001b[0m \u001b[0m\u001b[30;43mWARN\u001b[0m \u001b[0m\u001b[35mnotsup\u001b[0m SKIPPING OPTIONAL DEPENDENCY: Unsupported platform for fsevents@2.1.3: wanted {\"os\":\"darwin\",\"arch\":\"any\"} (current: {\"os\":\"linux\",\"arch\":\"x64\"})\n",
            "\u001b[0m\u001b[37;40mnpm\u001b[0m \u001b[0m\u001b[30;43mWARN\u001b[0m \u001b[0m\u001b[35moptional\u001b[0m SKIPPING OPTIONAL DEPENDENCY: fsevents@1.2.13 (node_modules/watchpack-chokidar2/node_modules/fsevents):\n",
            "\u001b[0m\u001b[37;40mnpm\u001b[0m \u001b[0m\u001b[30;43mWARN\u001b[0m \u001b[0m\u001b[35mnotsup\u001b[0m SKIPPING OPTIONAL DEPENDENCY: Unsupported platform for fsevents@1.2.13: wanted {\"os\":\"darwin\",\"arch\":\"any\"} (current: {\"os\":\"linux\",\"arch\":\"x64\"})\n",
            "\u001b[0m\n",
            "+ next-seo@4.17.0\n",
            "updated 1 package and audited 1002 packages in 6.964s\n",
            "\n",
            "85 packages are looking for funding\n",
            "  run `npm fund` for details\n",
            "\n",
            "found 3 \u001b[1mlow\u001b[0m severity vulnerabilities\n",
            "  run `npm audit fix` to fix them, or `npm audit` for details\n",
            "\u001b[K\u001b[?25h"
          ],
          "name": "stdout"
        }
      ]
    },
    {
      "cell_type": "code",
      "metadata": {
        "id": "I899Z6heUv3r"
      },
      "source": [
        ""
      ],
      "execution_count": null,
      "outputs": []
    },
    {
      "cell_type": "code",
      "metadata": {
        "id": "jA4EC0gt2PfV"
      },
      "source": [
        "!npm run dev"
      ],
      "execution_count": null,
      "outputs": []
    },
    {
      "cell_type": "code",
      "metadata": {
        "id": "lIyVS98q52v0"
      },
      "source": [
        ""
      ],
      "execution_count": null,
      "outputs": []
    }
  ]
}