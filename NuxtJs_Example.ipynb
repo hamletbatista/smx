{
  "nbformat": 4,
  "nbformat_minor": 0,
  "metadata": {
    "colab": {
      "name": "NuxtJs-Example.ipynb",
      "provenance": [],
      "collapsed_sections": [],
      "authorship_tag": "ABX9TyObfxsKie+WioifLtpbnJX1",
      "include_colab_link": true
    },
    "kernelspec": {
      "name": "python3",
      "display_name": "Python 3"
    }
  },
  "cells": [
    {
      "cell_type": "markdown",
      "metadata": {
        "id": "view-in-github",
        "colab_type": "text"
      },
      "source": [
        "<a href=\"https://colab.research.google.com/github/hamletbatista/smx/blob/main/NuxtJs_Example.ipynb\" target=\"_parent\"><img src=\"https://colab.research.google.com/assets/colab-badge.svg\" alt=\"Open In Colab\"/></a>"
      ]
    },
    {
      "cell_type": "markdown",
      "metadata": {
        "id": "hikHa5IVxgiu"
      },
      "source": [
        "#Setup"
      ]
    },
    {
      "cell_type": "code",
      "metadata": {
        "id": "tmjO7WoBsmGe"
      },
      "source": [
        "%%capture\n",
        "!wget https://bin.equinox.io/c/4VmDzA7iaHb/ngrok-stable-linux-amd64.zip && unzip ngrok-stable-linux-amd64.zip \n",
        "!apt-get install jq"
      ],
      "execution_count": 1,
      "outputs": []
    },
    {
      "cell_type": "code",
      "metadata": {
        "id": "fTtYWzjGwv5O",
        "outputId": "a3499283-0e73-4d83-fbd4-bf75f8772d20",
        "colab": {
          "base_uri": "https://localhost:8080/"
        }
      },
      "source": [
        "!node -v"
      ],
      "execution_count": 2,
      "outputs": [
        {
          "output_type": "stream",
          "text": [
            "v12.14.1\n"
          ],
          "name": "stdout"
        }
      ]
    },
    {
      "cell_type": "code",
      "metadata": {
        "id": "H05HK-Mmw7Z5"
      },
      "source": [
        ""
      ],
      "execution_count": null,
      "outputs": []
    },
    {
      "cell_type": "markdown",
      "metadata": {
        "id": "Xjk5kSuyw-Ji"
      },
      "source": [
        "###Start server\n",
        "\n",
        "``%%bash --bg\n",
        "npm run dev``\n",
        "\n",
        "###Start ngrok\n",
        "\n",
        "``\n",
        "./ngrok http 3000 > ngrok.log 2>&1 &\n",
        "``\n",
        "\n",
        "###Get ngrok URL\n",
        "\n",
        "``\n",
        "!curl -s http://localhost:4040/api/tunnels | jq \".tunnels[0].public_url\"\n",
        "``"
      ]
    },
    {
      "cell_type": "code",
      "metadata": {
        "id": "Kg2Tvvfoxbze"
      },
      "source": [
        ""
      ],
      "execution_count": null,
      "outputs": []
    },
    {
      "cell_type": "markdown",
      "metadata": {
        "id": "PiEiO_72xju4"
      },
      "source": [
        "#NuxtJs\n",
        "\n",
        "https://github.com/nuxt/hackernews\n",
        "\n"
      ]
    },
    {
      "cell_type": "code",
      "metadata": {
        "id": "sJlSIrhq4q4p",
        "outputId": "29af69c5-2db1-477a-bd4f-1bf84af30195",
        "colab": {
          "base_uri": "https://localhost:8080/"
        }
      },
      "source": [
        "!git clone https://github.com/nuxt/hackernews"
      ],
      "execution_count": 3,
      "outputs": [
        {
          "output_type": "stream",
          "text": [
            "Cloning into 'hackernews'...\n",
            "remote: Enumerating objects: 44, done.\u001b[K\n",
            "remote: Counting objects: 100% (44/44), done.\u001b[K\n",
            "remote: Compressing objects: 100% (31/31), done.\u001b[K\n",
            "remote: Total 2200 (delta 19), reused 22 (delta 9), pack-reused 2156\u001b[K\n",
            "Receiving objects: 100% (2200/2200), 1.22 MiB | 15.88 MiB/s, done.\n",
            "Resolving deltas: 100% (1290/1290), done.\n"
          ],
          "name": "stdout"
        }
      ]
    },
    {
      "cell_type": "code",
      "metadata": {
        "id": "jELSvQ3s4tgJ",
        "outputId": "62e24c66-b991-430f-eeed-c6fd6ba98531",
        "colab": {
          "base_uri": "https://localhost:8080/"
        }
      },
      "source": [
        "%cd hackernews/"
      ],
      "execution_count": 4,
      "outputs": [
        {
          "output_type": "stream",
          "text": [
            "/content/hackernews\n"
          ],
          "name": "stdout"
        }
      ]
    },
    {
      "cell_type": "code",
      "metadata": {
        "id": "uE7sx3YqDZ0j",
        "outputId": "29157ce1-1184-4ebf-dd42-444e93a5e606",
        "colab": {
          "base_uri": "https://localhost:8080/"
        }
      },
      "source": [
        "!npm install"
      ],
      "execution_count": 5,
      "outputs": [
        {
          "output_type": "stream",
          "text": [
            "\u001b[K\u001b[?25h\u001b[37;40mnpm\u001b[0m \u001b[0m\u001b[30;43mWARN\u001b[0m \u001b[0m\u001b[35mdeprecated\u001b[0m @nuxt/static@1.0.0: this feature has been moved to the core. you can directly use nuxt generate\n",
            "\u001b[K\u001b[?25h\u001b[37;40mnpm\u001b[0m \u001b[0m\u001b[30;43mWARN\u001b[0m \u001b[0m\u001b[35mdeprecated\u001b[0m urix@0.1.0: Please see https://github.com/lydell/urix#deprecated\n",
            "\u001b[K\u001b[?25h\u001b[37;40mnpm\u001b[0m \u001b[0m\u001b[30;43mWARN\u001b[0m \u001b[0m\u001b[35mdeprecated\u001b[0m core-js@2.6.11: core-js@<3 is no longer maintained and not recommended for usage due to the number of issues. Please, upgrade your dependencies to the actual version of core-js@3.\n",
            "\u001b[K\u001b[?25h\u001b[37;40mnpm\u001b[0m \u001b[0m\u001b[30;43mWARN\u001b[0m \u001b[0m\u001b[35mdeprecated\u001b[0m resolve-url@0.2.1: https://github.com/lydell/resolve-url#deprecated\n",
            "\u001b[K\u001b[?25h\u001b[37;40mnpm\u001b[0m \u001b[0m\u001b[30;43mWARN\u001b[0m \u001b[0m\u001b[35mdeprecated\u001b[0m chokidar@2.1.8: Chokidar 2 will break on node v14+. Upgrade to chokidar 3 with 15x less dependencies.\n",
            "\u001b[K\u001b[?25h\u001b[37;40mnpm\u001b[0m \u001b[0m\u001b[30;43mWARN\u001b[0m \u001b[0m\u001b[35mdeprecated\u001b[0m fsevents@1.2.13: fsevents 1 will break on node v14+ and could be using insecure binaries. Upgrade to fsevents 2.\n",
            "\u001b[K\u001b[?25h\n",
            "> core-js@2.6.11 postinstall /content/hackernews/node_modules/core-js\n",
            "> node -e \"try{require('./postinstall')}catch(e){}\"\n",
            "\n",
            "\u001b[96mThank you for using core-js (\u001b[94m https://github.com/zloirock/core-js \u001b[96m) for polyfilling JavaScript standard library!\u001b[0m\n",
            "\n",
            "\u001b[96mThe project needs your help! Please consider supporting of core-js on Open Collective or Patreon: \u001b[0m\n",
            "\u001b[96m>\u001b[94m https://opencollective.com/core-js \u001b[0m\n",
            "\u001b[96m>\u001b[94m https://www.patreon.com/zloirock \u001b[0m\n",
            "\n",
            "\u001b[96mAlso, the author of core-js (\u001b[94m https://github.com/zloirock \u001b[96m) is looking for a good job -)\u001b[0m\n",
            "\n",
            "\n",
            "> ejs@2.7.4 postinstall /content/hackernews/node_modules/ejs\n",
            "> node ./postinstall.js\n",
            "\n",
            "Thank you for installing \u001b[35mEJS\u001b[0m: built with the \u001b[32mJake\u001b[0m JavaScript build tool (\u001b[32mhttps://jakejs.com/\u001b[0m)\n",
            "\n",
            "\u001b[K\u001b[?25h\n",
            "> nuxt@2.14.7 postinstall /content/hackernews/node_modules/nuxt\n",
            "> opencollective || exit 0\n",
            "\n",
            "                     \u001b[34m                                        \u001b[39m\n",
            "                     \u001b[34m                :-:                     \u001b[39m\n",
            "                     \u001b[34m              .==-+:                    \u001b[39m\n",
            "                     \u001b[34m             .==. :+- .-=-              \u001b[39m\n",
            "                     \u001b[34m            .==.   :==++-+=.            \u001b[39m\n",
            "                     \u001b[34m           :==.     -**: :+=.           \u001b[39m\n",
            "                     \u001b[34m          :+-      :*+++. .++.          \u001b[39m\n",
            "                     \u001b[34m         :+-      -*= .++: .=+.         \u001b[39m\n",
            "                     \u001b[34m        -+:      =*-   .+*: .=+:        \u001b[39m\n",
            "                     \u001b[34m       -+:     .=*-     .=*-  =+:       \u001b[39m\n",
            "                     \u001b[34m     .==:     .+*:        -*-  -+-      \u001b[39m\n",
            "                     \u001b[34m    .=+:.....:+*-.........:=*=..=*-     \u001b[39m\n",
            "                     \u001b[34m    .-=------=++============++====:     \u001b[39m\n",
            "                                         \n",
            "                         \u001b[33mThanks for installing nuxtjs 🙏\u001b[39m\n",
            "                 \u001b[2mPlease consider donating to our open collective\u001b[22m\n",
            "                        \u001b[2mto help us maintain this package.\u001b[22m\n",
            "                                         \n",
            "                            Number of contributors: 0\n",
            "                              Number of backers: 383\n",
            "                              Annual budget: $64,302\n",
            "                             \u001b[1mCurrent balance: $42,422\u001b[22m\n",
            "                                         \n",
            "           \u001b[1m👉  Donate:\u001b[22m \u001b[4mhttps://opencollective.com/nuxtjs/donate\u001b[24m\n",
            "                                         \n",
            "\u001b[K\u001b[?25h\u001b[37;40mnpm\u001b[0m \u001b[0m\u001b[34;40mnotice\u001b[0m\u001b[35m\u001b[0m created a lockfile as package-lock.json. You should commit this file.\n",
            "\u001b[0m\u001b[37;40mnpm\u001b[0m \u001b[0m\u001b[30;43mWARN\u001b[0m \u001b[0m\u001b[35moptional\u001b[0m SKIPPING OPTIONAL DEPENDENCY: fsevents@~2.1.2 (node_modules/chokidar/node_modules/fsevents):\n",
            "\u001b[0m\u001b[37;40mnpm\u001b[0m \u001b[0m\u001b[30;43mWARN\u001b[0m \u001b[0m\u001b[35mnotsup\u001b[0m SKIPPING OPTIONAL DEPENDENCY: Unsupported platform for fsevents@2.1.3: wanted {\"os\":\"darwin\",\"arch\":\"any\"} (current: {\"os\":\"linux\",\"arch\":\"x64\"})\n",
            "\u001b[0m\u001b[37;40mnpm\u001b[0m \u001b[0m\u001b[30;43mWARN\u001b[0m \u001b[0m\u001b[35moptional\u001b[0m SKIPPING OPTIONAL DEPENDENCY: fsevents@^1.2.7 (node_modules/watchpack-chokidar2/node_modules/chokidar/node_modules/fsevents):\n",
            "\u001b[0m\u001b[37;40mnpm\u001b[0m \u001b[0m\u001b[30;43mWARN\u001b[0m \u001b[0m\u001b[35mnotsup\u001b[0m SKIPPING OPTIONAL DEPENDENCY: Unsupported platform for fsevents@1.2.13: wanted {\"os\":\"darwin\",\"arch\":\"any\"} (current: {\"os\":\"linux\",\"arch\":\"x64\"})\n",
            "\u001b[0m\u001b[37;40mnpm\u001b[0m \u001b[0m\u001b[30;43mWARN\u001b[0m\u001b[35m\u001b[0m eslint-plugin-vue@6.2.2 requires a peer of eslint@^5.0.0 || ^6.0.0 but none is installed. You must install peer dependencies yourself.\n",
            "\u001b[0m\u001b[37;40mnpm\u001b[0m \u001b[0m\u001b[30;43mWARN\u001b[0m\u001b[35m\u001b[0m tsutils@3.17.1 requires a peer of typescript@>=2.8.0 || >= 3.2.0-dev || >= 3.3.0-dev || >= 3.4.0-dev || >= 3.5.0-dev || >= 3.6.0-dev || >= 3.6.0-beta || >= 3.7.0-dev || >= 3.7.0-beta but none is installed. You must install peer dependencies yourself.\n",
            "\u001b[0m\n",
            "added 1428 packages from 662 contributors and audited 1437 packages in 44.491s\n",
            "\n",
            "81 packages are looking for funding\n",
            "  run `npm fund` for details\n",
            "\n",
            "found \u001b[92m0\u001b[0m vulnerabilities\n",
            "\n",
            "\u001b[K\u001b[?25h"
          ],
          "name": "stdout"
        }
      ]
    },
    {
      "cell_type": "code",
      "metadata": {
        "id": "vzVpVhusDbti"
      },
      "source": [
        "#!cat package.json"
      ],
      "execution_count": null,
      "outputs": []
    },
    {
      "cell_type": "code",
      "metadata": {
        "id": "E5yRqamV1oXk",
        "outputId": "c591f677-44a3-49da-9827-4fbbd02a8f34",
        "colab": {
          "base_uri": "https://localhost:8080/"
        }
      },
      "source": [
        "!../ngrok authtoken #INPUT ngrok auth token"
      ],
      "execution_count": 6,
      "outputs": [
        {
          "output_type": "stream",
          "text": [
            "Authtoken saved to configuration file: /root/.ngrok2/ngrok.yml\n"
          ],
          "name": "stdout"
        }
      ]
    },
    {
      "cell_type": "code",
      "metadata": {
        "id": "2mkLiG_32ZKT"
      },
      "source": [
        "#https://stackoverflow.com/questions/45425721/invalid-host-header-when-ngrok-tries-to-connect-to-react-dev-server\n",
        "\n",
        "!../ngrok http -hostname=rnd.ranksense.com --host-header=rewrite 3000 > ngrok.log 2>&1 &"
      ],
      "execution_count": 32,
      "outputs": []
    },
    {
      "cell_type": "code",
      "metadata": {
        "id": "8FqmUnrM25yg"
      },
      "source": [
        "!pkill ngrok"
      ],
      "execution_count": 35,
      "outputs": []
    },
    {
      "cell_type": "code",
      "metadata": {
        "id": "KMSf7H3F9Zzr"
      },
      "source": [
        "!tail ngrok.log"
      ],
      "execution_count": 33,
      "outputs": []
    },
    {
      "cell_type": "code",
      "metadata": {
        "id": "FsSa24ps2i4E",
        "outputId": "ec7235be-a4dc-49bf-fc37-5d27cebad08e",
        "colab": {
          "base_uri": "https://localhost:8080/"
        }
      },
      "source": [
        "!curl -s http://localhost:4040/api/tunnels | jq \".tunnels[0].public_url\""
      ],
      "execution_count": 22,
      "outputs": [
        {
          "output_type": "stream",
          "text": [
            "\u001b[0;32m\"https://rnd.ranksense.com\"\u001b[0m\n"
          ],
          "name": "stdout"
        }
      ]
    },
    {
      "cell_type": "code",
      "metadata": {
        "id": "jA4EC0gt2PfV",
        "outputId": "c84b5549-97c6-47b8-a355-c2701ceb472d",
        "colab": {
          "base_uri": "https://localhost:8080/"
        }
      },
      "source": [
        "!npm run-script dev"
      ],
      "execution_count": 34,
      "outputs": [
        {
          "output_type": "stream",
          "text": [
            "\n",
            "> nuxt-hn@1.0.0 dev /content/hackernews\n",
            "> nuxt dev\n",
            "\n",
            "\u001b[32m\u001b[39m\n",
            "\u001b[32m   ╭───────────────────────────────────────╮\u001b[39m\n",
            "   \u001b[32m│\u001b[39m                                       \u001b[32m│\u001b[39m\n",
            "   \u001b[32m│\u001b[39m   \u001b[32m\u001b[1mNuxt.js\u001b[22m\u001b[39m @ v2.14.7                   \u001b[32m│\u001b[39m\n",
            "   \u001b[32m│\u001b[39m                                       \u001b[32m│\u001b[39m\n",
            "   \u001b[32m│\u001b[39m   \u001b[1m\u001b[36m▸ Environment:\u001b[39m\u001b[22m development          \u001b[32m│\u001b[39m\n",
            "   \u001b[32m│\u001b[39m   \u001b[1m\u001b[36m▸ Rendering:\u001b[39m\u001b[22m   server-side          \u001b[32m│\u001b[39m\n",
            "   \u001b[32m│\u001b[39m   \u001b[1m\u001b[36m▸ Target:\u001b[39m\u001b[22m      server               \u001b[32m│\u001b[39m\n",
            "   \u001b[32m│\u001b[39m                                       \u001b[32m│\u001b[39m\n",
            "   \u001b[32m│\u001b[39m   \u001b[37m\u001b[1mListening: \u001b[22m\u001b[4m\u001b[34mhttp://localhost:3000/\u001b[39m\u001b[37m\u001b[24m\u001b[39m   \u001b[32m│\u001b[39m\n",
            "   \u001b[32m│\u001b[39m                                       \u001b[32m│\u001b[39m\n",
            "\u001b[32m   ╰───────────────────────────────────────╯\u001b[39m\n",
            "\u001b[32m\u001b[39m\n",
            "\u001b[36mℹ\u001b[39m Preparing project for development\n",
            "\u001b[36mℹ\u001b[39m Initial build may take a while\n",
            "\u001b[32m✔\u001b[39m Builder initialized\n",
            "\u001b[32m✔\u001b[39m Nuxt files generated\n",
            "\n",
            "\u001b[32m●\u001b[39m \u001b[32mClient\u001b[39m \u001b[37m█\u001b[39m\u001b[37m█\u001b[39m\u001b[37m█\u001b[39m\u001b[37m█\u001b[39m\u001b[37m█\u001b[39m\u001b[37m█\u001b[39m\u001b[37m█\u001b[39m\u001b[37m█\u001b[39m\u001b[37m█\u001b[39m\u001b[37m█\u001b[39m\u001b[37m█\u001b[39m\u001b[37m█\u001b[39m\u001b[37m█\u001b[39m\u001b[37m█\u001b[39m\u001b[37m█\u001b[39m\u001b[37m█\u001b[39m\u001b[37m█\u001b[39m\u001b[37m█\u001b[39m\u001b[37m█\u001b[39m\u001b[37m█\u001b[39m\u001b[37m█\u001b[39m\u001b[37m█\u001b[39m\u001b[37m█\u001b[39m\u001b[37m█\u001b[39m\u001b[37m█\u001b[39m compiling (0%)  \n",
            " \n",
            "\n",
            "\u001b[93m◯ Server\u001b[39m\n",
            "\u001b[90m  \u001b[39m\n",
            "\n",
            "\u001b[2K\u001b[1A\u001b[2K\u001b[1A\u001b[2K\u001b[1A\u001b[2K\u001b[1A\u001b[2K\u001b[1A\u001b[2K\u001b[1A\u001b[2K\u001b[1A\u001b[2K\u001b[G\n",
            "\u001b[32m●\u001b[39m \u001b[32mClient\u001b[39m \u001b[32m█\u001b[39m\u001b[32m█\u001b[39m\u001b[32m█\u001b[39m\u001b[37m█\u001b[39m\u001b[37m█\u001b[39m\u001b[37m█\u001b[39m\u001b[37m█\u001b[39m\u001b[37m█\u001b[39m\u001b[37m█\u001b[39m\u001b[37m█\u001b[39m\u001b[37m█\u001b[39m\u001b[37m█\u001b[39m\u001b[37m█\u001b[39m\u001b[37m█\u001b[39m\u001b[37m█\u001b[39m\u001b[37m█\u001b[39m\u001b[37m█\u001b[39m\u001b[37m█\u001b[39m\u001b[37m█\u001b[39m\u001b[37m█\u001b[39m\u001b[37m█\u001b[39m\u001b[37m█\u001b[39m\u001b[37m█\u001b[39m\u001b[37m█\u001b[39m\u001b[37m█\u001b[39m building (10%) \u001b[90m1/2 modules\u001b[39m \u001b[90m1 active\u001b[39m\n",
            " \u001b[90mnode_modules/webpack-hot-middleware/client.js\u001b[39m\n",
            "\n",
            "\u001b[93m●\u001b[39m \u001b[93mServer\u001b[39m \u001b[93m█\u001b[39m\u001b[93m█\u001b[39m\u001b[93m█\u001b[39m\u001b[37m█\u001b[39m\u001b[37m█\u001b[39m\u001b[37m█\u001b[39m\u001b[37m█\u001b[39m\u001b[37m█\u001b[39m\u001b[37m█\u001b[39m\u001b[37m█\u001b[39m\u001b[37m█\u001b[39m\u001b[37m█\u001b[39m\u001b[37m█\u001b[39m\u001b[37m█\u001b[39m\u001b[37m█\u001b[39m\u001b[37m█\u001b[39m\u001b[37m█\u001b[39m\u001b[37m█\u001b[39m\u001b[37m█\u001b[39m\u001b[37m█\u001b[39m\u001b[37m█\u001b[39m\u001b[37m█\u001b[39m\u001b[37m█\u001b[39m\u001b[37m█\u001b[39m\u001b[37m█\u001b[39m building (10%) \u001b[90m1/1 modules\u001b[39m \u001b[90m0 active\u001b[39m\n",
            " \n",
            "\n",
            "\u001b[2K\u001b[1A\u001b[2K\u001b[1A\u001b[2K\u001b[1A\u001b[2K\u001b[1A\u001b[2K\u001b[1A\u001b[2K\u001b[1A\u001b[2K\u001b[1A\u001b[2K\u001b[G\n",
            "\u001b[32m●\u001b[39m \u001b[32mClient\u001b[39m \u001b[32m█\u001b[39m\u001b[32m█\u001b[39m\u001b[32m█\u001b[39m\u001b[37m█\u001b[39m\u001b[37m█\u001b[39m\u001b[37m█\u001b[39m\u001b[37m█\u001b[39m\u001b[37m█\u001b[39m\u001b[37m█\u001b[39m\u001b[37m█\u001b[39m\u001b[37m█\u001b[39m\u001b[37m█\u001b[39m\u001b[37m█\u001b[39m\u001b[37m█\u001b[39m\u001b[37m█\u001b[39m\u001b[37m█\u001b[39m\u001b[37m█\u001b[39m\u001b[37m█\u001b[39m\u001b[37m█\u001b[39m\u001b[37m█\u001b[39m\u001b[37m█\u001b[39m\u001b[37m█\u001b[39m\u001b[37m█\u001b[39m\u001b[37m█\u001b[39m\u001b[37m█\u001b[39m building (10%) \u001b[90m2/2 modules\u001b[39m \u001b[90m0 active\u001b[39m\n",
            " \n",
            "\n",
            "\u001b[93m●\u001b[39m \u001b[93mServer\u001b[39m \u001b[93m█\u001b[39m\u001b[93m█\u001b[39m\u001b[93m█\u001b[39m\u001b[37m█\u001b[39m\u001b[37m█\u001b[39m\u001b[37m█\u001b[39m\u001b[37m█\u001b[39m\u001b[37m█\u001b[39m\u001b[37m█\u001b[39m\u001b[37m█\u001b[39m\u001b[37m█\u001b[39m\u001b[37m█\u001b[39m\u001b[37m█\u001b[39m\u001b[37m█\u001b[39m\u001b[37m█\u001b[39m\u001b[37m█\u001b[39m\u001b[37m█\u001b[39m\u001b[37m█\u001b[39m\u001b[37m█\u001b[39m\u001b[37m█\u001b[39m\u001b[37m█\u001b[39m\u001b[37m█\u001b[39m\u001b[37m█\u001b[39m\u001b[37m█\u001b[39m\u001b[37m█\u001b[39m building (10%) \u001b[90m1/1 modules\u001b[39m \u001b[90m0 active\u001b[39m\n",
            " \n",
            "\n",
            "\u001b[2K\u001b[1A\u001b[2K\u001b[1A\u001b[2K\u001b[1A\u001b[2K\u001b[1A\u001b[2K\u001b[1A\u001b[2K\u001b[1A\u001b[2K\u001b[1A\u001b[2K\u001b[G\n",
            "\u001b[32m●\u001b[39m \u001b[32mClient\u001b[39m \u001b[32m█\u001b[39m\u001b[32m█\u001b[39m\u001b[32m█\u001b[39m\u001b[37m█\u001b[39m\u001b[37m█\u001b[39m\u001b[37m█\u001b[39m\u001b[37m█\u001b[39m\u001b[37m█\u001b[39m\u001b[37m█\u001b[39m\u001b[37m█\u001b[39m\u001b[37m█\u001b[39m\u001b[37m█\u001b[39m\u001b[37m█\u001b[39m\u001b[37m█\u001b[39m\u001b[37m█\u001b[39m\u001b[37m█\u001b[39m\u001b[37m█\u001b[39m\u001b[37m█\u001b[39m\u001b[37m█\u001b[39m\u001b[37m█\u001b[39m\u001b[37m█\u001b[39m\u001b[37m█\u001b[39m\u001b[37m█\u001b[39m\u001b[37m█\u001b[39m\u001b[37m█\u001b[39m building (10%) \u001b[90m2/4 modules\u001b[39m \u001b[90m2 active\u001b[39m\n",
            " \u001b[90mnode_modules/eventsource-polyfill/dist/browserify-eventsource.js\u001b[39m\n",
            "\n",
            "\u001b[93m●\u001b[39m \u001b[93mServer\u001b[39m \u001b[93m█\u001b[39m\u001b[93m█\u001b[39m\u001b[93m█\u001b[39m\u001b[37m█\u001b[39m\u001b[37m█\u001b[39m\u001b[37m█\u001b[39m\u001b[37m█\u001b[39m\u001b[37m█\u001b[39m\u001b[37m█\u001b[39m\u001b[37m█\u001b[39m\u001b[37m█\u001b[39m\u001b[37m█\u001b[39m\u001b[37m█\u001b[39m\u001b[37m█\u001b[39m\u001b[37m█\u001b[39m\u001b[37m█\u001b[39m\u001b[37m█\u001b[39m\u001b[37m█\u001b[39m\u001b[37m█\u001b[39m\u001b[37m█\u001b[39m\u001b[37m█\u001b[39m\u001b[37m█\u001b[39m\u001b[37m█\u001b[39m\u001b[37m█\u001b[39m\u001b[37m█\u001b[39m building (10%) \u001b[90m1/1 modules\u001b[39m \u001b[90m0 active\u001b[39m\n",
            " \n",
            "\n",
            "\u001b[2K\u001b[1A\u001b[2K\u001b[1A\u001b[2K\u001b[1A\u001b[2K\u001b[1A\u001b[2K\u001b[1A\u001b[2K\u001b[1A\u001b[2K\u001b[1A\u001b[2K\u001b[G\n",
            "\u001b[32m●\u001b[39m \u001b[32mClient\u001b[39m \u001b[32m█\u001b[39m\u001b[32m█\u001b[39m\u001b[32m█\u001b[39m\u001b[37m█\u001b[39m\u001b[37m█\u001b[39m\u001b[37m█\u001b[39m\u001b[37m█\u001b[39m\u001b[37m█\u001b[39m\u001b[37m█\u001b[39m\u001b[37m█\u001b[39m\u001b[37m█\u001b[39m\u001b[37m█\u001b[39m\u001b[37m█\u001b[39m\u001b[37m█\u001b[39m\u001b[37m█\u001b[39m\u001b[37m█\u001b[39m\u001b[37m█\u001b[39m\u001b[37m█\u001b[39m\u001b[37m█\u001b[39m\u001b[37m█\u001b[39m\u001b[37m█\u001b[39m\u001b[37m█\u001b[39m\u001b[37m█\u001b[39m\u001b[37m█\u001b[39m\u001b[37m█\u001b[39m building (10%) \u001b[90m3/8 modules\u001b[39m \u001b[90m5 active\u001b[39m\n",
            " \u001b[90mnode_modules/webpack-hot-middleware/process-update.js\u001b[39m\n",
            "\n",
            "\u001b[93m●\u001b[39m \u001b[93mServer\u001b[39m \u001b[93m█\u001b[39m\u001b[93m█\u001b[39m\u001b[93m█\u001b[39m\u001b[37m█\u001b[39m\u001b[37m█\u001b[39m\u001b[37m█\u001b[39m\u001b[37m█\u001b[39m\u001b[37m█\u001b[39m\u001b[37m█\u001b[39m\u001b[37m█\u001b[39m\u001b[37m█\u001b[39m\u001b[37m█\u001b[39m\u001b[37m█\u001b[39m\u001b[37m█\u001b[39m\u001b[37m█\u001b[39m\u001b[37m█\u001b[39m\u001b[37m█\u001b[39m\u001b[37m█\u001b[39m\u001b[37m█\u001b[39m\u001b[37m█\u001b[39m\u001b[37m█\u001b[39m\u001b[37m█\u001b[39m\u001b[37m█\u001b[39m\u001b[37m█\u001b[39m\u001b[37m█\u001b[39m building (10%) \u001b[90m1/2 modules\u001b[39m \u001b[90m1 active\u001b[39m\n",
            " \u001b[90mbabel-loader \u001b[34m›\u001b[90m .nuxt/server.js\u001b[39m\n",
            "\n",
            "\u001b[2K\u001b[1A\u001b[2K\u001b[1A\u001b[2K\u001b[1A\u001b[2K\u001b[1A\u001b[2K\u001b[1A\u001b[2K\u001b[1A\u001b[2K\u001b[1A\u001b[2K\u001b[G\n",
            "\u001b[32m●\u001b[39m \u001b[32mClient\u001b[39m \u001b[32m█\u001b[39m\u001b[32m█\u001b[39m\u001b[32m█\u001b[39m\u001b[37m█\u001b[39m\u001b[37m█\u001b[39m\u001b[37m█\u001b[39m\u001b[37m█\u001b[39m\u001b[37m█\u001b[39m\u001b[37m█\u001b[39m\u001b[37m█\u001b[39m\u001b[37m█\u001b[39m\u001b[37m█\u001b[39m\u001b[37m█\u001b[39m\u001b[37m█\u001b[39m\u001b[37m█\u001b[39m\u001b[37m█\u001b[39m\u001b[37m█\u001b[39m\u001b[37m█\u001b[39m\u001b[37m█\u001b[39m\u001b[37m█\u001b[39m\u001b[37m█\u001b[39m\u001b[37m█\u001b[39m\u001b[37m█\u001b[39m\u001b[37m█\u001b[39m\u001b[37m█\u001b[39m building (10%) \u001b[90m8/9 modules\u001b[39m \u001b[90m1 active\u001b[39m\n",
            " \u001b[90mbabel-loader \u001b[34m›\u001b[90m .nuxt/client.js\u001b[39m\n",
            "\n",
            "\u001b[93m●\u001b[39m \u001b[93mServer\u001b[39m \u001b[93m█\u001b[39m\u001b[93m█\u001b[39m\u001b[93m█\u001b[39m\u001b[37m█\u001b[39m\u001b[37m█\u001b[39m\u001b[37m█\u001b[39m\u001b[37m█\u001b[39m\u001b[37m█\u001b[39m\u001b[37m█\u001b[39m\u001b[37m█\u001b[39m\u001b[37m█\u001b[39m\u001b[37m█\u001b[39m\u001b[37m█\u001b[39m\u001b[37m█\u001b[39m\u001b[37m█\u001b[39m\u001b[37m█\u001b[39m\u001b[37m█\u001b[39m\u001b[37m█\u001b[39m\u001b[37m█\u001b[39m\u001b[37m█\u001b[39m\u001b[37m█\u001b[39m\u001b[37m█\u001b[39m\u001b[37m█\u001b[39m\u001b[37m█\u001b[39m\u001b[37m█\u001b[39m building (10%) \u001b[90m1/2 modules\u001b[39m \u001b[90m1 active\u001b[39m\n",
            " \u001b[90mbabel-loader \u001b[34m›\u001b[90m .nuxt/server.js\u001b[39m\n",
            "\n",
            "\u001b[2K\u001b[1A\u001b[2K\u001b[1A\u001b[2K\u001b[1A\u001b[2K\u001b[1A\u001b[2K\u001b[1A\u001b[2K\u001b[1A\u001b[2K\u001b[1A\u001b[2K\u001b[G\n",
            "\u001b[32m●\u001b[39m \u001b[32mClient\u001b[39m \u001b[32m█\u001b[39m\u001b[32m█\u001b[39m\u001b[32m█\u001b[39m\u001b[37m█\u001b[39m\u001b[37m█\u001b[39m\u001b[37m█\u001b[39m\u001b[37m█\u001b[39m\u001b[37m█\u001b[39m\u001b[37m█\u001b[39m\u001b[37m█\u001b[39m\u001b[37m█\u001b[39m\u001b[37m█\u001b[39m\u001b[37m█\u001b[39m\u001b[37m█\u001b[39m\u001b[37m█\u001b[39m\u001b[37m█\u001b[39m\u001b[37m█\u001b[39m\u001b[37m█\u001b[39m\u001b[37m█\u001b[39m\u001b[37m█\u001b[39m\u001b[37m█\u001b[39m\u001b[37m█\u001b[39m\u001b[37m█\u001b[39m\u001b[37m█\u001b[39m\u001b[37m█\u001b[39m building (11%) \u001b[90m9/11 modules\u001b[39m \u001b[90m2 active\u001b[39m\n",
            " \u001b[90mnode_modules/querystring-es3/encode.js\u001b[39m\n",
            "\n",
            "\u001b[93m●\u001b[39m \u001b[93mServer\u001b[39m \u001b[93m█\u001b[39m\u001b[93m█\u001b[39m\u001b[93m█\u001b[39m\u001b[37m█\u001b[39m\u001b[37m█\u001b[39m\u001b[37m█\u001b[39m\u001b[37m█\u001b[39m\u001b[37m█\u001b[39m\u001b[37m█\u001b[39m\u001b[37m█\u001b[39m\u001b[37m█\u001b[39m\u001b[37m█\u001b[39m\u001b[37m█\u001b[39m\u001b[37m█\u001b[39m\u001b[37m█\u001b[39m\u001b[37m█\u001b[39m\u001b[37m█\u001b[39m\u001b[37m█\u001b[39m\u001b[37m█\u001b[39m\u001b[37m█\u001b[39m\u001b[37m█\u001b[39m\u001b[37m█\u001b[39m\u001b[37m█\u001b[39m\u001b[37m█\u001b[39m\u001b[37m█\u001b[39m building (10%) \u001b[90m5/8 modules\u001b[39m \u001b[90m3 active\u001b[39m\n",
            " \u001b[90mbabel-loader \u001b[34m›\u001b[90m .nuxt/index.js\u001b[39m\n",
            "\n",
            "\u001b[2K\u001b[1A\u001b[2K\u001b[1A\u001b[2K\u001b[1A\u001b[2K\u001b[1A\u001b[2K\u001b[1A\u001b[2K\u001b[1A\u001b[2K\u001b[1A\u001b[2K\u001b[G\n",
            "\u001b[32m●\u001b[39m \u001b[32mClient\u001b[39m \u001b[32m█\u001b[39m\u001b[32m█\u001b[39m\u001b[32m█\u001b[39m\u001b[37m█\u001b[39m\u001b[37m█\u001b[39m\u001b[37m█\u001b[39m\u001b[37m█\u001b[39m\u001b[37m█\u001b[39m\u001b[37m█\u001b[39m\u001b[37m█\u001b[39m\u001b[37m█\u001b[39m\u001b[37m█\u001b[39m\u001b[37m█\u001b[39m\u001b[37m█\u001b[39m\u001b[37m█\u001b[39m\u001b[37m█\u001b[39m\u001b[37m█\u001b[39m\u001b[37m█\u001b[39m\u001b[37m█\u001b[39m\u001b[37m█\u001b[39m\u001b[37m█\u001b[39m\u001b[37m█\u001b[39m\u001b[37m█\u001b[39m\u001b[37m█\u001b[39m\u001b[37m█\u001b[39m building (11%) \u001b[90m11/11 modules\u001b[39m \u001b[90m0 active\u001b[39m\n",
            " \n",
            "\n",
            "\u001b[93m●\u001b[39m \u001b[93mServer\u001b[39m \u001b[93m█\u001b[39m\u001b[93m█\u001b[39m\u001b[93m█\u001b[39m\u001b[37m█\u001b[39m\u001b[37m█\u001b[39m\u001b[37m█\u001b[39m\u001b[37m█\u001b[39m\u001b[37m█\u001b[39m\u001b[37m█\u001b[39m\u001b[37m█\u001b[39m\u001b[37m█\u001b[39m\u001b[37m█\u001b[39m\u001b[37m█\u001b[39m\u001b[37m█\u001b[39m\u001b[37m█\u001b[39m\u001b[37m█\u001b[39m\u001b[37m█\u001b[39m\u001b[37m█\u001b[39m\u001b[37m█\u001b[39m\u001b[37m█\u001b[39m\u001b[37m█\u001b[39m\u001b[37m█\u001b[39m\u001b[37m█\u001b[39m\u001b[37m█\u001b[39m\u001b[37m█\u001b[39m building (10%) \u001b[90m5/9 modules\u001b[39m \u001b[90m4 active\u001b[39m\n",
            " \u001b[90mbabel-loader \u001b[34m›\u001b[90m .nuxt/components/nuxt-link.server.js\u001b[39m\n",
            "\n",
            "\u001b[2K\u001b[1A\u001b[2K\u001b[1A\u001b[2K\u001b[1A\u001b[2K\u001b[1A\u001b[2K\u001b[1A\u001b[2K\u001b[1A\u001b[2K\u001b[1A\u001b[2K\u001b[G\n",
            "\u001b[32m●\u001b[39m \u001b[32mClient\u001b[39m \u001b[32m█\u001b[39m\u001b[32m█\u001b[39m\u001b[32m█\u001b[39m\u001b[37m█\u001b[39m\u001b[37m█\u001b[39m\u001b[37m█\u001b[39m\u001b[37m█\u001b[39m\u001b[37m█\u001b[39m\u001b[37m█\u001b[39m\u001b[37m█\u001b[39m\u001b[37m█\u001b[39m\u001b[37m█\u001b[39m\u001b[37m█\u001b[39m\u001b[37m█\u001b[39m\u001b[37m█\u001b[39m\u001b[37m█\u001b[39m\u001b[37m█\u001b[39m\u001b[37m█\u001b[39m\u001b[37m█\u001b[39m\u001b[37m█\u001b[39m\u001b[37m█\u001b[39m\u001b[37m█\u001b[39m\u001b[37m█\u001b[39m\u001b[37m█\u001b[39m\u001b[37m█\u001b[39m building (11%) \u001b[90m12/18 modules\u001b[39m \u001b[90m6 active\u001b[39m\n",
            " \u001b[90mbabel-loader \u001b[34m›\u001b[90m .nuxt/mixins/fetch.client.js\u001b[39m\n",
            "\n",
            "\u001b[93m●\u001b[39m \u001b[93mServer\u001b[39m \u001b[93m█\u001b[39m\u001b[93m█\u001b[39m\u001b[93m█\u001b[39m\u001b[37m█\u001b[39m\u001b[37m█\u001b[39m\u001b[37m█\u001b[39m\u001b[37m█\u001b[39m\u001b[37m█\u001b[39m\u001b[37m█\u001b[39m\u001b[37m█\u001b[39m\u001b[37m█\u001b[39m\u001b[37m█\u001b[39m\u001b[37m█\u001b[39m\u001b[37m█\u001b[39m\u001b[37m█\u001b[39m\u001b[37m█\u001b[39m\u001b[37m█\u001b[39m\u001b[37m█\u001b[39m\u001b[37m█\u001b[39m\u001b[37m█\u001b[39m\u001b[37m█\u001b[39m\u001b[37m█\u001b[39m\u001b[37m█\u001b[39m\u001b[37m█\u001b[39m\u001b[37m█\u001b[39m building (10%) \u001b[90m7/10 modules\u001b[39m \u001b[90m3 active\u001b[39m\n",
            " \u001b[90mbabel-loader \u001b[34m›\u001b[90m .nuxt/mixins/fetch.server.js\u001b[39m\n",
            "\n",
            "\u001b[2K\u001b[1A\u001b[2K\u001b[1A\u001b[2K\u001b[1A\u001b[2K\u001b[1A\u001b[2K\u001b[1A\u001b[2K\u001b[1A\u001b[2K\u001b[1A\u001b[2K\u001b[G\n",
            "\u001b[32m●\u001b[39m \u001b[32mClient\u001b[39m \u001b[32m█\u001b[39m\u001b[32m█\u001b[39m\u001b[32m█\u001b[39m\u001b[37m█\u001b[39m\u001b[37m█\u001b[39m\u001b[37m█\u001b[39m\u001b[37m█\u001b[39m\u001b[37m█\u001b[39m\u001b[37m█\u001b[39m\u001b[37m█\u001b[39m\u001b[37m█\u001b[39m\u001b[37m█\u001b[39m\u001b[37m█\u001b[39m\u001b[37m█\u001b[39m\u001b[37m█\u001b[39m\u001b[37m█\u001b[39m\u001b[37m█\u001b[39m\u001b[37m█\u001b[39m\u001b[37m█\u001b[39m\u001b[37m█\u001b[39m\u001b[37m█\u001b[39m\u001b[37m█\u001b[39m\u001b[37m█\u001b[39m\u001b[37m█\u001b[39m\u001b[37m█\u001b[39m building (11%) \u001b[90m13/18 modules\u001b[39m \u001b[90m5 active\u001b[39m\n",
            " \u001b[90mbabel-loader \u001b[34m›\u001b[90m .nuxt/mixins/fetch.client.js\u001b[39m\n",
            "\n",
            "\u001b[93m●\u001b[39m \u001b[93mServer\u001b[39m \u001b[93m█\u001b[39m\u001b[93m█\u001b[39m\u001b[93m█\u001b[39m\u001b[37m█\u001b[39m\u001b[37m█\u001b[39m\u001b[37m█\u001b[39m\u001b[37m█\u001b[39m\u001b[37m█\u001b[39m\u001b[37m█\u001b[39m\u001b[37m█\u001b[39m\u001b[37m█\u001b[39m\u001b[37m█\u001b[39m\u001b[37m█\u001b[39m\u001b[37m█\u001b[39m\u001b[37m█\u001b[39m\u001b[37m█\u001b[39m\u001b[37m█\u001b[39m\u001b[37m█\u001b[39m\u001b[37m█\u001b[39m\u001b[37m█\u001b[39m\u001b[37m█\u001b[39m\u001b[37m█\u001b[39m\u001b[37m█\u001b[39m\u001b[37m█\u001b[39m\u001b[37m█\u001b[39m building (11%) \u001b[90m13/14 modules\u001b[39m \u001b[90m1 active\u001b[39m\n",
            " \u001b[90mbabel-loader \u001b[34m›\u001b[90m .nuxt/mixins/fetch.server.js\u001b[39m\n",
            "\n",
            "\u001b[2K\u001b[1A\u001b[2K\u001b[1A\u001b[2K\u001b[1A\u001b[2K\u001b[1A\u001b[2K\u001b[1A\u001b[2K\u001b[1A\u001b[2K\u001b[1A\u001b[2K\u001b[G\n",
            "\u001b[32m●\u001b[39m \u001b[32mClient\u001b[39m \u001b[32m█\u001b[39m\u001b[32m█\u001b[39m\u001b[32m█\u001b[39m\u001b[37m█\u001b[39m\u001b[37m█\u001b[39m\u001b[37m█\u001b[39m\u001b[37m█\u001b[39m\u001b[37m█\u001b[39m\u001b[37m█\u001b[39m\u001b[37m█\u001b[39m\u001b[37m█\u001b[39m\u001b[37m█\u001b[39m\u001b[37m█\u001b[39m\u001b[37m█\u001b[39m\u001b[37m█\u001b[39m\u001b[37m█\u001b[39m\u001b[37m█\u001b[39m\u001b[37m█\u001b[39m\u001b[37m█\u001b[39m\u001b[37m█\u001b[39m\u001b[37m█\u001b[39m\u001b[37m█\u001b[39m\u001b[37m█\u001b[39m\u001b[37m█\u001b[39m\u001b[37m█\u001b[39m building (11%) \u001b[90m15/40 modules\u001b[39m \u001b[90m25 active\u001b[39m\n",
            " \u001b[90mnode_modules/core-js/modules/es6.promise.js\u001b[39m\n",
            "\n",
            "\u001b[93m●\u001b[39m \u001b[93mServer\u001b[39m \u001b[93m█\u001b[39m\u001b[93m█\u001b[39m\u001b[93m█\u001b[39m\u001b[37m█\u001b[39m\u001b[37m█\u001b[39m\u001b[37m█\u001b[39m\u001b[37m█\u001b[39m\u001b[37m█\u001b[39m\u001b[37m█\u001b[39m\u001b[37m█\u001b[39m\u001b[37m█\u001b[39m\u001b[37m█\u001b[39m\u001b[37m█\u001b[39m\u001b[37m█\u001b[39m\u001b[37m█\u001b[39m\u001b[37m█\u001b[39m\u001b[37m█\u001b[39m\u001b[37m█\u001b[39m\u001b[37m█\u001b[39m\u001b[37m█\u001b[39m\u001b[37m█\u001b[39m\u001b[37m█\u001b[39m\u001b[37m█\u001b[39m\u001b[37m█\u001b[39m\u001b[37m█\u001b[39m building (11%) \u001b[90m13/22 modules\u001b[39m \u001b[90m9 active\u001b[39m\n",
            " \u001b[90mbabel-loader \u001b[34m›\u001b[90m .nuxt/axios.js\u001b[39m\n",
            "\n",
            "\u001b[2K\u001b[1A\u001b[2K\u001b[1A\u001b[2K\u001b[1A\u001b[2K\u001b[1A\u001b[2K\u001b[1A\u001b[2K\u001b[1A\u001b[2K\u001b[1A\u001b[2K\u001b[G\n",
            "\u001b[32m●\u001b[39m \u001b[32mClient\u001b[39m \u001b[32m█\u001b[39m\u001b[32m█\u001b[39m\u001b[32m█\u001b[39m\u001b[37m█\u001b[39m\u001b[37m█\u001b[39m\u001b[37m█\u001b[39m\u001b[37m█\u001b[39m\u001b[37m█\u001b[39m\u001b[37m█\u001b[39m\u001b[37m█\u001b[39m\u001b[37m█\u001b[39m\u001b[37m█\u001b[39m\u001b[37m█\u001b[39m\u001b[37m█\u001b[39m\u001b[37m█\u001b[39m\u001b[37m█\u001b[39m\u001b[37m█\u001b[39m\u001b[37m█\u001b[39m\u001b[37m█\u001b[39m\u001b[37m█\u001b[39m\u001b[37m█\u001b[39m\u001b[37m█\u001b[39m\u001b[37m█\u001b[39m\u001b[37m█\u001b[39m\u001b[37m█\u001b[39m building (12%) \u001b[90m17/42 modules\u001b[39m \u001b[90m25 active\u001b[39m\n",
            " \u001b[90mnode_modules/core-js/modules/es7.promise.finally.js\u001b[39m\n",
            "\n",
            "\u001b[93m●\u001b[39m \u001b[93mServer\u001b[39m \u001b[93m█\u001b[39m\u001b[93m█\u001b[39m\u001b[93m█\u001b[39m\u001b[37m█\u001b[39m\u001b[37m█\u001b[39m\u001b[37m█\u001b[39m\u001b[37m█\u001b[39m\u001b[37m█\u001b[39m\u001b[37m█\u001b[39m\u001b[37m█\u001b[39m\u001b[37m█\u001b[39m\u001b[37m█\u001b[39m\u001b[37m█\u001b[39m\u001b[37m█\u001b[39m\u001b[37m█\u001b[39m\u001b[37m█\u001b[39m\u001b[37m█\u001b[39m\u001b[37m█\u001b[39m\u001b[37m█\u001b[39m\u001b[37m█\u001b[39m\u001b[37m█\u001b[39m\u001b[37m█\u001b[39m\u001b[37m█\u001b[39m\u001b[37m█\u001b[39m\u001b[37m█\u001b[39m building (11%) \u001b[90m13/22 modules\u001b[39m \u001b[90m9 active\u001b[39m\n",
            " \u001b[90mbabel-loader \u001b[34m›\u001b[90m .nuxt/axios.js\u001b[39m\n",
            "\n",
            "\u001b[2K\u001b[1A\u001b[2K\u001b[1A\u001b[2K\u001b[1A\u001b[2K\u001b[1A\u001b[2K\u001b[1A\u001b[2K\u001b[1A\u001b[2K\u001b[1A\u001b[2K\u001b[G\n",
            "\u001b[32m●\u001b[39m \u001b[32mClient\u001b[39m \u001b[32m█\u001b[39m\u001b[32m█\u001b[39m\u001b[32m█\u001b[39m\u001b[37m█\u001b[39m\u001b[37m█\u001b[39m\u001b[37m█\u001b[39m\u001b[37m█\u001b[39m\u001b[37m█\u001b[39m\u001b[37m█\u001b[39m\u001b[37m█\u001b[39m\u001b[37m█\u001b[39m\u001b[37m█\u001b[39m\u001b[37m█\u001b[39m\u001b[37m█\u001b[39m\u001b[37m█\u001b[39m\u001b[37m█\u001b[39m\u001b[37m█\u001b[39m\u001b[37m█\u001b[39m\u001b[37m█\u001b[39m\u001b[37m█\u001b[39m\u001b[37m█\u001b[39m\u001b[37m█\u001b[39m\u001b[37m█\u001b[39m\u001b[37m█\u001b[39m\u001b[37m█\u001b[39m building (12%) \u001b[90m22/42 modules\u001b[39m \u001b[90m20 active\u001b[39m\n",
            " \u001b[90mnode_modules/core-js/modules/es7.promise.finally.js\u001b[39m\n",
            "\n",
            "\u001b[93m●\u001b[39m \u001b[93mServer\u001b[39m \u001b[93m█\u001b[39m\u001b[93m█\u001b[39m\u001b[93m█\u001b[39m\u001b[37m█\u001b[39m\u001b[37m█\u001b[39m\u001b[37m█\u001b[39m\u001b[37m█\u001b[39m\u001b[37m█\u001b[39m\u001b[37m█\u001b[39m\u001b[37m█\u001b[39m\u001b[37m█\u001b[39m\u001b[37m█\u001b[39m\u001b[37m█\u001b[39m\u001b[37m█\u001b[39m\u001b[37m█\u001b[39m\u001b[37m█\u001b[39m\u001b[37m█\u001b[39m\u001b[37m█\u001b[39m\u001b[37m█\u001b[39m\u001b[37m█\u001b[39m\u001b[37m█\u001b[39m\u001b[37m█\u001b[39m\u001b[37m█\u001b[39m\u001b[37m█\u001b[39m\u001b[37m█\u001b[39m building (11%) \u001b[90m14/22 modules\u001b[39m \u001b[90m8 active\u001b[39m\n",
            " \u001b[90mbabel-loader \u001b[34m›\u001b[90m .nuxt/axios.js\u001b[39m\n",
            "\n",
            "\u001b[2K\u001b[1A\u001b[2K\u001b[1A\u001b[2K\u001b[1A\u001b[2K\u001b[1A\u001b[2K\u001b[1A\u001b[2K\u001b[1A\u001b[2K\u001b[1A\u001b[2K\u001b[G\n",
            "\u001b[32m●\u001b[39m \u001b[32mClient\u001b[39m \u001b[32m█\u001b[39m\u001b[32m█\u001b[39m\u001b[32m█\u001b[39m\u001b[32m█\u001b[39m\u001b[37m█\u001b[39m\u001b[37m█\u001b[39m\u001b[37m█\u001b[39m\u001b[37m█\u001b[39m\u001b[37m█\u001b[39m\u001b[37m█\u001b[39m\u001b[37m█\u001b[39m\u001b[37m█\u001b[39m\u001b[37m█\u001b[39m\u001b[37m█\u001b[39m\u001b[37m█\u001b[39m\u001b[37m█\u001b[39m\u001b[37m█\u001b[39m\u001b[37m█\u001b[39m\u001b[37m█\u001b[39m\u001b[37m█\u001b[39m\u001b[37m█\u001b[39m\u001b[37m█\u001b[39m\u001b[37m█\u001b[39m\u001b[37m█\u001b[39m\u001b[37m█\u001b[39m building (13%) \u001b[90m25/50 modules\u001b[39m \u001b[90m25 active\u001b[39m\n",
            " \u001b[90mbabel-loader \u001b[34m›\u001b[90m .nuxt/axios.js\u001b[39m\n",
            "\n",
            "\u001b[93m●\u001b[39m \u001b[93mServer\u001b[39m \u001b[93m█\u001b[39m\u001b[93m█\u001b[39m\u001b[93m█\u001b[39m\u001b[37m█\u001b[39m\u001b[37m█\u001b[39m\u001b[37m█\u001b[39m\u001b[37m█\u001b[39m\u001b[37m█\u001b[39m\u001b[37m█\u001b[39m\u001b[37m█\u001b[39m\u001b[37m█\u001b[39m\u001b[37m█\u001b[39m\u001b[37m█\u001b[39m\u001b[37m█\u001b[39m\u001b[37m█\u001b[39m\u001b[37m█\u001b[39m\u001b[37m█\u001b[39m\u001b[37m█\u001b[39m\u001b[37m█\u001b[39m\u001b[37m█\u001b[39m\u001b[37m█\u001b[39m\u001b[37m█\u001b[39m\u001b[37m█\u001b[39m\u001b[37m█\u001b[39m\u001b[37m█\u001b[39m building (11%) \u001b[90m14/22 modules\u001b[39m \u001b[90m8 active\u001b[39m\n",
            " \u001b[90mbabel-loader \u001b[34m›\u001b[90m .nuxt/axios.js\u001b[39m\n",
            "\n",
            "\u001b[2K\u001b[1A\u001b[2K\u001b[1A\u001b[2K\u001b[1A\u001b[2K\u001b[1A\u001b[2K\u001b[1A\u001b[2K\u001b[1A\u001b[2K\u001b[1A\u001b[2K\u001b[G\n",
            "\u001b[32m●\u001b[39m \u001b[32mClient\u001b[39m \u001b[32m█\u001b[39m\u001b[32m█\u001b[39m\u001b[32m█\u001b[39m\u001b[32m█\u001b[39m\u001b[37m█\u001b[39m\u001b[37m█\u001b[39m\u001b[37m█\u001b[39m\u001b[37m█\u001b[39m\u001b[37m█\u001b[39m\u001b[37m█\u001b[39m\u001b[37m█\u001b[39m\u001b[37m█\u001b[39m\u001b[37m█\u001b[39m\u001b[37m█\u001b[39m\u001b[37m█\u001b[39m\u001b[37m█\u001b[39m\u001b[37m█\u001b[39m\u001b[37m█\u001b[39m\u001b[37m█\u001b[39m\u001b[37m█\u001b[39m\u001b[37m█\u001b[39m\u001b[37m█\u001b[39m\u001b[37m█\u001b[39m\u001b[37m█\u001b[39m\u001b[37m█\u001b[39m building (13%) \u001b[90m33/50 modules\u001b[39m \u001b[90m17 active\u001b[39m\n",
            " \u001b[90mbabel-loader \u001b[34m›\u001b[90m .nuxt/axios.js\u001b[39m\n",
            "\n",
            "\u001b[93m●\u001b[39m \u001b[93mServer\u001b[39m \u001b[93m█\u001b[39m\u001b[93m█\u001b[39m\u001b[93m█\u001b[39m\u001b[37m█\u001b[39m\u001b[37m█\u001b[39m\u001b[37m█\u001b[39m\u001b[37m█\u001b[39m\u001b[37m█\u001b[39m\u001b[37m█\u001b[39m\u001b[37m█\u001b[39m\u001b[37m█\u001b[39m\u001b[37m█\u001b[39m\u001b[37m█\u001b[39m\u001b[37m█\u001b[39m\u001b[37m█\u001b[39m\u001b[37m█\u001b[39m\u001b[37m█\u001b[39m\u001b[37m█\u001b[39m\u001b[37m█\u001b[39m\u001b[37m█\u001b[39m\u001b[37m█\u001b[39m\u001b[37m█\u001b[39m\u001b[37m█\u001b[39m\u001b[37m█\u001b[39m\u001b[37m█\u001b[39m building (11%) \u001b[90m14/22 modules\u001b[39m \u001b[90m8 active\u001b[39m\n",
            " \u001b[90mbabel-loader \u001b[34m›\u001b[90m .nuxt/axios.js\u001b[39m\n",
            "\n",
            "\u001b[2K\u001b[1A\u001b[2K\u001b[1A\u001b[2K\u001b[1A\u001b[2K\u001b[1A\u001b[2K\u001b[1A\u001b[2K\u001b[1A\u001b[2K\u001b[1A\u001b[2K\u001b[G\n",
            "\u001b[32m●\u001b[39m \u001b[32mClient\u001b[39m \u001b[32m█\u001b[39m\u001b[32m█\u001b[39m\u001b[32m█\u001b[39m\u001b[32m█\u001b[39m\u001b[37m█\u001b[39m\u001b[37m█\u001b[39m\u001b[37m█\u001b[39m\u001b[37m█\u001b[39m\u001b[37m█\u001b[39m\u001b[37m█\u001b[39m\u001b[37m█\u001b[39m\u001b[37m█\u001b[39m\u001b[37m█\u001b[39m\u001b[37m█\u001b[39m\u001b[37m█\u001b[39m\u001b[37m█\u001b[39m\u001b[37m█\u001b[39m\u001b[37m█\u001b[39m\u001b[37m█\u001b[39m\u001b[37m█\u001b[39m\u001b[37m█\u001b[39m\u001b[37m█\u001b[39m\u001b[37m█\u001b[39m\u001b[37m█\u001b[39m\u001b[37m█\u001b[39m building (15%) \u001b[90m42/50 modules\u001b[39m \u001b[90m8 active\u001b[39m\n",
            " \u001b[90mbabel-loader \u001b[34m›\u001b[90m .nuxt/axios.js\u001b[39m\n",
            "\n",
            "\u001b[93m●\u001b[39m \u001b[93mServer\u001b[39m \u001b[93m█\u001b[39m\u001b[93m█\u001b[39m\u001b[93m█\u001b[39m\u001b[37m█\u001b[39m\u001b[37m█\u001b[39m\u001b[37m█\u001b[39m\u001b[37m█\u001b[39m\u001b[37m█\u001b[39m\u001b[37m█\u001b[39m\u001b[37m█\u001b[39m\u001b[37m█\u001b[39m\u001b[37m█\u001b[39m\u001b[37m█\u001b[39m\u001b[37m█\u001b[39m\u001b[37m█\u001b[39m\u001b[37m█\u001b[39m\u001b[37m█\u001b[39m\u001b[37m█\u001b[39m\u001b[37m█\u001b[39m\u001b[37m█\u001b[39m\u001b[37m█\u001b[39m\u001b[37m█\u001b[39m\u001b[37m█\u001b[39m\u001b[37m█\u001b[39m\u001b[37m█\u001b[39m building (11%) \u001b[90m14/22 modules\u001b[39m \u001b[90m8 active\u001b[39m\n",
            " \u001b[90mbabel-loader \u001b[34m›\u001b[90m .nuxt/axios.js\u001b[39m\n",
            "\n",
            "\u001b[2K\u001b[1A\u001b[2K\u001b[1A\u001b[2K\u001b[1A\u001b[2K\u001b[1A\u001b[2K\u001b[1A\u001b[2K\u001b[1A\u001b[2K\u001b[1A\u001b[2K\u001b[G\n",
            "\u001b[32m●\u001b[39m \u001b[32mClient\u001b[39m \u001b[32m█\u001b[39m\u001b[32m█\u001b[39m\u001b[32m█\u001b[39m\u001b[32m█\u001b[39m\u001b[37m█\u001b[39m\u001b[37m█\u001b[39m\u001b[37m█\u001b[39m\u001b[37m█\u001b[39m\u001b[37m█\u001b[39m\u001b[37m█\u001b[39m\u001b[37m█\u001b[39m\u001b[37m█\u001b[39m\u001b[37m█\u001b[39m\u001b[37m█\u001b[39m\u001b[37m█\u001b[39m\u001b[37m█\u001b[39m\u001b[37m█\u001b[39m\u001b[37m█\u001b[39m\u001b[37m█\u001b[39m\u001b[37m█\u001b[39m\u001b[37m█\u001b[39m\u001b[37m█\u001b[39m\u001b[37m█\u001b[39m\u001b[37m█\u001b[39m\u001b[37m█\u001b[39m building (15%) \u001b[90m42/53 modules\u001b[39m \u001b[90m11 active\u001b[39m\n",
            " \u001b[90mnode_modules/vue-meta/dist/vue-meta.esm.browser.js\u001b[39m\n",
            "\n",
            "\u001b[93m●\u001b[39m \u001b[93mServer\u001b[39m \u001b[93m█\u001b[39m\u001b[93m█\u001b[39m\u001b[93m█\u001b[39m\u001b[37m█\u001b[39m\u001b[37m█\u001b[39m\u001b[37m█\u001b[39m\u001b[37m█\u001b[39m\u001b[37m█\u001b[39m\u001b[37m█\u001b[39m\u001b[37m█\u001b[39m\u001b[37m█\u001b[39m\u001b[37m█\u001b[39m\u001b[37m█\u001b[39m\u001b[37m█\u001b[39m\u001b[37m█\u001b[39m\u001b[37m█\u001b[39m\u001b[37m█\u001b[39m\u001b[37m█\u001b[39m\u001b[37m█\u001b[39m\u001b[37m█\u001b[39m\u001b[37m█\u001b[39m\u001b[37m█\u001b[39m\u001b[37m█\u001b[39m\u001b[37m█\u001b[39m\u001b[37m█\u001b[39m building (11%) \u001b[90m15/24 modules\u001b[39m \u001b[90m9 active\u001b[39m\n",
            " \u001b[90mbabel-loader \u001b[34m›\u001b[90m plugins/filters.js\u001b[39m\n",
            "\n",
            "\u001b[2K\u001b[1A\u001b[2K\u001b[1A\u001b[2K\u001b[1A\u001b[2K\u001b[1A\u001b[2K\u001b[1A\u001b[2K\u001b[1A\u001b[2K\u001b[1A\u001b[2K\u001b[G\n",
            "\u001b[32m●\u001b[39m \u001b[32mClient\u001b[39m \u001b[32m█\u001b[39m\u001b[32m█\u001b[39m\u001b[32m█\u001b[39m\u001b[32m█\u001b[39m\u001b[37m█\u001b[39m\u001b[37m█\u001b[39m\u001b[37m█\u001b[39m\u001b[37m█\u001b[39m\u001b[37m█\u001b[39m\u001b[37m█\u001b[39m\u001b[37m█\u001b[39m\u001b[37m█\u001b[39m\u001b[37m█\u001b[39m\u001b[37m█\u001b[39m\u001b[37m█\u001b[39m\u001b[37m█\u001b[39m\u001b[37m█\u001b[39m\u001b[37m█\u001b[39m\u001b[37m█\u001b[39m\u001b[37m█\u001b[39m\u001b[37m█\u001b[39m\u001b[37m█\u001b[39m\u001b[37m█\u001b[39m\u001b[37m█\u001b[39m\u001b[37m█\u001b[39m building (15%) \u001b[90m43/69 modules\u001b[39m \u001b[90m26 active\u001b[39m\n",
            " \u001b[90mnode_modules/@babel/runtime/helpers/esm/nonIterableSpread.js\u001b[39m\n",
            "\n",
            "\u001b[93m●\u001b[39m \u001b[93mServer\u001b[39m \u001b[93m█\u001b[39m\u001b[93m█\u001b[39m\u001b[93m█\u001b[39m\u001b[93m█\u001b[39m\u001b[37m█\u001b[39m\u001b[37m█\u001b[39m\u001b[37m█\u001b[39m\u001b[37m█\u001b[39m\u001b[37m█\u001b[39m\u001b[37m█\u001b[39m\u001b[37m█\u001b[39m\u001b[37m█\u001b[39m\u001b[37m█\u001b[39m\u001b[37m█\u001b[39m\u001b[37m█\u001b[39m\u001b[37m█\u001b[39m\u001b[37m█\u001b[39m\u001b[37m█\u001b[39m\u001b[37m█\u001b[39m\u001b[37m█\u001b[39m\u001b[37m█\u001b[39m\u001b[37m█\u001b[39m\u001b[37m█\u001b[39m\u001b[37m█\u001b[39m\u001b[37m█\u001b[39m building (13%) \u001b[90m25/27 modules\u001b[39m \u001b[90m2 active\u001b[39m\n",
            " \u001b[90mbabel-loader \u001b[34m›\u001b[90m plugins/filters.js\u001b[39m\n",
            "\n",
            "\u001b[2K\u001b[1A\u001b[2K\u001b[1A\u001b[2K\u001b[1A\u001b[2K\u001b[1A\u001b[2K\u001b[1A\u001b[2K\u001b[1A\u001b[2K\u001b[1A\u001b[2K\u001b[G\n",
            "\u001b[32m●\u001b[39m \u001b[32mClient\u001b[39m \u001b[32m█\u001b[39m\u001b[32m█\u001b[39m\u001b[32m█\u001b[39m\u001b[32m█\u001b[39m\u001b[37m█\u001b[39m\u001b[37m█\u001b[39m\u001b[37m█\u001b[39m\u001b[37m█\u001b[39m\u001b[37m█\u001b[39m\u001b[37m█\u001b[39m\u001b[37m█\u001b[39m\u001b[37m█\u001b[39m\u001b[37m█\u001b[39m\u001b[37m█\u001b[39m\u001b[37m█\u001b[39m\u001b[37m█\u001b[39m\u001b[37m█\u001b[39m\u001b[37m█\u001b[39m\u001b[37m█\u001b[39m\u001b[37m█\u001b[39m\u001b[37m█\u001b[39m\u001b[37m█\u001b[39m\u001b[37m█\u001b[39m\u001b[37m█\u001b[39m\u001b[37m█\u001b[39m building (15%) \u001b[90m45/91 modules\u001b[39m \u001b[90m46 active\u001b[39m\n",
            " \u001b[90mnode_modules/core-js/modules/_to-iobject.js\u001b[39m\n",
            "\n",
            "\u001b[93m●\u001b[39m \u001b[93mServer\u001b[39m \u001b[93m█\u001b[39m\u001b[93m█\u001b[39m\u001b[93m█\u001b[39m\u001b[93m█\u001b[39m\u001b[37m█\u001b[39m\u001b[37m█\u001b[39m\u001b[37m█\u001b[39m\u001b[37m█\u001b[39m\u001b[37m█\u001b[39m\u001b[37m█\u001b[39m\u001b[37m█\u001b[39m\u001b[37m█\u001b[39m\u001b[37m█\u001b[39m\u001b[37m█\u001b[39m\u001b[37m█\u001b[39m\u001b[37m█\u001b[39m\u001b[37m█\u001b[39m\u001b[37m█\u001b[39m\u001b[37m█\u001b[39m\u001b[37m█\u001b[39m\u001b[37m█\u001b[39m\u001b[37m█\u001b[39m\u001b[37m█\u001b[39m\u001b[37m█\u001b[39m\u001b[37m█\u001b[39m building (13%) \u001b[90m25/28 modules\u001b[39m \u001b[90m3 active\u001b[39m\n",
            " \u001b[90mbabel-loader \u001b[34m›\u001b[90m .nuxt/router.scrollBehavior.js\u001b[39m\n",
            "\n",
            "\u001b[2K\u001b[1A\u001b[2K\u001b[1A\u001b[2K\u001b[1A\u001b[2K\u001b[1A\u001b[2K\u001b[1A\u001b[2K\u001b[1A\u001b[2K\u001b[1A\u001b[2K\u001b[G\n",
            "\u001b[32m●\u001b[39m \u001b[32mClient\u001b[39m \u001b[32m█\u001b[39m\u001b[32m█\u001b[39m\u001b[32m█\u001b[39m\u001b[32m█\u001b[39m\u001b[37m█\u001b[39m\u001b[37m█\u001b[39m\u001b[37m█\u001b[39m\u001b[37m█\u001b[39m\u001b[37m█\u001b[39m\u001b[37m█\u001b[39m\u001b[37m█\u001b[39m\u001b[37m█\u001b[39m\u001b[37m█\u001b[39m\u001b[37m█\u001b[39m\u001b[37m█\u001b[39m\u001b[37m█\u001b[39m\u001b[37m█\u001b[39m\u001b[37m█\u001b[39m\u001b[37m█\u001b[39m\u001b[37m█\u001b[39m\u001b[37m█\u001b[39m\u001b[37m█\u001b[39m\u001b[37m█\u001b[39m\u001b[37m█\u001b[39m\u001b[37m█\u001b[39m building (15%) \u001b[90m49/115 modules\u001b[39m \u001b[90m66 active\u001b[39m\n",
            " \u001b[90mnode_modules/core-js/modules/_add-to-unscopables.js\u001b[39m\n",
            "\n",
            "\u001b[93m●\u001b[39m \u001b[93mServer\u001b[39m \u001b[93m█\u001b[39m\u001b[93m█\u001b[39m\u001b[93m█\u001b[39m\u001b[93m█\u001b[39m\u001b[37m█\u001b[39m\u001b[37m█\u001b[39m\u001b[37m█\u001b[39m\u001b[37m█\u001b[39m\u001b[37m█\u001b[39m\u001b[37m█\u001b[39m\u001b[37m█\u001b[39m\u001b[37m█\u001b[39m\u001b[37m█\u001b[39m\u001b[37m█\u001b[39m\u001b[37m█\u001b[39m\u001b[37m█\u001b[39m\u001b[37m█\u001b[39m\u001b[37m█\u001b[39m\u001b[37m█\u001b[39m\u001b[37m█\u001b[39m\u001b[37m█\u001b[39m\u001b[37m█\u001b[39m\u001b[37m█\u001b[39m\u001b[37m█\u001b[39m\u001b[37m█\u001b[39m building (13%) \u001b[90m25/29 modules\u001b[39m \u001b[90m4 active\u001b[39m\n",
            " \u001b[90mbabel-loader \u001b[34m›\u001b[90m store/index.js\u001b[39m\n",
            "\n",
            "\u001b[2K\u001b[1A\u001b[2K\u001b[1A\u001b[2K\u001b[1A\u001b[2K\u001b[1A\u001b[2K\u001b[1A\u001b[2K\u001b[1A\u001b[2K\u001b[1A\u001b[2K\u001b[G\n",
            "\u001b[32m●\u001b[39m \u001b[32mClient\u001b[39m \u001b[32m█\u001b[39m\u001b[32m█\u001b[39m\u001b[32m█\u001b[39m\u001b[32m█\u001b[39m\u001b[32m█\u001b[39m\u001b[37m█\u001b[39m\u001b[37m█\u001b[39m\u001b[37m█\u001b[39m\u001b[37m█\u001b[39m\u001b[37m█\u001b[39m\u001b[37m█\u001b[39m\u001b[37m█\u001b[39m\u001b[37m█\u001b[39m\u001b[37m█\u001b[39m\u001b[37m█\u001b[39m\u001b[37m█\u001b[39m\u001b[37m█\u001b[39m\u001b[37m█\u001b[39m\u001b[37m█\u001b[39m\u001b[37m█\u001b[39m\u001b[37m█\u001b[39m\u001b[37m█\u001b[39m\u001b[37m█\u001b[39m\u001b[37m█\u001b[39m\u001b[37m█\u001b[39m building (17%) \u001b[90m64/115 modules\u001b[39m \u001b[90m51 active\u001b[39m\n",
            " \u001b[90mnode_modules/core-js/modules/_add-to-unscopables.js\u001b[39m\n",
            "\n",
            "\u001b[93m●\u001b[39m \u001b[93mServer\u001b[39m \u001b[93m█\u001b[39m\u001b[93m█\u001b[39m\u001b[93m█\u001b[39m\u001b[93m█\u001b[39m\u001b[37m█\u001b[39m\u001b[37m█\u001b[39m\u001b[37m█\u001b[39m\u001b[37m█\u001b[39m\u001b[37m█\u001b[39m\u001b[37m█\u001b[39m\u001b[37m█\u001b[39m\u001b[37m█\u001b[39m\u001b[37m█\u001b[39m\u001b[37m█\u001b[39m\u001b[37m█\u001b[39m\u001b[37m█\u001b[39m\u001b[37m█\u001b[39m\u001b[37m█\u001b[39m\u001b[37m█\u001b[39m\u001b[37m█\u001b[39m\u001b[37m█\u001b[39m\u001b[37m█\u001b[39m\u001b[37m█\u001b[39m\u001b[37m█\u001b[39m\u001b[37m█\u001b[39m building (13%) \u001b[90m25/29 modules\u001b[39m \u001b[90m4 active\u001b[39m\n",
            " \u001b[90mbabel-loader \u001b[34m›\u001b[90m store/index.js\u001b[39m\n",
            "\n",
            "\u001b[2K\u001b[1A\u001b[2K\u001b[1A\u001b[2K\u001b[1A\u001b[2K\u001b[1A\u001b[2K\u001b[1A\u001b[2K\u001b[1A\u001b[2K\u001b[1A\u001b[2K\u001b[G\n",
            "\u001b[32m●\u001b[39m \u001b[32mClient\u001b[39m \u001b[32m█\u001b[39m\u001b[32m█\u001b[39m\u001b[32m█\u001b[39m\u001b[32m█\u001b[39m\u001b[32m█\u001b[39m\u001b[37m█\u001b[39m\u001b[37m█\u001b[39m\u001b[37m█\u001b[39m\u001b[37m█\u001b[39m\u001b[37m█\u001b[39m\u001b[37m█\u001b[39m\u001b[37m█\u001b[39m\u001b[37m█\u001b[39m\u001b[37m█\u001b[39m\u001b[37m█\u001b[39m\u001b[37m█\u001b[39m\u001b[37m█\u001b[39m\u001b[37m█\u001b[39m\u001b[37m█\u001b[39m\u001b[37m█\u001b[39m\u001b[37m█\u001b[39m\u001b[37m█\u001b[39m\u001b[37m█\u001b[39m\u001b[37m█\u001b[39m\u001b[37m█\u001b[39m building (18%) \u001b[90m70/115 modules\u001b[39m \u001b[90m45 active\u001b[39m\n",
            " \u001b[90mnode_modules/core-js/modules/_add-to-unscopables.js\u001b[39m\n",
            "\n",
            "\u001b[93m●\u001b[39m \u001b[93mServer\u001b[39m \u001b[93m█\u001b[39m\u001b[93m█\u001b[39m\u001b[93m█\u001b[39m\u001b[93m█\u001b[39m\u001b[37m█\u001b[39m\u001b[37m█\u001b[39m\u001b[37m█\u001b[39m\u001b[37m█\u001b[39m\u001b[37m█\u001b[39m\u001b[37m█\u001b[39m\u001b[37m█\u001b[39m\u001b[37m█\u001b[39m\u001b[37m█\u001b[39m\u001b[37m█\u001b[39m\u001b[37m█\u001b[39m\u001b[37m█\u001b[39m\u001b[37m█\u001b[39m\u001b[37m█\u001b[39m\u001b[37m█\u001b[39m\u001b[37m█\u001b[39m\u001b[37m█\u001b[39m\u001b[37m█\u001b[39m\u001b[37m█\u001b[39m\u001b[37m█\u001b[39m\u001b[37m█\u001b[39m building (13%) \u001b[90m27/29 modules\u001b[39m \u001b[90m2 active\u001b[39m\n",
            " \u001b[90mbabel-loader \u001b[34m›\u001b[90m store/index.js\u001b[39m\n",
            "\n",
            "\u001b[2K\u001b[1A\u001b[2K\u001b[1A\u001b[2K\u001b[1A\u001b[2K\u001b[1A\u001b[2K\u001b[1A\u001b[2K\u001b[1A\u001b[2K\u001b[1A\u001b[2K\u001b[G\n",
            "\u001b[32m●\u001b[39m \u001b[32mClient\u001b[39m \u001b[32m█\u001b[39m\u001b[32m█\u001b[39m\u001b[32m█\u001b[39m\u001b[32m█\u001b[39m\u001b[32m█\u001b[39m\u001b[32m█\u001b[39m\u001b[37m█\u001b[39m\u001b[37m█\u001b[39m\u001b[37m█\u001b[39m\u001b[37m█\u001b[39m\u001b[37m█\u001b[39m\u001b[37m█\u001b[39m\u001b[37m█\u001b[39m\u001b[37m█\u001b[39m\u001b[37m█\u001b[39m\u001b[37m█\u001b[39m\u001b[37m█\u001b[39m\u001b[37m█\u001b[39m\u001b[37m█\u001b[39m\u001b[37m█\u001b[39m\u001b[37m█\u001b[39m\u001b[37m█\u001b[39m\u001b[37m█\u001b[39m\u001b[37m█\u001b[39m\u001b[37m█\u001b[39m building (21%) \u001b[90m99/116 modules\u001b[39m \u001b[90m17 active\u001b[39m\n",
            " \u001b[90mnode_modules/core-js/modules/_promise-resolve.js\u001b[39m\n",
            "\n",
            "\u001b[93m●\u001b[39m \u001b[93mServer\u001b[39m \u001b[93m█\u001b[39m\u001b[93m█\u001b[39m\u001b[93m█\u001b[39m\u001b[93m█\u001b[39m\u001b[37m█\u001b[39m\u001b[37m█\u001b[39m\u001b[37m█\u001b[39m\u001b[37m█\u001b[39m\u001b[37m█\u001b[39m\u001b[37m█\u001b[39m\u001b[37m█\u001b[39m\u001b[37m█\u001b[39m\u001b[37m█\u001b[39m\u001b[37m█\u001b[39m\u001b[37m█\u001b[39m\u001b[37m█\u001b[39m\u001b[37m█\u001b[39m\u001b[37m█\u001b[39m\u001b[37m█\u001b[39m\u001b[37m█\u001b[39m\u001b[37m█\u001b[39m\u001b[37m█\u001b[39m\u001b[37m█\u001b[39m\u001b[37m█\u001b[39m\u001b[37m█\u001b[39m building (13%) \u001b[90m27/29 modules\u001b[39m \u001b[90m2 active\u001b[39m\n",
            " \u001b[90mbabel-loader \u001b[34m›\u001b[90m store/index.js\u001b[39m\n",
            "\n",
            "\u001b[2K\u001b[1A\u001b[2K\u001b[1A\u001b[2K\u001b[1A\u001b[2K\u001b[1A\u001b[2K\u001b[1A\u001b[2K\u001b[1A\u001b[2K\u001b[1A\u001b[2K\u001b[G\n",
            "\u001b[32m●\u001b[39m \u001b[32mClient\u001b[39m \u001b[32m█\u001b[39m\u001b[32m█\u001b[39m\u001b[32m█\u001b[39m\u001b[32m█\u001b[39m\u001b[32m█\u001b[39m\u001b[32m█\u001b[39m\u001b[37m█\u001b[39m\u001b[37m█\u001b[39m\u001b[37m█\u001b[39m\u001b[37m█\u001b[39m\u001b[37m█\u001b[39m\u001b[37m█\u001b[39m\u001b[37m█\u001b[39m\u001b[37m█\u001b[39m\u001b[37m█\u001b[39m\u001b[37m█\u001b[39m\u001b[37m█\u001b[39m\u001b[37m█\u001b[39m\u001b[37m█\u001b[39m\u001b[37m█\u001b[39m\u001b[37m█\u001b[39m\u001b[37m█\u001b[39m\u001b[37m█\u001b[39m\u001b[37m█\u001b[39m\u001b[37m█\u001b[39m building (23%) \u001b[90m113/121 modules\u001b[39m \u001b[90m8 active\u001b[39m\n",
            " \u001b[90mnode_modules/timers-browserify/main.js\u001b[39m\n",
            "\n",
            "\u001b[93m●\u001b[39m \u001b[93mServer\u001b[39m \u001b[93m█\u001b[39m\u001b[93m█\u001b[39m\u001b[93m█\u001b[39m\u001b[93m█\u001b[39m\u001b[37m█\u001b[39m\u001b[37m█\u001b[39m\u001b[37m█\u001b[39m\u001b[37m█\u001b[39m\u001b[37m█\u001b[39m\u001b[37m█\u001b[39m\u001b[37m█\u001b[39m\u001b[37m█\u001b[39m\u001b[37m█\u001b[39m\u001b[37m█\u001b[39m\u001b[37m█\u001b[39m\u001b[37m█\u001b[39m\u001b[37m█\u001b[39m\u001b[37m█\u001b[39m\u001b[37m█\u001b[39m\u001b[37m█\u001b[39m\u001b[37m█\u001b[39m\u001b[37m█\u001b[39m\u001b[37m█\u001b[39m\u001b[37m█\u001b[39m\u001b[37m█\u001b[39m building (13%) \u001b[90m27/29 modules\u001b[39m \u001b[90m2 active\u001b[39m\n",
            " \u001b[90mbabel-loader \u001b[34m›\u001b[90m store/index.js\u001b[39m\n",
            "\n",
            "\u001b[2K\u001b[1A\u001b[2K\u001b[1A\u001b[2K\u001b[1A\u001b[2K\u001b[1A\u001b[2K\u001b[1A\u001b[2K\u001b[1A\u001b[2K\u001b[1A\u001b[2K\u001b[G\n",
            "\u001b[32m●\u001b[39m \u001b[32mClient\u001b[39m \u001b[32m█\u001b[39m\u001b[32m█\u001b[39m\u001b[32m█\u001b[39m\u001b[32m█\u001b[39m\u001b[32m█\u001b[39m\u001b[32m█\u001b[39m\u001b[37m█\u001b[39m\u001b[37m█\u001b[39m\u001b[37m█\u001b[39m\u001b[37m█\u001b[39m\u001b[37m█\u001b[39m\u001b[37m█\u001b[39m\u001b[37m█\u001b[39m\u001b[37m█\u001b[39m\u001b[37m█\u001b[39m\u001b[37m█\u001b[39m\u001b[37m█\u001b[39m\u001b[37m█\u001b[39m\u001b[37m█\u001b[39m\u001b[37m█\u001b[39m\u001b[37m█\u001b[39m\u001b[37m█\u001b[39m\u001b[37m█\u001b[39m\u001b[37m█\u001b[39m\u001b[37m█\u001b[39m building (24%) \u001b[90m120/143 modules\u001b[39m \u001b[90m23 active\u001b[39m\n",
            " \u001b[90mnode_modules/@babel/runtime/helpers/esm/arrayWithHoles.js\u001b[39m\n",
            "\n",
            "\u001b[93m●\u001b[39m \u001b[93mServer\u001b[39m \u001b[93m█\u001b[39m\u001b[93m█\u001b[39m\u001b[93m█\u001b[39m\u001b[93m█\u001b[39m\u001b[37m█\u001b[39m\u001b[37m█\u001b[39m\u001b[37m█\u001b[39m\u001b[37m█\u001b[39m\u001b[37m█\u001b[39m\u001b[37m█\u001b[39m\u001b[37m█\u001b[39m\u001b[37m█\u001b[39m\u001b[37m█\u001b[39m\u001b[37m█\u001b[39m\u001b[37m█\u001b[39m\u001b[37m█\u001b[39m\u001b[37m█\u001b[39m\u001b[37m█\u001b[39m\u001b[37m█\u001b[39m\u001b[37m█\u001b[39m\u001b[37m█\u001b[39m\u001b[37m█\u001b[39m\u001b[37m█\u001b[39m\u001b[37m█\u001b[39m\u001b[37m█\u001b[39m building (13%) \u001b[90m29/29 modules\u001b[39m \u001b[90m0 active\u001b[39m\n",
            " \n",
            "\n",
            "\u001b[2K\u001b[1A\u001b[2K\u001b[1A\u001b[2K\u001b[1A\u001b[2K\u001b[1A\u001b[2K\u001b[1A\u001b[2K\u001b[1A\u001b[2K\u001b[1A\u001b[2K\u001b[G\n",
            "\u001b[32m●\u001b[39m \u001b[32mClient\u001b[39m \u001b[32m█\u001b[39m\u001b[32m█\u001b[39m\u001b[32m█\u001b[39m\u001b[32m█\u001b[39m\u001b[32m█\u001b[39m\u001b[32m█\u001b[39m\u001b[32m█\u001b[39m\u001b[37m█\u001b[39m\u001b[37m█\u001b[39m\u001b[37m█\u001b[39m\u001b[37m█\u001b[39m\u001b[37m█\u001b[39m\u001b[37m█\u001b[39m\u001b[37m█\u001b[39m\u001b[37m█\u001b[39m\u001b[37m█\u001b[39m\u001b[37m█\u001b[39m\u001b[37m█\u001b[39m\u001b[37m█\u001b[39m\u001b[37m█\u001b[39m\u001b[37m█\u001b[39m\u001b[37m█\u001b[39m\u001b[37m█\u001b[39m\u001b[37m█\u001b[39m\u001b[37m█\u001b[39m building (26%) \u001b[90m136/169 modules\u001b[39m \u001b[90m33 active\u001b[39m\n",
            " \u001b[90mnode_modules/core-js/modules/_object-dps.js\u001b[39m\n",
            "\n",
            "\u001b[93m●\u001b[39m \u001b[93mServer\u001b[39m \u001b[93m█\u001b[39m\u001b[93m█\u001b[39m\u001b[93m█\u001b[39m\u001b[93m█\u001b[39m\u001b[37m█\u001b[39m\u001b[37m█\u001b[39m\u001b[37m█\u001b[39m\u001b[37m█\u001b[39m\u001b[37m█\u001b[39m\u001b[37m█\u001b[39m\u001b[37m█\u001b[39m\u001b[37m█\u001b[39m\u001b[37m█\u001b[39m\u001b[37m█\u001b[39m\u001b[37m█\u001b[39m\u001b[37m█\u001b[39m\u001b[37m█\u001b[39m\u001b[37m█\u001b[39m\u001b[37m█\u001b[39m\u001b[37m█\u001b[39m\u001b[37m█\u001b[39m\u001b[37m█\u001b[39m\u001b[37m█\u001b[39m\u001b[37m█\u001b[39m\u001b[37m█\u001b[39m building (13%) \u001b[90m29/29 modules\u001b[39m \u001b[90m0 active\u001b[39m\n",
            " \n",
            "\n",
            "\u001b[2K\u001b[1A\u001b[2K\u001b[1A\u001b[2K\u001b[1A\u001b[2K\u001b[1A\u001b[2K\u001b[1A\u001b[2K\u001b[1A\u001b[2K\u001b[1A\u001b[2K\u001b[G\n",
            "\u001b[32m●\u001b[39m \u001b[32mClient\u001b[39m \u001b[32m█\u001b[39m\u001b[32m█\u001b[39m\u001b[32m█\u001b[39m\u001b[32m█\u001b[39m\u001b[32m█\u001b[39m\u001b[32m█\u001b[39m\u001b[32m█\u001b[39m\u001b[37m█\u001b[39m\u001b[37m█\u001b[39m\u001b[37m█\u001b[39m\u001b[37m█\u001b[39m\u001b[37m█\u001b[39m\u001b[37m█\u001b[39m\u001b[37m█\u001b[39m\u001b[37m█\u001b[39m\u001b[37m█\u001b[39m\u001b[37m█\u001b[39m\u001b[37m█\u001b[39m\u001b[37m█\u001b[39m\u001b[37m█\u001b[39m\u001b[37m█\u001b[39m\u001b[37m█\u001b[39m\u001b[37m█\u001b[39m\u001b[37m█\u001b[39m\u001b[37m█\u001b[39m building (26%) \u001b[90m138/170 modules\u001b[39m \u001b[90m32 active\u001b[39m\n",
            " \u001b[90mnode_modules/core-js/modules/_array-includes.js\u001b[39m\n",
            "\n",
            "\u001b[93m●\u001b[39m \u001b[93mServer\u001b[39m \u001b[93m█\u001b[39m\u001b[93m█\u001b[39m\u001b[93m█\u001b[39m\u001b[93m█\u001b[39m\u001b[37m█\u001b[39m\u001b[37m█\u001b[39m\u001b[37m█\u001b[39m\u001b[37m█\u001b[39m\u001b[37m█\u001b[39m\u001b[37m█\u001b[39m\u001b[37m█\u001b[39m\u001b[37m█\u001b[39m\u001b[37m█\u001b[39m\u001b[37m█\u001b[39m\u001b[37m█\u001b[39m\u001b[37m█\u001b[39m\u001b[37m█\u001b[39m\u001b[37m█\u001b[39m\u001b[37m█\u001b[39m\u001b[37m█\u001b[39m\u001b[37m█\u001b[39m\u001b[37m█\u001b[39m\u001b[37m█\u001b[39m\u001b[37m█\u001b[39m\u001b[37m█\u001b[39m building (13%) \u001b[90m29/29 modules\u001b[39m \u001b[90m0 active\u001b[39m\n",
            " \n",
            "\n",
            "\u001b[2K\u001b[1A\u001b[2K\u001b[1A\u001b[2K\u001b[1A\u001b[2K\u001b[1A\u001b[2K\u001b[1A\u001b[2K\u001b[1A\u001b[2K\u001b[1A\u001b[2K\u001b[G\n",
            "\u001b[32m●\u001b[39m \u001b[32mClient\u001b[39m \u001b[32m█\u001b[39m\u001b[32m█\u001b[39m\u001b[32m█\u001b[39m\u001b[32m█\u001b[39m\u001b[32m█\u001b[39m\u001b[32m█\u001b[39m\u001b[32m█\u001b[39m\u001b[32m█\u001b[39m\u001b[37m█\u001b[39m\u001b[37m█\u001b[39m\u001b[37m█\u001b[39m\u001b[37m█\u001b[39m\u001b[37m█\u001b[39m\u001b[37m█\u001b[39m\u001b[37m█\u001b[39m\u001b[37m█\u001b[39m\u001b[37m█\u001b[39m\u001b[37m█\u001b[39m\u001b[37m█\u001b[39m\u001b[37m█\u001b[39m\u001b[37m█\u001b[39m\u001b[37m█\u001b[39m\u001b[37m█\u001b[39m\u001b[37m█\u001b[39m\u001b[37m█\u001b[39m building (30%) \u001b[90m170/180 modules\u001b[39m \u001b[90m10 active\u001b[39m\n",
            " \u001b[90mnode_modules/core-js/modules/es6.number.constructor.js\u001b[39m\n",
            "\n",
            "\u001b[93m●\u001b[39m \u001b[93mServer\u001b[39m \u001b[93m█\u001b[39m\u001b[93m█\u001b[39m\u001b[93m█\u001b[39m\u001b[93m█\u001b[39m\u001b[37m█\u001b[39m\u001b[37m█\u001b[39m\u001b[37m█\u001b[39m\u001b[37m█\u001b[39m\u001b[37m█\u001b[39m\u001b[37m█\u001b[39m\u001b[37m█\u001b[39m\u001b[37m█\u001b[39m\u001b[37m█\u001b[39m\u001b[37m█\u001b[39m\u001b[37m█\u001b[39m\u001b[37m█\u001b[39m\u001b[37m█\u001b[39m\u001b[37m█\u001b[39m\u001b[37m█\u001b[39m\u001b[37m█\u001b[39m\u001b[37m█\u001b[39m\u001b[37m█\u001b[39m\u001b[37m█\u001b[39m\u001b[37m█\u001b[39m\u001b[37m█\u001b[39m building (13%) \u001b[90m30/37 modules\u001b[39m \u001b[90m7 active\u001b[39m\n",
            " \u001b[90mvue-loader \u001b[34m›\u001b[90m .nuxt/components/nuxt-build-indicator.vue\u001b[39m\n",
            "\n",
            "\u001b[2K\u001b[1A\u001b[2K\u001b[1A\u001b[2K\u001b[1A\u001b[2K\u001b[1A\u001b[2K\u001b[1A\u001b[2K\u001b[1A\u001b[2K\u001b[1A\u001b[2K\u001b[G\n",
            "\u001b[32m●\u001b[39m \u001b[32mClient\u001b[39m \u001b[32m█\u001b[39m\u001b[32m█\u001b[39m\u001b[32m█\u001b[39m\u001b[32m█\u001b[39m\u001b[32m█\u001b[39m\u001b[32m█\u001b[39m\u001b[32m█\u001b[39m\u001b[32m█\u001b[39m\u001b[37m█\u001b[39m\u001b[37m█\u001b[39m\u001b[37m█\u001b[39m\u001b[37m█\u001b[39m\u001b[37m█\u001b[39m\u001b[37m█\u001b[39m\u001b[37m█\u001b[39m\u001b[37m█\u001b[39m\u001b[37m█\u001b[39m\u001b[37m█\u001b[39m\u001b[37m█\u001b[39m\u001b[37m█\u001b[39m\u001b[37m█\u001b[39m\u001b[37m█\u001b[39m\u001b[37m█\u001b[39m\u001b[37m█\u001b[39m\u001b[37m█\u001b[39m building (30%) \u001b[90m171/180 modules\u001b[39m \u001b[90m9 active\u001b[39m\n",
            " \u001b[90mnode_modules/core-js/modules/es6.number.constructor.js\u001b[39m\n",
            "\n",
            "\u001b[93m●\u001b[39m \u001b[93mServer\u001b[39m \u001b[93m█\u001b[39m\u001b[93m█\u001b[39m\u001b[93m█\u001b[39m\u001b[93m█\u001b[39m\u001b[37m█\u001b[39m\u001b[37m█\u001b[39m\u001b[37m█\u001b[39m\u001b[37m█\u001b[39m\u001b[37m█\u001b[39m\u001b[37m█\u001b[39m\u001b[37m█\u001b[39m\u001b[37m█\u001b[39m\u001b[37m█\u001b[39m\u001b[37m█\u001b[39m\u001b[37m█\u001b[39m\u001b[37m█\u001b[39m\u001b[37m█\u001b[39m\u001b[37m█\u001b[39m\u001b[37m█\u001b[39m\u001b[37m█\u001b[39m\u001b[37m█\u001b[39m\u001b[37m█\u001b[39m\u001b[37m█\u001b[39m\u001b[37m█\u001b[39m\u001b[37m█\u001b[39m building (14%) \u001b[90m37/38 modules\u001b[39m \u001b[90m1 active\u001b[39m\n",
            " \u001b[90mbabel-loader \u001b[34m›\u001b[90m common/api.js\u001b[39m\n",
            "\n",
            "\u001b[2K\u001b[1A\u001b[2K\u001b[1A\u001b[2K\u001b[1A\u001b[2K\u001b[1A\u001b[2K\u001b[1A\u001b[2K\u001b[1A\u001b[2K\u001b[1A\u001b[2K\u001b[G\n",
            "\u001b[32m●\u001b[39m \u001b[32mClient\u001b[39m \u001b[32m█\u001b[39m\u001b[32m█\u001b[39m\u001b[32m█\u001b[39m\u001b[32m█\u001b[39m\u001b[32m█\u001b[39m\u001b[32m█\u001b[39m\u001b[32m█\u001b[39m\u001b[32m█\u001b[39m\u001b[37m█\u001b[39m\u001b[37m█\u001b[39m\u001b[37m█\u001b[39m\u001b[37m█\u001b[39m\u001b[37m█\u001b[39m\u001b[37m█\u001b[39m\u001b[37m█\u001b[39m\u001b[37m█\u001b[39m\u001b[37m█\u001b[39m\u001b[37m█\u001b[39m\u001b[37m█\u001b[39m\u001b[37m█\u001b[39m\u001b[37m█\u001b[39m\u001b[37m█\u001b[39m\u001b[37m█\u001b[39m\u001b[37m█\u001b[39m\u001b[37m█\u001b[39m building (31%) \u001b[90m180/186 modules\u001b[39m \u001b[90m6 active\u001b[39m\n",
            " \u001b[90mnode_modules/defu/dist/defu.js\u001b[39m\n",
            "\n",
            "\u001b[93m●\u001b[39m \u001b[93mServer\u001b[39m \u001b[93m█\u001b[39m\u001b[93m█\u001b[39m\u001b[93m█\u001b[39m\u001b[93m█\u001b[39m\u001b[37m█\u001b[39m\u001b[37m█\u001b[39m\u001b[37m█\u001b[39m\u001b[37m█\u001b[39m\u001b[37m█\u001b[39m\u001b[37m█\u001b[39m\u001b[37m█\u001b[39m\u001b[37m█\u001b[39m\u001b[37m█\u001b[39m\u001b[37m█\u001b[39m\u001b[37m█\u001b[39m\u001b[37m█\u001b[39m\u001b[37m█\u001b[39m\u001b[37m█\u001b[39m\u001b[37m█\u001b[39m\u001b[37m█\u001b[39m\u001b[37m█\u001b[39m\u001b[37m█\u001b[39m\u001b[37m█\u001b[39m\u001b[37m█\u001b[39m\u001b[37m█\u001b[39m building (14%) \u001b[90m37/40 modules\u001b[39m \u001b[90m3 active\u001b[39m\n",
            " \u001b[90mnode_modules/vue-loader/lib/runtime/componentNormalizer.js\u001b[39m\n",
            "\n",
            "\u001b[2K\u001b[1A\u001b[2K\u001b[1A\u001b[2K\u001b[1A\u001b[2K\u001b[1A\u001b[2K\u001b[1A\u001b[2K\u001b[1A\u001b[2K\u001b[1A\u001b[2K\u001b[G\n",
            "\u001b[32m●\u001b[39m \u001b[32mClient\u001b[39m \u001b[32m█\u001b[39m\u001b[32m█\u001b[39m\u001b[32m█\u001b[39m\u001b[32m█\u001b[39m\u001b[32m█\u001b[39m\u001b[32m█\u001b[39m\u001b[32m█\u001b[39m\u001b[32m█\u001b[39m\u001b[37m█\u001b[39m\u001b[37m█\u001b[39m\u001b[37m█\u001b[39m\u001b[37m█\u001b[39m\u001b[37m█\u001b[39m\u001b[37m█\u001b[39m\u001b[37m█\u001b[39m\u001b[37m█\u001b[39m\u001b[37m█\u001b[39m\u001b[37m█\u001b[39m\u001b[37m█\u001b[39m\u001b[37m█\u001b[39m\u001b[37m█\u001b[39m\u001b[37m█\u001b[39m\u001b[37m█\u001b[39m\u001b[37m█\u001b[39m\u001b[37m█\u001b[39m building (32%) \u001b[90m191/195 modules\u001b[39m \u001b[90m4 active\u001b[39m\n",
            " \u001b[90mnode_modules/vue-hot-reload-api/dist/index.js\u001b[39m\n",
            "\n",
            "\u001b[93m●\u001b[39m \u001b[93mServer\u001b[39m \u001b[93m█\u001b[39m\u001b[93m█\u001b[39m\u001b[93m█\u001b[39m\u001b[93m█\u001b[39m\u001b[37m█\u001b[39m\u001b[37m█\u001b[39m\u001b[37m█\u001b[39m\u001b[37m█\u001b[39m\u001b[37m█\u001b[39m\u001b[37m█\u001b[39m\u001b[37m█\u001b[39m\u001b[37m█\u001b[39m\u001b[37m█\u001b[39m\u001b[37m█\u001b[39m\u001b[37m█\u001b[39m\u001b[37m█\u001b[39m\u001b[37m█\u001b[39m\u001b[37m█\u001b[39m\u001b[37m█\u001b[39m\u001b[37m█\u001b[39m\u001b[37m█\u001b[39m\u001b[37m█\u001b[39m\u001b[37m█\u001b[39m\u001b[37m█\u001b[39m\u001b[37m█\u001b[39m building (14%) \u001b[90m38/40 modules\u001b[39m \u001b[90m2 active\u001b[39m\n",
            " \u001b[90mbabel-loader \u001b[34m›\u001b[90m common/utils.js\u001b[39m\n",
            "\n",
            "\u001b[2K\u001b[1A\u001b[2K\u001b[1A\u001b[2K\u001b[1A\u001b[2K\u001b[1A\u001b[2K\u001b[1A\u001b[2K\u001b[1A\u001b[2K\u001b[1A\u001b[2K\u001b[G\n",
            "\u001b[32m●\u001b[39m \u001b[32mClient\u001b[39m \u001b[32m█\u001b[39m\u001b[32m█\u001b[39m\u001b[32m█\u001b[39m\u001b[32m█\u001b[39m\u001b[32m█\u001b[39m\u001b[32m█\u001b[39m\u001b[32m█\u001b[39m\u001b[32m█\u001b[39m\u001b[32m█\u001b[39m\u001b[37m█\u001b[39m\u001b[37m█\u001b[39m\u001b[37m█\u001b[39m\u001b[37m█\u001b[39m\u001b[37m█\u001b[39m\u001b[37m█\u001b[39m\u001b[37m█\u001b[39m\u001b[37m█\u001b[39m\u001b[37m█\u001b[39m\u001b[37m█\u001b[39m\u001b[37m█\u001b[39m\u001b[37m█\u001b[39m\u001b[37m█\u001b[39m\u001b[37m█\u001b[39m\u001b[37m█\u001b[39m\u001b[37m█\u001b[39m building (33%) \u001b[90m193/198 modules\u001b[39m \u001b[90m5 active\u001b[39m\n",
            " \u001b[90m...ue\u001b[39m\n",
            "\n",
            "\u001b[93m●\u001b[39m \u001b[93mServer\u001b[39m \u001b[93m█\u001b[39m\u001b[93m█\u001b[39m\u001b[93m█\u001b[39m\u001b[93m█\u001b[39m\u001b[37m█\u001b[39m\u001b[37m█\u001b[39m\u001b[37m█\u001b[39m\u001b[37m█\u001b[39m\u001b[37m█\u001b[39m\u001b[37m█\u001b[39m\u001b[37m█\u001b[39m\u001b[37m█\u001b[39m\u001b[37m█\u001b[39m\u001b[37m█\u001b[39m\u001b[37m█\u001b[39m\u001b[37m█\u001b[39m\u001b[37m█\u001b[39m\u001b[37m█\u001b[39m\u001b[37m█\u001b[39m\u001b[37m█\u001b[39m\u001b[37m█\u001b[39m\u001b[37m█\u001b[39m\u001b[37m█\u001b[39m\u001b[37m█\u001b[39m\u001b[37m█\u001b[39m building (16%) \u001b[90m54/62 modules\u001b[39m \u001b[90m8 active\u001b[39m\n",
            " \u001b[90m...er \u001b[34m›\u001b[90m vue-loader \u001b[34m›\u001b[90m .nuxt/components/nuxt-build-indicator.vue\u001b[39m\n",
            "\n",
            "\u001b[2K\u001b[1A\u001b[2K\u001b[1A\u001b[2K\u001b[1A\u001b[2K\u001b[1A\u001b[2K\u001b[1A\u001b[2K\u001b[1A\u001b[2K\u001b[1A\u001b[2K\u001b[G\n",
            "\u001b[32m●\u001b[39m \u001b[32mClient\u001b[39m \u001b[32m█\u001b[39m\u001b[32m█\u001b[39m\u001b[32m█\u001b[39m\u001b[32m█\u001b[39m\u001b[32m█\u001b[39m\u001b[32m█\u001b[39m\u001b[32m█\u001b[39m\u001b[32m█\u001b[39m\u001b[32m█\u001b[39m\u001b[37m█\u001b[39m\u001b[37m█\u001b[39m\u001b[37m█\u001b[39m\u001b[37m█\u001b[39m\u001b[37m█\u001b[39m\u001b[37m█\u001b[39m\u001b[37m█\u001b[39m\u001b[37m█\u001b[39m\u001b[37m█\u001b[39m\u001b[37m█\u001b[39m\u001b[37m█\u001b[39m\u001b[37m█\u001b[39m\u001b[37m█\u001b[39m\u001b[37m█\u001b[39m\u001b[37m█\u001b[39m\u001b[37m█\u001b[39m building (35%) \u001b[90m211/220 modules\u001b[39m \u001b[90m9 active\u001b[39m\n",
            " \u001b[90mnode_modules/core-js/modules/_array-species-constructor.js\u001b[39m\n",
            "\n",
            "\u001b[93m●\u001b[39m \u001b[93mServer\u001b[39m \u001b[93m█\u001b[39m\u001b[93m█\u001b[39m\u001b[93m█\u001b[39m\u001b[93m█\u001b[39m\u001b[37m█\u001b[39m\u001b[37m█\u001b[39m\u001b[37m█\u001b[39m\u001b[37m█\u001b[39m\u001b[37m█\u001b[39m\u001b[37m█\u001b[39m\u001b[37m█\u001b[39m\u001b[37m█\u001b[39m\u001b[37m█\u001b[39m\u001b[37m█\u001b[39m\u001b[37m█\u001b[39m\u001b[37m█\u001b[39m\u001b[37m█\u001b[39m\u001b[37m█\u001b[39m\u001b[37m█\u001b[39m\u001b[37m█\u001b[39m\u001b[37m█\u001b[39m\u001b[37m█\u001b[39m\u001b[37m█\u001b[39m\u001b[37m█\u001b[39m\u001b[37m█\u001b[39m building (16%) \u001b[90m55/68 modules\u001b[39m \u001b[90m13 active\u001b[39m\n",
            " \u001b[90m...er \u001b[34m›\u001b[90m vue-loader \u001b[34m›\u001b[90m .nuxt/components/nuxt-build-indicator.vue\u001b[39m\n",
            "\n",
            "\u001b[2K\u001b[1A\u001b[2K\u001b[1A\u001b[2K\u001b[1A\u001b[2K\u001b[1A\u001b[2K\u001b[1A\u001b[2K\u001b[1A\u001b[2K\u001b[1A\u001b[2K\u001b[G\n",
            "\u001b[32m●\u001b[39m \u001b[32mClient\u001b[39m \u001b[32m█\u001b[39m\u001b[32m█\u001b[39m\u001b[32m█\u001b[39m\u001b[32m█\u001b[39m\u001b[32m█\u001b[39m\u001b[32m█\u001b[39m\u001b[32m█\u001b[39m\u001b[32m█\u001b[39m\u001b[32m█\u001b[39m\u001b[37m█\u001b[39m\u001b[37m█\u001b[39m\u001b[37m█\u001b[39m\u001b[37m█\u001b[39m\u001b[37m█\u001b[39m\u001b[37m█\u001b[39m\u001b[37m█\u001b[39m\u001b[37m█\u001b[39m\u001b[37m█\u001b[39m\u001b[37m█\u001b[39m\u001b[37m█\u001b[39m\u001b[37m█\u001b[39m\u001b[37m█\u001b[39m\u001b[37m█\u001b[39m\u001b[37m█\u001b[39m\u001b[37m█\u001b[39m building (35%) \u001b[90m211/220 modules\u001b[39m \u001b[90m9 active\u001b[39m\n",
            " \u001b[90mnode_modules/core-js/modules/_array-species-constructor.js\u001b[39m\n",
            "\n",
            "\u001b[93m●\u001b[39m \u001b[93mServer\u001b[39m \u001b[93m█\u001b[39m\u001b[93m█\u001b[39m\u001b[93m█\u001b[39m\u001b[93m█\u001b[39m\u001b[37m█\u001b[39m\u001b[37m█\u001b[39m\u001b[37m█\u001b[39m\u001b[37m█\u001b[39m\u001b[37m█\u001b[39m\u001b[37m█\u001b[39m\u001b[37m█\u001b[39m\u001b[37m█\u001b[39m\u001b[37m█\u001b[39m\u001b[37m█\u001b[39m\u001b[37m█\u001b[39m\u001b[37m█\u001b[39m\u001b[37m█\u001b[39m\u001b[37m█\u001b[39m\u001b[37m█\u001b[39m\u001b[37m█\u001b[39m\u001b[37m█\u001b[39m\u001b[37m█\u001b[39m\u001b[37m█\u001b[39m\u001b[37m█\u001b[39m\u001b[37m█\u001b[39m building (16%) \u001b[90m57/68 modules\u001b[39m \u001b[90m11 active\u001b[39m\n",
            " \u001b[90m...er \u001b[34m›\u001b[90m vue-loader \u001b[34m›\u001b[90m .nuxt/components/nuxt-build-indicator.vue\u001b[39m\n",
            "\n",
            "\u001b[2K\u001b[1A\u001b[2K\u001b[1A\u001b[2K\u001b[1A\u001b[2K\u001b[1A\u001b[2K\u001b[1A\u001b[2K\u001b[1A\u001b[2K\u001b[1A\u001b[2K\u001b[G\n",
            "\u001b[32m●\u001b[39m \u001b[32mClient\u001b[39m \u001b[32m█\u001b[39m\u001b[32m█\u001b[39m\u001b[32m█\u001b[39m\u001b[32m█\u001b[39m\u001b[32m█\u001b[39m\u001b[32m█\u001b[39m\u001b[32m█\u001b[39m\u001b[32m█\u001b[39m\u001b[32m█\u001b[39m\u001b[37m█\u001b[39m\u001b[37m█\u001b[39m\u001b[37m█\u001b[39m\u001b[37m█\u001b[39m\u001b[37m█\u001b[39m\u001b[37m█\u001b[39m\u001b[37m█\u001b[39m\u001b[37m█\u001b[39m\u001b[37m█\u001b[39m\u001b[37m█\u001b[39m\u001b[37m█\u001b[39m\u001b[37m█\u001b[39m\u001b[37m█\u001b[39m\u001b[37m█\u001b[39m\u001b[37m█\u001b[39m\u001b[37m█\u001b[39m building (35%) \u001b[90m211/220 modules\u001b[39m \u001b[90m9 active\u001b[39m\n",
            " \u001b[90mnode_modules/core-js/modules/_array-species-constructor.js\u001b[39m\n",
            "\n",
            "\u001b[93m●\u001b[39m \u001b[93mServer\u001b[39m \u001b[93m█\u001b[39m\u001b[93m█\u001b[39m\u001b[93m█\u001b[39m\u001b[93m█\u001b[39m\u001b[93m█\u001b[39m\u001b[37m█\u001b[39m\u001b[37m█\u001b[39m\u001b[37m█\u001b[39m\u001b[37m█\u001b[39m\u001b[37m█\u001b[39m\u001b[37m█\u001b[39m\u001b[37m█\u001b[39m\u001b[37m█\u001b[39m\u001b[37m█\u001b[39m\u001b[37m█\u001b[39m\u001b[37m█\u001b[39m\u001b[37m█\u001b[39m\u001b[37m█\u001b[39m\u001b[37m█\u001b[39m\u001b[37m█\u001b[39m\u001b[37m█\u001b[39m\u001b[37m█\u001b[39m\u001b[37m█\u001b[39m\u001b[37m█\u001b[39m\u001b[37m█\u001b[39m building (17%) \u001b[90m59/68 modules\u001b[39m \u001b[90m9 active\u001b[39m\n",
            " \u001b[90m...er \u001b[34m›\u001b[90m vue-loader \u001b[34m›\u001b[90m .nuxt/components/nuxt-build-indicator.vue\u001b[39m\n",
            "\n",
            "\u001b[2K\u001b[1A\u001b[2K\u001b[1A\u001b[2K\u001b[1A\u001b[2K\u001b[1A\u001b[2K\u001b[1A\u001b[2K\u001b[1A\u001b[2K\u001b[1A\u001b[2K\u001b[G\n",
            "\u001b[32m●\u001b[39m \u001b[32mClient\u001b[39m \u001b[32m█\u001b[39m\u001b[32m█\u001b[39m\u001b[32m█\u001b[39m\u001b[32m█\u001b[39m\u001b[32m█\u001b[39m\u001b[32m█\u001b[39m\u001b[32m█\u001b[39m\u001b[32m█\u001b[39m\u001b[32m█\u001b[39m\u001b[37m█\u001b[39m\u001b[37m█\u001b[39m\u001b[37m█\u001b[39m\u001b[37m█\u001b[39m\u001b[37m█\u001b[39m\u001b[37m█\u001b[39m\u001b[37m█\u001b[39m\u001b[37m█\u001b[39m\u001b[37m█\u001b[39m\u001b[37m█\u001b[39m\u001b[37m█\u001b[39m\u001b[37m█\u001b[39m\u001b[37m█\u001b[39m\u001b[37m█\u001b[39m\u001b[37m█\u001b[39m\u001b[37m█\u001b[39m building (35%) \u001b[90m212/226 modules\u001b[39m \u001b[90m14 active\u001b[39m\n",
            " \u001b[90m...er \u001b[34m›\u001b[90m vue-loader \u001b[34m›\u001b[90m .nuxt/components/nuxt-build-indicator.vue\u001b[39m\n",
            "\n",
            "\u001b[93m●\u001b[39m \u001b[93mServer\u001b[39m \u001b[93m█\u001b[39m\u001b[93m█\u001b[39m\u001b[93m█\u001b[39m\u001b[93m█\u001b[39m\u001b[93m█\u001b[39m\u001b[37m█\u001b[39m\u001b[37m█\u001b[39m\u001b[37m█\u001b[39m\u001b[37m█\u001b[39m\u001b[37m█\u001b[39m\u001b[37m█\u001b[39m\u001b[37m█\u001b[39m\u001b[37m█\u001b[39m\u001b[37m█\u001b[39m\u001b[37m█\u001b[39m\u001b[37m█\u001b[39m\u001b[37m█\u001b[39m\u001b[37m█\u001b[39m\u001b[37m█\u001b[39m\u001b[37m█\u001b[39m\u001b[37m█\u001b[39m\u001b[37m█\u001b[39m\u001b[37m█\u001b[39m\u001b[37m█\u001b[39m\u001b[37m█\u001b[39m building (17%) \u001b[90m60/68 modules\u001b[39m \u001b[90m8 active\u001b[39m\n",
            " \u001b[90m...er \u001b[34m›\u001b[90m vue-loader \u001b[34m›\u001b[90m .nuxt/components/nuxt-build-indicator.vue\u001b[39m\n",
            "\n",
            "\u001b[2K\u001b[1A\u001b[2K\u001b[1A\u001b[2K\u001b[1A\u001b[2K\u001b[1A\u001b[2K\u001b[1A\u001b[2K\u001b[1A\u001b[2K\u001b[1A\u001b[2K\u001b[G\n",
            "\u001b[32m●\u001b[39m \u001b[32mClient\u001b[39m \u001b[32m█\u001b[39m\u001b[32m█\u001b[39m\u001b[32m█\u001b[39m\u001b[32m█\u001b[39m\u001b[32m█\u001b[39m\u001b[32m█\u001b[39m\u001b[32m█\u001b[39m\u001b[32m█\u001b[39m\u001b[32m█\u001b[39m\u001b[37m█\u001b[39m\u001b[37m█\u001b[39m\u001b[37m█\u001b[39m\u001b[37m█\u001b[39m\u001b[37m█\u001b[39m\u001b[37m█\u001b[39m\u001b[37m█\u001b[39m\u001b[37m█\u001b[39m\u001b[37m█\u001b[39m\u001b[37m█\u001b[39m\u001b[37m█\u001b[39m\u001b[37m█\u001b[39m\u001b[37m█\u001b[39m\u001b[37m█\u001b[39m\u001b[37m█\u001b[39m\u001b[37m█\u001b[39m building (35%) \u001b[90m214/226 modules\u001b[39m \u001b[90m12 active\u001b[39m\n",
            " \u001b[90m...er \u001b[34m›\u001b[90m vue-loader \u001b[34m›\u001b[90m .nuxt/components/nuxt-build-indicator.vue\u001b[39m\n",
            "\n",
            "\u001b[93m●\u001b[39m \u001b[93mServer\u001b[39m \u001b[93m█\u001b[39m\u001b[93m█\u001b[39m\u001b[93m█\u001b[39m\u001b[93m█\u001b[39m\u001b[93m█\u001b[39m\u001b[37m█\u001b[39m\u001b[37m█\u001b[39m\u001b[37m█\u001b[39m\u001b[37m█\u001b[39m\u001b[37m█\u001b[39m\u001b[37m█\u001b[39m\u001b[37m█\u001b[39m\u001b[37m█\u001b[39m\u001b[37m█\u001b[39m\u001b[37m█\u001b[39m\u001b[37m█\u001b[39m\u001b[37m█\u001b[39m\u001b[37m█\u001b[39m\u001b[37m█\u001b[39m\u001b[37m█\u001b[39m\u001b[37m█\u001b[39m\u001b[37m█\u001b[39m\u001b[37m█\u001b[39m\u001b[37m█\u001b[39m\u001b[37m█\u001b[39m building (17%) \u001b[90m60/68 modules\u001b[39m \u001b[90m8 active\u001b[39m\n",
            " \u001b[90m...er \u001b[34m›\u001b[90m vue-loader \u001b[34m›\u001b[90m .nuxt/components/nuxt-build-indicator.vue\u001b[39m\n",
            "\n",
            "\u001b[2K\u001b[1A\u001b[2K\u001b[1A\u001b[2K\u001b[1A\u001b[2K\u001b[1A\u001b[2K\u001b[1A\u001b[2K\u001b[1A\u001b[2K\u001b[1A\u001b[2K\u001b[G\n",
            "\u001b[32m●\u001b[39m \u001b[32mClient\u001b[39m \u001b[32m█\u001b[39m\u001b[32m█\u001b[39m\u001b[32m█\u001b[39m\u001b[32m█\u001b[39m\u001b[32m█\u001b[39m\u001b[32m█\u001b[39m\u001b[32m█\u001b[39m\u001b[32m█\u001b[39m\u001b[32m█\u001b[39m\u001b[37m█\u001b[39m\u001b[37m█\u001b[39m\u001b[37m█\u001b[39m\u001b[37m█\u001b[39m\u001b[37m█\u001b[39m\u001b[37m█\u001b[39m\u001b[37m█\u001b[39m\u001b[37m█\u001b[39m\u001b[37m█\u001b[39m\u001b[37m█\u001b[39m\u001b[37m█\u001b[39m\u001b[37m█\u001b[39m\u001b[37m█\u001b[39m\u001b[37m█\u001b[39m\u001b[37m█\u001b[39m\u001b[37m█\u001b[39m building (35%) \u001b[90m216/226 modules\u001b[39m \u001b[90m10 active\u001b[39m\n",
            " \u001b[90m...er \u001b[34m›\u001b[90m vue-loader \u001b[34m›\u001b[90m .nuxt/components/nuxt-build-indicator.vue\u001b[39m\n",
            "\n",
            "\u001b[93m●\u001b[39m \u001b[93mServer\u001b[39m \u001b[93m█\u001b[39m\u001b[93m█\u001b[39m\u001b[93m█\u001b[39m\u001b[93m█\u001b[39m\u001b[93m█\u001b[39m\u001b[37m█\u001b[39m\u001b[37m█\u001b[39m\u001b[37m█\u001b[39m\u001b[37m█\u001b[39m\u001b[37m█\u001b[39m\u001b[37m█\u001b[39m\u001b[37m█\u001b[39m\u001b[37m█\u001b[39m\u001b[37m█\u001b[39m\u001b[37m█\u001b[39m\u001b[37m█\u001b[39m\u001b[37m█\u001b[39m\u001b[37m█\u001b[39m\u001b[37m█\u001b[39m\u001b[37m█\u001b[39m\u001b[37m█\u001b[39m\u001b[37m█\u001b[39m\u001b[37m█\u001b[39m\u001b[37m█\u001b[39m\u001b[37m█\u001b[39m building (17%) \u001b[90m60/68 modules\u001b[39m \u001b[90m8 active\u001b[39m\n",
            " \u001b[90m...er \u001b[34m›\u001b[90m vue-loader \u001b[34m›\u001b[90m .nuxt/components/nuxt-build-indicator.vue\u001b[39m\n",
            "\n",
            "\u001b[2K\u001b[1A\u001b[2K\u001b[1A\u001b[2K\u001b[1A\u001b[2K\u001b[1A\u001b[2K\u001b[1A\u001b[2K\u001b[1A\u001b[2K\u001b[1A\u001b[2K\u001b[G\n",
            "\u001b[32m●\u001b[39m \u001b[32mClient\u001b[39m \u001b[32m█\u001b[39m\u001b[32m█\u001b[39m\u001b[32m█\u001b[39m\u001b[32m█\u001b[39m\u001b[32m█\u001b[39m\u001b[32m█\u001b[39m\u001b[32m█\u001b[39m\u001b[32m█\u001b[39m\u001b[32m█\u001b[39m\u001b[37m█\u001b[39m\u001b[37m█\u001b[39m\u001b[37m█\u001b[39m\u001b[37m█\u001b[39m\u001b[37m█\u001b[39m\u001b[37m█\u001b[39m\u001b[37m█\u001b[39m\u001b[37m█\u001b[39m\u001b[37m█\u001b[39m\u001b[37m█\u001b[39m\u001b[37m█\u001b[39m\u001b[37m█\u001b[39m\u001b[37m█\u001b[39m\u001b[37m█\u001b[39m\u001b[37m█\u001b[39m\u001b[37m█\u001b[39m building (36%) \u001b[90m217/226 modules\u001b[39m \u001b[90m9 active\u001b[39m\n",
            " \u001b[90mnode_modules/core-js/modules/_array-species-constructor.js\u001b[39m\n",
            "\n",
            "\u001b[93m●\u001b[39m \u001b[93mServer\u001b[39m \u001b[93m█\u001b[39m\u001b[93m█\u001b[39m\u001b[93m█\u001b[39m\u001b[93m█\u001b[39m\u001b[93m█\u001b[39m\u001b[37m█\u001b[39m\u001b[37m█\u001b[39m\u001b[37m█\u001b[39m\u001b[37m█\u001b[39m\u001b[37m█\u001b[39m\u001b[37m█\u001b[39m\u001b[37m█\u001b[39m\u001b[37m█\u001b[39m\u001b[37m█\u001b[39m\u001b[37m█\u001b[39m\u001b[37m█\u001b[39m\u001b[37m█\u001b[39m\u001b[37m█\u001b[39m\u001b[37m█\u001b[39m\u001b[37m█\u001b[39m\u001b[37m█\u001b[39m\u001b[37m█\u001b[39m\u001b[37m█\u001b[39m\u001b[37m█\u001b[39m\u001b[37m█\u001b[39m building (18%) \u001b[90m67/68 modules\u001b[39m \u001b[90m1 active\u001b[39m\n",
            " \u001b[90m...er \u001b[34m›\u001b[90m vue-loader \u001b[34m›\u001b[90m .nuxt/components/nuxt-build-indicator.vue\u001b[39m\n",
            "\n",
            "\u001b[2K\u001b[1A\u001b[2K\u001b[1A\u001b[2K\u001b[1A\u001b[2K\u001b[1A\u001b[2K\u001b[1A\u001b[2K\u001b[1A\u001b[2K\u001b[1A\u001b[2K\u001b[G\n",
            "\u001b[32m●\u001b[39m \u001b[32mClient\u001b[39m \u001b[32m█\u001b[39m\u001b[32m█\u001b[39m\u001b[32m█\u001b[39m\u001b[32m█\u001b[39m\u001b[32m█\u001b[39m\u001b[32m█\u001b[39m\u001b[32m█\u001b[39m\u001b[32m█\u001b[39m\u001b[32m█\u001b[39m\u001b[32m█\u001b[39m\u001b[37m█\u001b[39m\u001b[37m█\u001b[39m\u001b[37m█\u001b[39m\u001b[37m█\u001b[39m\u001b[37m█\u001b[39m\u001b[37m█\u001b[39m\u001b[37m█\u001b[39m\u001b[37m█\u001b[39m\u001b[37m█\u001b[39m\u001b[37m█\u001b[39m\u001b[37m█\u001b[39m\u001b[37m█\u001b[39m\u001b[37m█\u001b[39m\u001b[37m█\u001b[39m\u001b[37m█\u001b[39m building (37%) \u001b[90m226/228 modules\u001b[39m \u001b[90m2 active\u001b[39m\n",
            " \u001b[90mnode_modules/process/browser.js\u001b[39m\n",
            "\n",
            "\u001b[93m●\u001b[39m \u001b[93mServer\u001b[39m \u001b[93m█\u001b[39m\u001b[93m█\u001b[39m\u001b[93m█\u001b[39m\u001b[93m█\u001b[39m\u001b[93m█\u001b[39m\u001b[37m█\u001b[39m\u001b[37m█\u001b[39m\u001b[37m█\u001b[39m\u001b[37m█\u001b[39m\u001b[37m█\u001b[39m\u001b[37m█\u001b[39m\u001b[37m█\u001b[39m\u001b[37m█\u001b[39m\u001b[37m█\u001b[39m\u001b[37m█\u001b[39m\u001b[37m█\u001b[39m\u001b[37m█\u001b[39m\u001b[37m█\u001b[39m\u001b[37m█\u001b[39m\u001b[37m█\u001b[39m\u001b[37m█\u001b[39m\u001b[37m█\u001b[39m\u001b[37m█\u001b[39m\u001b[37m█\u001b[39m\u001b[37m█\u001b[39m building (19%) \u001b[90m75/75 modules\u001b[39m \u001b[90m0 active\u001b[39m\n",
            " \n",
            "\n",
            "\u001b[2K\u001b[1A\u001b[2K\u001b[1A\u001b[2K\u001b[1A\u001b[2K\u001b[1A\u001b[2K\u001b[1A\u001b[2K\u001b[1A\u001b[2K\u001b[1A\u001b[2K\u001b[G\n",
            "\u001b[32m●\u001b[39m \u001b[32mClient\u001b[39m \u001b[32m█\u001b[39m\u001b[32m█\u001b[39m\u001b[32m█\u001b[39m\u001b[32m█\u001b[39m\u001b[32m█\u001b[39m\u001b[32m█\u001b[39m\u001b[32m█\u001b[39m\u001b[32m█\u001b[39m\u001b[32m█\u001b[39m\u001b[32m█\u001b[39m\u001b[37m█\u001b[39m\u001b[37m█\u001b[39m\u001b[37m█\u001b[39m\u001b[37m█\u001b[39m\u001b[37m█\u001b[39m\u001b[37m█\u001b[39m\u001b[37m█\u001b[39m\u001b[37m█\u001b[39m\u001b[37m█\u001b[39m\u001b[37m█\u001b[39m\u001b[37m█\u001b[39m\u001b[37m█\u001b[39m\u001b[37m█\u001b[39m\u001b[37m█\u001b[39m\u001b[37m█\u001b[39m building (38%) \u001b[90m234/235 modules\u001b[39m \u001b[90m1 active\u001b[39m\n",
            " \u001b[90mnode_modules/process/browser.js\u001b[39m\n",
            "\n",
            "\u001b[93m●\u001b[39m \u001b[93mServer\u001b[39m \u001b[93m█\u001b[39m\u001b[93m█\u001b[39m\u001b[93m█\u001b[39m\u001b[93m█\u001b[39m\u001b[93m█\u001b[39m\u001b[37m█\u001b[39m\u001b[37m█\u001b[39m\u001b[37m█\u001b[39m\u001b[37m█\u001b[39m\u001b[37m█\u001b[39m\u001b[37m█\u001b[39m\u001b[37m█\u001b[39m\u001b[37m█\u001b[39m\u001b[37m█\u001b[39m\u001b[37m█\u001b[39m\u001b[37m█\u001b[39m\u001b[37m█\u001b[39m\u001b[37m█\u001b[39m\u001b[37m█\u001b[39m\u001b[37m█\u001b[39m\u001b[37m█\u001b[39m\u001b[37m█\u001b[39m\u001b[37m█\u001b[39m\u001b[37m█\u001b[39m\u001b[37m█\u001b[39m building (19%) \u001b[90m82/86 modules\u001b[39m \u001b[90m4 active\u001b[39m\n",
            " \u001b[90m...stcss-loader \u001b[34m›\u001b[90m vue-loader \u001b[34m›\u001b[90m .nuxt/components/nuxt-error.vue\u001b[39m\n",
            "\n",
            "\u001b[2K\u001b[1A\u001b[2K\u001b[1A\u001b[2K\u001b[1A\u001b[2K\u001b[1A\u001b[2K\u001b[1A\u001b[2K\u001b[1A\u001b[2K\u001b[1A\u001b[2K\u001b[G\n",
            "\u001b[32m●\u001b[39m \u001b[32mClient\u001b[39m \u001b[32m█\u001b[39m\u001b[32m█\u001b[39m\u001b[32m█\u001b[39m\u001b[32m█\u001b[39m\u001b[32m█\u001b[39m\u001b[32m█\u001b[39m\u001b[32m█\u001b[39m\u001b[32m█\u001b[39m\u001b[32m█\u001b[39m\u001b[32m█\u001b[39m\u001b[37m█\u001b[39m\u001b[37m█\u001b[39m\u001b[37m█\u001b[39m\u001b[37m█\u001b[39m\u001b[37m█\u001b[39m\u001b[37m█\u001b[39m\u001b[37m█\u001b[39m\u001b[37m█\u001b[39m\u001b[37m█\u001b[39m\u001b[37m█\u001b[39m\u001b[37m█\u001b[39m\u001b[37m█\u001b[39m\u001b[37m█\u001b[39m\u001b[37m█\u001b[39m\u001b[37m█\u001b[39m building (38%) \u001b[90m234/235 modules\u001b[39m \u001b[90m1 active\u001b[39m\n",
            " \u001b[90mnode_modules/process/browser.js\u001b[39m\n",
            "\n",
            "\u001b[93m●\u001b[39m \u001b[93mServer\u001b[39m \u001b[93m█\u001b[39m\u001b[93m█\u001b[39m\u001b[93m█\u001b[39m\u001b[93m█\u001b[39m\u001b[93m█\u001b[39m\u001b[37m█\u001b[39m\u001b[37m█\u001b[39m\u001b[37m█\u001b[39m\u001b[37m█\u001b[39m\u001b[37m█\u001b[39m\u001b[37m█\u001b[39m\u001b[37m█\u001b[39m\u001b[37m█\u001b[39m\u001b[37m█\u001b[39m\u001b[37m█\u001b[39m\u001b[37m█\u001b[39m\u001b[37m█\u001b[39m\u001b[37m█\u001b[39m\u001b[37m█\u001b[39m\u001b[37m█\u001b[39m\u001b[37m█\u001b[39m\u001b[37m█\u001b[39m\u001b[37m█\u001b[39m\u001b[37m█\u001b[39m\u001b[37m█\u001b[39m building (19%) \u001b[90m83/91 modules\u001b[39m \u001b[90m8 active\u001b[39m\n",
            " \u001b[90m...er \u001b[34m›\u001b[90m vue-loader \u001b[34m›\u001b[90m .nuxt/components/nuxt-build-indicator.vue\u001b[39m\n",
            "\n",
            "\u001b[2K\u001b[1A\u001b[2K\u001b[1A\u001b[2K\u001b[1A\u001b[2K\u001b[1A\u001b[2K\u001b[1A\u001b[2K\u001b[1A\u001b[2K\u001b[1A\u001b[2K\u001b[G\n",
            "\u001b[32m●\u001b[39m \u001b[32mClient\u001b[39m \u001b[32m█\u001b[39m\u001b[32m█\u001b[39m\u001b[32m█\u001b[39m\u001b[32m█\u001b[39m\u001b[32m█\u001b[39m\u001b[32m█\u001b[39m\u001b[32m█\u001b[39m\u001b[32m█\u001b[39m\u001b[32m█\u001b[39m\u001b[32m█\u001b[39m\u001b[37m█\u001b[39m\u001b[37m█\u001b[39m\u001b[37m█\u001b[39m\u001b[37m█\u001b[39m\u001b[37m█\u001b[39m\u001b[37m█\u001b[39m\u001b[37m█\u001b[39m\u001b[37m█\u001b[39m\u001b[37m█\u001b[39m\u001b[37m█\u001b[39m\u001b[37m█\u001b[39m\u001b[37m█\u001b[39m\u001b[37m█\u001b[39m\u001b[37m█\u001b[39m\u001b[37m█\u001b[39m building (39%) \u001b[90m242/252 modules\u001b[39m \u001b[90m10 active\u001b[39m\n",
            " \u001b[90m...er \u001b[34m›\u001b[90m vue-loader \u001b[34m›\u001b[90m .nuxt/components/nuxt-build-indicator.vue\u001b[39m\n",
            "\n",
            "\u001b[93m●\u001b[39m \u001b[93mServer\u001b[39m \u001b[93m█\u001b[39m\u001b[93m█\u001b[39m\u001b[93m█\u001b[39m\u001b[93m█\u001b[39m\u001b[93m█\u001b[39m\u001b[37m█\u001b[39m\u001b[37m█\u001b[39m\u001b[37m█\u001b[39m\u001b[37m█\u001b[39m\u001b[37m█\u001b[39m\u001b[37m█\u001b[39m\u001b[37m█\u001b[39m\u001b[37m█\u001b[39m\u001b[37m█\u001b[39m\u001b[37m█\u001b[39m\u001b[37m█\u001b[39m\u001b[37m█\u001b[39m\u001b[37m█\u001b[39m\u001b[37m█\u001b[39m\u001b[37m█\u001b[39m\u001b[37m█\u001b[39m\u001b[37m█\u001b[39m\u001b[37m█\u001b[39m\u001b[37m█\u001b[39m\u001b[37m█\u001b[39m building (20%) \u001b[90m85/91 modules\u001b[39m \u001b[90m6 active\u001b[39m\n",
            " \u001b[90m...4m›\u001b[90m stylus-loader \u001b[34m›\u001b[90m vue-loader \u001b[34m›\u001b[90m pages/_feed/_page.vue\u001b[39m\n",
            "\n",
            "\u001b[2K\u001b[1A\u001b[2K\u001b[1A\u001b[2K\u001b[1A\u001b[2K\u001b[1A\u001b[2K\u001b[1A\u001b[2K\u001b[1A\u001b[2K\u001b[1A\u001b[2K\u001b[G\n",
            "\u001b[32m●\u001b[39m \u001b[32mClient\u001b[39m \u001b[32m█\u001b[39m\u001b[32m█\u001b[39m\u001b[32m█\u001b[39m\u001b[32m█\u001b[39m\u001b[32m█\u001b[39m\u001b[32m█\u001b[39m\u001b[32m█\u001b[39m\u001b[32m█\u001b[39m\u001b[32m█\u001b[39m\u001b[32m█\u001b[39m\u001b[37m█\u001b[39m\u001b[37m█\u001b[39m\u001b[37m█\u001b[39m\u001b[37m█\u001b[39m\u001b[37m█\u001b[39m\u001b[37m█\u001b[39m\u001b[37m█\u001b[39m\u001b[37m█\u001b[39m\u001b[37m█\u001b[39m\u001b[37m█\u001b[39m\u001b[37m█\u001b[39m\u001b[37m█\u001b[39m\u001b[37m█\u001b[39m\u001b[37m█\u001b[39m\u001b[37m█\u001b[39m building (39%) \u001b[90m245/252 modules\u001b[39m \u001b[90m7 active\u001b[39m\n",
            " \u001b[90m...\u001b[34m›\u001b[90m stylus-loader \u001b[34m›\u001b[90m vue-loader \u001b[34m›\u001b[90m pages/item/_id.vue\u001b[39m\n",
            "\n",
            "\u001b[93m●\u001b[39m \u001b[93mServer\u001b[39m \u001b[93m█\u001b[39m\u001b[93m█\u001b[39m\u001b[93m█\u001b[39m\u001b[93m█\u001b[39m\u001b[93m█\u001b[39m\u001b[37m█\u001b[39m\u001b[37m█\u001b[39m\u001b[37m█\u001b[39m\u001b[37m█\u001b[39m\u001b[37m█\u001b[39m\u001b[37m█\u001b[39m\u001b[37m█\u001b[39m\u001b[37m█\u001b[39m\u001b[37m█\u001b[39m\u001b[37m█\u001b[39m\u001b[37m█\u001b[39m\u001b[37m█\u001b[39m\u001b[37m█\u001b[39m\u001b[37m█\u001b[39m\u001b[37m█\u001b[39m\u001b[37m█\u001b[39m\u001b[37m█\u001b[39m\u001b[37m█\u001b[39m\u001b[37m█\u001b[39m\u001b[37m█\u001b[39m building (20%) \u001b[90m91/97 modules\u001b[39m \u001b[90m6 active\u001b[39m\n",
            " \u001b[90mbabel-loader \u001b[34m›\u001b[90m vue-loader \u001b[34m›\u001b[90m components/Item.vue\u001b[39m\n",
            "\n",
            "\u001b[2K\u001b[1A\u001b[2K\u001b[1A\u001b[2K\u001b[1A\u001b[2K\u001b[1A\u001b[2K\u001b[1A\u001b[2K\u001b[1A\u001b[2K\u001b[1A\u001b[2K\u001b[G\n",
            "\u001b[32m●\u001b[39m \u001b[32mClient\u001b[39m \u001b[32m█\u001b[39m\u001b[32m█\u001b[39m\u001b[32m█\u001b[39m\u001b[32m█\u001b[39m\u001b[32m█\u001b[39m\u001b[32m█\u001b[39m\u001b[32m█\u001b[39m\u001b[32m█\u001b[39m\u001b[32m█\u001b[39m\u001b[32m█\u001b[39m\u001b[37m█\u001b[39m\u001b[37m█\u001b[39m\u001b[37m█\u001b[39m\u001b[37m█\u001b[39m\u001b[37m█\u001b[39m\u001b[37m█\u001b[39m\u001b[37m█\u001b[39m\u001b[37m█\u001b[39m\u001b[37m█\u001b[39m\u001b[37m█\u001b[39m\u001b[37m█\u001b[39m\u001b[37m█\u001b[39m\u001b[37m█\u001b[39m\u001b[37m█\u001b[39m\u001b[37m█\u001b[39m building (39%) \u001b[90m245/252 modules\u001b[39m \u001b[90m7 active\u001b[39m\n",
            " \u001b[90m...\u001b[34m›\u001b[90m stylus-loader \u001b[34m›\u001b[90m vue-loader \u001b[34m›\u001b[90m pages/item/_id.vue\u001b[39m\n",
            "\n",
            "\u001b[93m●\u001b[39m \u001b[93mServer\u001b[39m \u001b[93m█\u001b[39m\u001b[93m█\u001b[39m\u001b[93m█\u001b[39m\u001b[93m█\u001b[39m\u001b[93m█\u001b[39m\u001b[93m█\u001b[39m\u001b[37m█\u001b[39m\u001b[37m█\u001b[39m\u001b[37m█\u001b[39m\u001b[37m█\u001b[39m\u001b[37m█\u001b[39m\u001b[37m█\u001b[39m\u001b[37m█\u001b[39m\u001b[37m█\u001b[39m\u001b[37m█\u001b[39m\u001b[37m█\u001b[39m\u001b[37m█\u001b[39m\u001b[37m█\u001b[39m\u001b[37m█\u001b[39m\u001b[37m█\u001b[39m\u001b[37m█\u001b[39m\u001b[37m█\u001b[39m\u001b[37m█\u001b[39m\u001b[37m█\u001b[39m\u001b[37m█\u001b[39m building (21%) \u001b[90m98/105 modules\u001b[39m \u001b[90m7 active\u001b[39m\n",
            " \u001b[90m...39m stylus-loader \u001b[34m›\u001b[90m vue-loader \u001b[34m›\u001b[90m components/ItemListNav.vue\u001b[39m\n",
            "\n",
            "\u001b[2K\u001b[1A\u001b[2K\u001b[1A\u001b[2K\u001b[1A\u001b[2K\u001b[1A\u001b[2K\u001b[1A\u001b[2K\u001b[1A\u001b[2K\u001b[1A\u001b[2K\u001b[G\n",
            "\u001b[32m●\u001b[39m \u001b[32mClient\u001b[39m \u001b[32m█\u001b[39m\u001b[32m█\u001b[39m\u001b[32m█\u001b[39m\u001b[32m█\u001b[39m\u001b[32m█\u001b[39m\u001b[32m█\u001b[39m\u001b[32m█\u001b[39m\u001b[32m█\u001b[39m\u001b[32m█\u001b[39m\u001b[32m█\u001b[39m\u001b[37m█\u001b[39m\u001b[37m█\u001b[39m\u001b[37m█\u001b[39m\u001b[37m█\u001b[39m\u001b[37m█\u001b[39m\u001b[37m█\u001b[39m\u001b[37m█\u001b[39m\u001b[37m█\u001b[39m\u001b[37m█\u001b[39m\u001b[37m█\u001b[39m\u001b[37m█\u001b[39m\u001b[37m█\u001b[39m\u001b[37m█\u001b[39m\u001b[37m█\u001b[39m\u001b[37m█\u001b[39m building (39%) \u001b[90m246/252 modules\u001b[39m \u001b[90m6 active\u001b[39m\n",
            " \u001b[90m...\u001b[34m›\u001b[90m stylus-loader \u001b[34m›\u001b[90m vue-loader \u001b[34m›\u001b[90m pages/item/_id.vue\u001b[39m\n",
            "\n",
            "\u001b[93m●\u001b[39m \u001b[93mServer\u001b[39m \u001b[93m█\u001b[39m\u001b[93m█\u001b[39m\u001b[93m█\u001b[39m\u001b[93m█\u001b[39m\u001b[93m█\u001b[39m\u001b[93m█\u001b[39m\u001b[37m█\u001b[39m\u001b[37m█\u001b[39m\u001b[37m█\u001b[39m\u001b[37m█\u001b[39m\u001b[37m█\u001b[39m\u001b[37m█\u001b[39m\u001b[37m█\u001b[39m\u001b[37m█\u001b[39m\u001b[37m█\u001b[39m\u001b[37m█\u001b[39m\u001b[37m█\u001b[39m\u001b[37m█\u001b[39m\u001b[37m█\u001b[39m\u001b[37m█\u001b[39m\u001b[37m█\u001b[39m\u001b[37m█\u001b[39m\u001b[37m█\u001b[39m\u001b[37m█\u001b[39m\u001b[37m█\u001b[39m building (22%) \u001b[90m101/105 modules\u001b[39m \u001b[90m4 active\u001b[39m\n",
            " \u001b[90mbabel-loader \u001b[34m›\u001b[90m vue-loader \u001b[34m›\u001b[90m components/ItemListNav.vue\u001b[39m\n",
            "\n",
            "\u001b[2K\u001b[1A\u001b[2K\u001b[1A\u001b[2K\u001b[1A\u001b[2K\u001b[1A\u001b[2K\u001b[1A\u001b[2K\u001b[1A\u001b[2K\u001b[1A\u001b[2K\u001b[G\n",
            "\u001b[32m●\u001b[39m \u001b[32mClient\u001b[39m \u001b[32m█\u001b[39m\u001b[32m█\u001b[39m\u001b[32m█\u001b[39m\u001b[32m█\u001b[39m\u001b[32m█\u001b[39m\u001b[32m█\u001b[39m\u001b[32m█\u001b[39m\u001b[32m█\u001b[39m\u001b[32m█\u001b[39m\u001b[32m█\u001b[39m\u001b[37m█\u001b[39m\u001b[37m█\u001b[39m\u001b[37m█\u001b[39m\u001b[37m█\u001b[39m\u001b[37m█\u001b[39m\u001b[37m█\u001b[39m\u001b[37m█\u001b[39m\u001b[37m█\u001b[39m\u001b[37m█\u001b[39m\u001b[37m█\u001b[39m\u001b[37m█\u001b[39m\u001b[37m█\u001b[39m\u001b[37m█\u001b[39m\u001b[37m█\u001b[39m\u001b[37m█\u001b[39m building (40%) \u001b[90m256/258 modules\u001b[39m \u001b[90m2 active\u001b[39m\n",
            " \u001b[90mbabel-loader \u001b[34m›\u001b[90m vue-loader \u001b[34m›\u001b[90m components/Item.vue\u001b[39m\n",
            "\n",
            "\u001b[93m●\u001b[39m \u001b[93mServer\u001b[39m \u001b[93m█\u001b[39m\u001b[93m█\u001b[39m\u001b[93m█\u001b[39m\u001b[93m█\u001b[39m\u001b[93m█\u001b[39m\u001b[93m█\u001b[39m\u001b[37m█\u001b[39m\u001b[37m█\u001b[39m\u001b[37m█\u001b[39m\u001b[37m█\u001b[39m\u001b[37m█\u001b[39m\u001b[37m█\u001b[39m\u001b[37m█\u001b[39m\u001b[37m█\u001b[39m\u001b[37m█\u001b[39m\u001b[37m█\u001b[39m\u001b[37m█\u001b[39m\u001b[37m█\u001b[39m\u001b[37m█\u001b[39m\u001b[37m█\u001b[39m\u001b[37m█\u001b[39m\u001b[37m█\u001b[39m\u001b[37m█\u001b[39m\u001b[37m█\u001b[39m\u001b[37m█\u001b[39m building (22%) \u001b[90m103/107 modules\u001b[39m \u001b[90m4 active\u001b[39m\n",
            " \u001b[90mnode_modules/css-loader/dist/runtime/api.js\u001b[39m\n",
            "\n",
            "\u001b[2K\u001b[1A\u001b[2K\u001b[1A\u001b[2K\u001b[1A\u001b[2K\u001b[1A\u001b[2K\u001b[1A\u001b[2K\u001b[1A\u001b[2K\u001b[1A\u001b[2K\u001b[G\n",
            "\u001b[32m●\u001b[39m \u001b[32mClient\u001b[39m \u001b[32m█\u001b[39m\u001b[32m█\u001b[39m\u001b[32m█\u001b[39m\u001b[32m█\u001b[39m\u001b[32m█\u001b[39m\u001b[32m█\u001b[39m\u001b[32m█\u001b[39m\u001b[32m█\u001b[39m\u001b[32m█\u001b[39m\u001b[32m█\u001b[39m\u001b[37m█\u001b[39m\u001b[37m█\u001b[39m\u001b[37m█\u001b[39m\u001b[37m█\u001b[39m\u001b[37m█\u001b[39m\u001b[37m█\u001b[39m\u001b[37m█\u001b[39m\u001b[37m█\u001b[39m\u001b[37m█\u001b[39m\u001b[37m█\u001b[39m\u001b[37m█\u001b[39m\u001b[37m█\u001b[39m\u001b[37m█\u001b[39m\u001b[37m█\u001b[39m\u001b[37m█\u001b[39m building (40%) \u001b[90m257/259 modules\u001b[39m \u001b[90m2 active\u001b[39m\n",
            " \u001b[90mbabel-loader \u001b[34m›\u001b[90m vue-loader \u001b[34m›\u001b[90m components/Item.vue\u001b[39m\n",
            "\n",
            "\u001b[93m●\u001b[39m \u001b[93mServer\u001b[39m \u001b[93m█\u001b[39m\u001b[93m█\u001b[39m\u001b[93m█\u001b[39m\u001b[93m█\u001b[39m\u001b[93m█\u001b[39m\u001b[93m█\u001b[39m\u001b[37m█\u001b[39m\u001b[37m█\u001b[39m\u001b[37m█\u001b[39m\u001b[37m█\u001b[39m\u001b[37m█\u001b[39m\u001b[37m█\u001b[39m\u001b[37m█\u001b[39m\u001b[37m█\u001b[39m\u001b[37m█\u001b[39m\u001b[37m█\u001b[39m\u001b[37m█\u001b[39m\u001b[37m█\u001b[39m\u001b[37m█\u001b[39m\u001b[37m█\u001b[39m\u001b[37m█\u001b[39m\u001b[37m█\u001b[39m\u001b[37m█\u001b[39m\u001b[37m█\u001b[39m\u001b[37m█\u001b[39m building (22%) \u001b[90m103/107 modules\u001b[39m \u001b[90m4 active\u001b[39m\n",
            " \u001b[90mnode_modules/css-loader/dist/runtime/api.js\u001b[39m\n",
            "\n",
            "\u001b[2K\u001b[1A\u001b[2K\u001b[1A\u001b[2K\u001b[1A\u001b[2K\u001b[1A\u001b[2K\u001b[1A\u001b[2K\u001b[1A\u001b[2K\u001b[1A\u001b[2K\u001b[G\n",
            "\u001b[32m●\u001b[39m \u001b[32mClient\u001b[39m \u001b[32m█\u001b[39m\u001b[32m█\u001b[39m\u001b[32m█\u001b[39m\u001b[32m█\u001b[39m\u001b[32m█\u001b[39m\u001b[32m█\u001b[39m\u001b[32m█\u001b[39m\u001b[32m█\u001b[39m\u001b[32m█\u001b[39m\u001b[32m█\u001b[39m\u001b[32m█\u001b[39m\u001b[37m█\u001b[39m\u001b[37m█\u001b[39m\u001b[37m█\u001b[39m\u001b[37m█\u001b[39m\u001b[37m█\u001b[39m\u001b[37m█\u001b[39m\u001b[37m█\u001b[39m\u001b[37m█\u001b[39m\u001b[37m█\u001b[39m\u001b[37m█\u001b[39m\u001b[37m█\u001b[39m\u001b[37m█\u001b[39m\u001b[37m█\u001b[39m\u001b[37m█\u001b[39m building (41%) \u001b[90m264/267 modules\u001b[39m \u001b[90m3 active\u001b[39m\n",
            " \u001b[90mnode_modules/vue-style-loader/lib/addStylesClient.js\u001b[39m\n",
            "\n",
            "\u001b[93m●\u001b[39m \u001b[93mServer\u001b[39m \u001b[93m█\u001b[39m\u001b[93m█\u001b[39m\u001b[93m█\u001b[39m\u001b[93m█\u001b[39m\u001b[93m█\u001b[39m\u001b[93m█\u001b[39m\u001b[37m█\u001b[39m\u001b[37m█\u001b[39m\u001b[37m█\u001b[39m\u001b[37m█\u001b[39m\u001b[37m█\u001b[39m\u001b[37m█\u001b[39m\u001b[37m█\u001b[39m\u001b[37m█\u001b[39m\u001b[37m█\u001b[39m\u001b[37m█\u001b[39m\u001b[37m█\u001b[39m\u001b[37m█\u001b[39m\u001b[37m█\u001b[39m\u001b[37m█\u001b[39m\u001b[37m█\u001b[39m\u001b[37m█\u001b[39m\u001b[37m█\u001b[39m\u001b[37m█\u001b[39m\u001b[37m█\u001b[39m building (22%) \u001b[90m103/107 modules\u001b[39m \u001b[90m4 active\u001b[39m\n",
            " \u001b[90mnode_modules/css-loader/dist/runtime/api.js\u001b[39m\n",
            "\n",
            "\u001b[2K\u001b[1A\u001b[2K\u001b[1A\u001b[2K\u001b[1A\u001b[2K\u001b[1A\u001b[2K\u001b[1A\u001b[2K\u001b[1A\u001b[2K\u001b[1A\u001b[2K\u001b[G\n",
            "\u001b[32m●\u001b[39m \u001b[32mClient\u001b[39m \u001b[32m█\u001b[39m\u001b[32m█\u001b[39m\u001b[32m█\u001b[39m\u001b[32m█\u001b[39m\u001b[32m█\u001b[39m\u001b[32m█\u001b[39m\u001b[32m█\u001b[39m\u001b[32m█\u001b[39m\u001b[32m█\u001b[39m\u001b[32m█\u001b[39m\u001b[32m█\u001b[39m\u001b[37m█\u001b[39m\u001b[37m█\u001b[39m\u001b[37m█\u001b[39m\u001b[37m█\u001b[39m\u001b[37m█\u001b[39m\u001b[37m█\u001b[39m\u001b[37m█\u001b[39m\u001b[37m█\u001b[39m\u001b[37m█\u001b[39m\u001b[37m█\u001b[39m\u001b[37m█\u001b[39m\u001b[37m█\u001b[39m\u001b[37m█\u001b[39m\u001b[37m█\u001b[39m building (42%) \u001b[90m270/279 modules\u001b[39m \u001b[90m9 active\u001b[39m\n",
            " \u001b[90mvue-loader \u001b[34m›\u001b[90m components/Comment.vue\u001b[39m\n",
            "\n",
            "\u001b[93m●\u001b[39m \u001b[93mServer\u001b[39m \u001b[93m█\u001b[39m\u001b[93m█\u001b[39m\u001b[93m█\u001b[39m\u001b[93m█\u001b[39m\u001b[93m█\u001b[39m\u001b[93m█\u001b[39m\u001b[37m█\u001b[39m\u001b[37m█\u001b[39m\u001b[37m█\u001b[39m\u001b[37m█\u001b[39m\u001b[37m█\u001b[39m\u001b[37m█\u001b[39m\u001b[37m█\u001b[39m\u001b[37m█\u001b[39m\u001b[37m█\u001b[39m\u001b[37m█\u001b[39m\u001b[37m█\u001b[39m\u001b[37m█\u001b[39m\u001b[37m█\u001b[39m\u001b[37m█\u001b[39m\u001b[37m█\u001b[39m\u001b[37m█\u001b[39m\u001b[37m█\u001b[39m\u001b[37m█\u001b[39m\u001b[37m█\u001b[39m building (22%) \u001b[90m107/109 modules\u001b[39m \u001b[90m2 active\u001b[39m\n",
            " \u001b[90mvue-loader \u001b[34m›\u001b[90m components/LazyWrapper.vue\u001b[39m\n",
            "\n",
            "\u001b[2K\u001b[1A\u001b[2K\u001b[1A\u001b[2K\u001b[1A\u001b[2K\u001b[1A\u001b[2K\u001b[1A\u001b[2K\u001b[1A\u001b[2K\u001b[1A\u001b[2K\u001b[G\n",
            "\u001b[32m●\u001b[39m \u001b[32mClient\u001b[39m \u001b[32m█\u001b[39m\u001b[32m█\u001b[39m\u001b[32m█\u001b[39m\u001b[32m█\u001b[39m\u001b[32m█\u001b[39m\u001b[32m█\u001b[39m\u001b[32m█\u001b[39m\u001b[32m█\u001b[39m\u001b[32m█\u001b[39m\u001b[32m█\u001b[39m\u001b[32m█\u001b[39m\u001b[37m█\u001b[39m\u001b[37m█\u001b[39m\u001b[37m█\u001b[39m\u001b[37m█\u001b[39m\u001b[37m█\u001b[39m\u001b[37m█\u001b[39m\u001b[37m█\u001b[39m\u001b[37m█\u001b[39m\u001b[37m█\u001b[39m\u001b[37m█\u001b[39m\u001b[37m█\u001b[39m\u001b[37m█\u001b[39m\u001b[37m█\u001b[39m\u001b[37m█\u001b[39m building (43%) \u001b[90m277/279 modules\u001b[39m \u001b[90m2 active\u001b[39m\n",
            " \u001b[90mvue-loader \u001b[34m›\u001b[90m components/Comment.vue\u001b[39m\n",
            "\n",
            "\u001b[93m●\u001b[39m \u001b[93mServer\u001b[39m \u001b[93m█\u001b[39m\u001b[93m█\u001b[39m\u001b[93m█\u001b[39m\u001b[93m█\u001b[39m\u001b[93m█\u001b[39m\u001b[93m█\u001b[39m\u001b[37m█\u001b[39m\u001b[37m█\u001b[39m\u001b[37m█\u001b[39m\u001b[37m█\u001b[39m\u001b[37m█\u001b[39m\u001b[37m█\u001b[39m\u001b[37m█\u001b[39m\u001b[37m█\u001b[39m\u001b[37m█\u001b[39m\u001b[37m█\u001b[39m\u001b[37m█\u001b[39m\u001b[37m█\u001b[39m\u001b[37m█\u001b[39m\u001b[37m█\u001b[39m\u001b[37m█\u001b[39m\u001b[37m█\u001b[39m\u001b[37m█\u001b[39m\u001b[37m█\u001b[39m\u001b[37m█\u001b[39m building (23%) \u001b[90m114/115 modules\u001b[39m \u001b[90m1 active\u001b[39m\n",
            " \u001b[90mbabel-loader \u001b[34m›\u001b[90m vue-loader \u001b[34m›\u001b[90m components/Comment.vue\u001b[39m\n",
            "\n",
            "\u001b[2K\u001b[1A\u001b[2K\u001b[1A\u001b[2K\u001b[1A\u001b[2K\u001b[1A\u001b[2K\u001b[1A\u001b[2K\u001b[1A\u001b[2K\u001b[1A\u001b[2K\u001b[G\n",
            "\u001b[32m●\u001b[39m \u001b[32mClient\u001b[39m \u001b[32m█\u001b[39m\u001b[32m█\u001b[39m\u001b[32m█\u001b[39m\u001b[32m█\u001b[39m\u001b[32m█\u001b[39m\u001b[32m█\u001b[39m\u001b[32m█\u001b[39m\u001b[32m█\u001b[39m\u001b[32m█\u001b[39m\u001b[32m█\u001b[39m\u001b[32m█\u001b[39m\u001b[37m█\u001b[39m\u001b[37m█\u001b[39m\u001b[37m█\u001b[39m\u001b[37m█\u001b[39m\u001b[37m█\u001b[39m\u001b[37m█\u001b[39m\u001b[37m█\u001b[39m\u001b[37m█\u001b[39m\u001b[37m█\u001b[39m\u001b[37m█\u001b[39m\u001b[37m█\u001b[39m\u001b[37m█\u001b[39m\u001b[37m█\u001b[39m\u001b[37m█\u001b[39m building (43%) \u001b[90m277/279 modules\u001b[39m \u001b[90m2 active\u001b[39m\n",
            " \u001b[90mvue-loader \u001b[34m›\u001b[90m components/Comment.vue\u001b[39m\n",
            "\n",
            "\u001b[93m●\u001b[39m \u001b[93mServer\u001b[39m \u001b[93m█\u001b[39m\u001b[93m█\u001b[39m\u001b[93m█\u001b[39m\u001b[93m█\u001b[39m\u001b[93m█\u001b[39m\u001b[93m█\u001b[39m\u001b[37m█\u001b[39m\u001b[37m█\u001b[39m\u001b[37m█\u001b[39m\u001b[37m█\u001b[39m\u001b[37m█\u001b[39m\u001b[37m█\u001b[39m\u001b[37m█\u001b[39m\u001b[37m█\u001b[39m\u001b[37m█\u001b[39m\u001b[37m█\u001b[39m\u001b[37m█\u001b[39m\u001b[37m█\u001b[39m\u001b[37m█\u001b[39m\u001b[37m█\u001b[39m\u001b[37m█\u001b[39m\u001b[37m█\u001b[39m\u001b[37m█\u001b[39m\u001b[37m█\u001b[39m\u001b[37m█\u001b[39m building (23%) \u001b[90m115/116 modules\u001b[39m \u001b[90m1 active\u001b[39m\n",
            " \u001b[90mbabel-loader \u001b[34m›\u001b[90m vue-loader \u001b[34m›\u001b[90m components/Comment.vue\u001b[39m\n",
            "\n",
            "\u001b[2K\u001b[1A\u001b[2K\u001b[1A\u001b[2K\u001b[1A\u001b[2K\u001b[1A\u001b[2K\u001b[1A\u001b[2K\u001b[1A\u001b[2K\u001b[1A\u001b[2K\u001b[G\n",
            "\u001b[32m●\u001b[39m \u001b[32mClient\u001b[39m \u001b[32m█\u001b[39m\u001b[32m█\u001b[39m\u001b[32m█\u001b[39m\u001b[32m█\u001b[39m\u001b[32m█\u001b[39m\u001b[32m█\u001b[39m\u001b[32m█\u001b[39m\u001b[32m█\u001b[39m\u001b[32m█\u001b[39m\u001b[32m█\u001b[39m\u001b[32m█\u001b[39m\u001b[37m█\u001b[39m\u001b[37m█\u001b[39m\u001b[37m█\u001b[39m\u001b[37m█\u001b[39m\u001b[37m█\u001b[39m\u001b[37m█\u001b[39m\u001b[37m█\u001b[39m\u001b[37m█\u001b[39m\u001b[37m█\u001b[39m\u001b[37m█\u001b[39m\u001b[37m█\u001b[39m\u001b[37m█\u001b[39m\u001b[37m█\u001b[39m\u001b[37m█\u001b[39m building (44%) \u001b[90m285/287 modules\u001b[39m \u001b[90m2 active\u001b[39m\n",
            " \u001b[90mbabel-loader \u001b[34m›\u001b[90m vue-loader \u001b[34m›\u001b[90m components/Comment.vue\u001b[39m\n",
            "\n",
            "\u001b[93m●\u001b[39m \u001b[93mServer\u001b[39m \u001b[93m█\u001b[39m\u001b[93m█\u001b[39m\u001b[93m█\u001b[39m\u001b[93m█\u001b[39m\u001b[93m█\u001b[39m\u001b[93m█\u001b[39m\u001b[37m█\u001b[39m\u001b[37m█\u001b[39m\u001b[37m█\u001b[39m\u001b[37m█\u001b[39m\u001b[37m█\u001b[39m\u001b[37m█\u001b[39m\u001b[37m█\u001b[39m\u001b[37m█\u001b[39m\u001b[37m█\u001b[39m\u001b[37m█\u001b[39m\u001b[37m█\u001b[39m\u001b[37m█\u001b[39m\u001b[37m█\u001b[39m\u001b[37m█\u001b[39m\u001b[37m█\u001b[39m\u001b[37m█\u001b[39m\u001b[37m█\u001b[39m\u001b[37m█\u001b[39m\u001b[37m█\u001b[39m building (23%) \u001b[90m116/118 modules\u001b[39m \u001b[90m2 active\u001b[39m\n",
            " \u001b[90mbabel-loader \u001b[34m›\u001b[90m vue-loader \u001b[34m›\u001b[90m components/LazyWrapper.vue\u001b[39m\n",
            "\n",
            "\u001b[2K\u001b[1A\u001b[2K\u001b[1A\u001b[2K\u001b[1A\u001b[2K\u001b[1A\u001b[2K\u001b[1A\u001b[2K\u001b[1A\u001b[2K\u001b[1A\u001b[2K\u001b[G\n",
            "\u001b[32m●\u001b[39m \u001b[32mClient\u001b[39m \u001b[32m█\u001b[39m\u001b[32m█\u001b[39m\u001b[32m█\u001b[39m\u001b[32m█\u001b[39m\u001b[32m█\u001b[39m\u001b[32m█\u001b[39m\u001b[32m█\u001b[39m\u001b[32m█\u001b[39m\u001b[32m█\u001b[39m\u001b[32m█\u001b[39m\u001b[32m█\u001b[39m\u001b[37m█\u001b[39m\u001b[37m█\u001b[39m\u001b[37m█\u001b[39m\u001b[37m█\u001b[39m\u001b[37m█\u001b[39m\u001b[37m█\u001b[39m\u001b[37m█\u001b[39m\u001b[37m█\u001b[39m\u001b[37m█\u001b[39m\u001b[37m█\u001b[39m\u001b[37m█\u001b[39m\u001b[37m█\u001b[39m\u001b[37m█\u001b[39m\u001b[37m█\u001b[39m building (44%) \u001b[90m286/288 modules\u001b[39m \u001b[90m2 active\u001b[39m\n",
            " \u001b[90mbabel-loader \u001b[34m›\u001b[90m vue-loader \u001b[34m›\u001b[90m components/Comment.vue\u001b[39m\n",
            "\n",
            "\u001b[93m●\u001b[39m \u001b[93mServer\u001b[39m \u001b[93m█\u001b[39m\u001b[93m█\u001b[39m\u001b[93m█\u001b[39m\u001b[93m█\u001b[39m\u001b[93m█\u001b[39m\u001b[93m█\u001b[39m\u001b[37m█\u001b[39m\u001b[37m█\u001b[39m\u001b[37m█\u001b[39m\u001b[37m█\u001b[39m\u001b[37m█\u001b[39m\u001b[37m█\u001b[39m\u001b[37m█\u001b[39m\u001b[37m█\u001b[39m\u001b[37m█\u001b[39m\u001b[37m█\u001b[39m\u001b[37m█\u001b[39m\u001b[37m█\u001b[39m\u001b[37m█\u001b[39m\u001b[37m█\u001b[39m\u001b[37m█\u001b[39m\u001b[37m█\u001b[39m\u001b[37m█\u001b[39m\u001b[37m█\u001b[39m\u001b[37m█\u001b[39m building (23%) \u001b[90m116/120 modules\u001b[39m \u001b[90m4 active\u001b[39m\n",
            " \u001b[90mnode_modules/vue-style-loader/lib/listToStyles.js\u001b[39m\n",
            "\n",
            "\u001b[2K\u001b[1A\u001b[2K\u001b[1A\u001b[2K\u001b[1A\u001b[2K\u001b[1A\u001b[2K\u001b[1A\u001b[2K\u001b[1A\u001b[2K\u001b[1A\u001b[2K\u001b[G\n",
            "\u001b[32m●\u001b[39m \u001b[32mClient\u001b[39m \u001b[32m█\u001b[39m\u001b[32m█\u001b[39m\u001b[32m█\u001b[39m\u001b[32m█\u001b[39m\u001b[32m█\u001b[39m\u001b[32m█\u001b[39m\u001b[32m█\u001b[39m\u001b[32m█\u001b[39m\u001b[32m█\u001b[39m\u001b[32m█\u001b[39m\u001b[32m█\u001b[39m\u001b[32m█\u001b[39m\u001b[37m█\u001b[39m\u001b[37m█\u001b[39m\u001b[37m█\u001b[39m\u001b[37m█\u001b[39m\u001b[37m█\u001b[39m\u001b[37m█\u001b[39m\u001b[37m█\u001b[39m\u001b[37m█\u001b[39m\u001b[37m█\u001b[39m\u001b[37m█\u001b[39m\u001b[37m█\u001b[39m\u001b[37m█\u001b[39m\u001b[37m█\u001b[39m building (45%) \u001b[90m295/303 modules\u001b[39m \u001b[90m8 active\u001b[39m\n",
            " \u001b[90mnode_modules/axios/lib/core/createError.js\u001b[39m\n",
            "\n",
            "\u001b[93m●\u001b[39m \u001b[93mServer\u001b[39m \u001b[93m█\u001b[39m\u001b[93m█\u001b[39m\u001b[93m█\u001b[39m\u001b[93m█\u001b[39m\u001b[93m█\u001b[39m\u001b[93m█\u001b[39m\u001b[37m█\u001b[39m\u001b[37m█\u001b[39m\u001b[37m█\u001b[39m\u001b[37m█\u001b[39m\u001b[37m█\u001b[39m\u001b[37m█\u001b[39m\u001b[37m█\u001b[39m\u001b[37m█\u001b[39m\u001b[37m█\u001b[39m\u001b[37m█\u001b[39m\u001b[37m█\u001b[39m\u001b[37m█\u001b[39m\u001b[37m█\u001b[39m\u001b[37m█\u001b[39m\u001b[37m█\u001b[39m\u001b[37m█\u001b[39m\u001b[37m█\u001b[39m\u001b[37m█\u001b[39m\u001b[37m█\u001b[39m building (24%) \u001b[90m121/121 modules\u001b[39m \u001b[90m0 active\u001b[39m\n",
            " \n",
            "\n",
            "\u001b[2K\u001b[1A\u001b[2K\u001b[1A\u001b[2K\u001b[1A\u001b[2K\u001b[1A\u001b[2K\u001b[1A\u001b[2K\u001b[1A\u001b[2K\u001b[1A\u001b[2K\u001b[G\n",
            "\u001b[32m●\u001b[39m \u001b[32mClient\u001b[39m \u001b[32m█\u001b[39m\u001b[32m█\u001b[39m\u001b[32m█\u001b[39m\u001b[32m█\u001b[39m\u001b[32m█\u001b[39m\u001b[32m█\u001b[39m\u001b[32m█\u001b[39m\u001b[32m█\u001b[39m\u001b[32m█\u001b[39m\u001b[32m█\u001b[39m\u001b[32m█\u001b[39m\u001b[32m█\u001b[39m\u001b[37m█\u001b[39m\u001b[37m█\u001b[39m\u001b[37m█\u001b[39m\u001b[37m█\u001b[39m\u001b[37m█\u001b[39m\u001b[37m█\u001b[39m\u001b[37m█\u001b[39m\u001b[37m█\u001b[39m\u001b[37m█\u001b[39m\u001b[37m█\u001b[39m\u001b[37m█\u001b[39m\u001b[37m█\u001b[39m\u001b[37m█\u001b[39m building (45%) \u001b[90m295/303 modules\u001b[39m \u001b[90m8 active\u001b[39m\n",
            " \u001b[90mnode_modules/axios/lib/core/createError.js\u001b[39m\n",
            "\n",
            "\u001b[93m●\u001b[39m \u001b[93mServer\u001b[39m \u001b[93m█\u001b[39m\u001b[93m█\u001b[39m\u001b[93m█\u001b[39m\u001b[93m█\u001b[39m\u001b[93m█\u001b[39m\u001b[93m█\u001b[39m\u001b[93m█\u001b[39m\u001b[37m█\u001b[39m\u001b[37m█\u001b[39m\u001b[37m█\u001b[39m\u001b[37m█\u001b[39m\u001b[37m█\u001b[39m\u001b[37m█\u001b[39m\u001b[37m█\u001b[39m\u001b[37m█\u001b[39m\u001b[37m█\u001b[39m\u001b[37m█\u001b[39m\u001b[37m█\u001b[39m\u001b[37m█\u001b[39m\u001b[37m█\u001b[39m\u001b[37m█\u001b[39m\u001b[37m█\u001b[39m\u001b[37m█\u001b[39m\u001b[37m█\u001b[39m\u001b[37m█\u001b[39m building (25%) \u001b[90m127/128 modules\u001b[39m \u001b[90m1 active\u001b[39m\n",
            " \u001b[90mbabel-loader \u001b[34m›\u001b[90m vue-loader \u001b[34m›\u001b[90m components/Spinner.vue\u001b[39m\n",
            "\n",
            "\u001b[2K\u001b[1A\u001b[2K\u001b[1A\u001b[2K\u001b[1A\u001b[2K\u001b[1A\u001b[2K\u001b[1A\u001b[2K\u001b[1A\u001b[2K\u001b[1A\u001b[2K\u001b[G\n",
            "\u001b[32m●\u001b[39m \u001b[32mClient\u001b[39m \u001b[32m█\u001b[39m\u001b[32m█\u001b[39m\u001b[32m█\u001b[39m\u001b[32m█\u001b[39m\u001b[32m█\u001b[39m\u001b[32m█\u001b[39m\u001b[32m█\u001b[39m\u001b[32m█\u001b[39m\u001b[32m█\u001b[39m\u001b[32m█\u001b[39m\u001b[32m█\u001b[39m\u001b[32m█\u001b[39m\u001b[37m█\u001b[39m\u001b[37m█\u001b[39m\u001b[37m█\u001b[39m\u001b[37m█\u001b[39m\u001b[37m█\u001b[39m\u001b[37m█\u001b[39m\u001b[37m█\u001b[39m\u001b[37m█\u001b[39m\u001b[37m█\u001b[39m\u001b[37m█\u001b[39m\u001b[37m█\u001b[39m\u001b[37m█\u001b[39m\u001b[37m█\u001b[39m building (46%) \u001b[90m308/310 modules\u001b[39m \u001b[90m2 active\u001b[39m\n",
            " \u001b[90m...m›\u001b[90m stylus-loader \u001b[34m›\u001b[90m vue-loader \u001b[34m›\u001b[90m components/Spinner.vue\u001b[39m\n",
            "\n",
            "\u001b[93m●\u001b[39m \u001b[93mServer\u001b[39m \u001b[93m█\u001b[39m\u001b[93m█\u001b[39m\u001b[93m█\u001b[39m\u001b[93m█\u001b[39m\u001b[93m█\u001b[39m\u001b[93m█\u001b[39m\u001b[93m█\u001b[39m\u001b[37m█\u001b[39m\u001b[37m█\u001b[39m\u001b[37m█\u001b[39m\u001b[37m█\u001b[39m\u001b[37m█\u001b[39m\u001b[37m█\u001b[39m\u001b[37m█\u001b[39m\u001b[37m█\u001b[39m\u001b[37m█\u001b[39m\u001b[37m█\u001b[39m\u001b[37m█\u001b[39m\u001b[37m█\u001b[39m\u001b[37m█\u001b[39m\u001b[37m█\u001b[39m\u001b[37m█\u001b[39m\u001b[37m█\u001b[39m\u001b[37m█\u001b[39m\u001b[37m█\u001b[39m building (25%) \u001b[90m127/128 modules\u001b[39m \u001b[90m1 active\u001b[39m\n",
            " \u001b[90mbabel-loader \u001b[34m›\u001b[90m vue-loader \u001b[34m›\u001b[90m components/Spinner.vue\u001b[39m\n",
            "\n",
            "\u001b[2K\u001b[1A\u001b[2K\u001b[1A\u001b[2K\u001b[1A\u001b[2K\u001b[1A\u001b[2K\u001b[1A\u001b[2K\u001b[1A\u001b[2K\u001b[1A\u001b[2K\u001b[G\n",
            "\u001b[32m●\u001b[39m \u001b[32mClient\u001b[39m \u001b[32m█\u001b[39m\u001b[32m█\u001b[39m\u001b[32m█\u001b[39m\u001b[32m█\u001b[39m\u001b[32m█\u001b[39m\u001b[32m█\u001b[39m\u001b[32m█\u001b[39m\u001b[32m█\u001b[39m\u001b[32m█\u001b[39m\u001b[32m█\u001b[39m\u001b[32m█\u001b[39m\u001b[32m█\u001b[39m\u001b[37m█\u001b[39m\u001b[37m█\u001b[39m\u001b[37m█\u001b[39m\u001b[37m█\u001b[39m\u001b[37m█\u001b[39m\u001b[37m█\u001b[39m\u001b[37m█\u001b[39m\u001b[37m█\u001b[39m\u001b[37m█\u001b[39m\u001b[37m█\u001b[39m\u001b[37m█\u001b[39m\u001b[37m█\u001b[39m\u001b[37m█\u001b[39m building (47%) \u001b[90m309/310 modules\u001b[39m \u001b[90m1 active\u001b[39m\n",
            " \u001b[90mbabel-loader \u001b[34m›\u001b[90m vue-loader \u001b[34m›\u001b[90m components/Spinner.vue\u001b[39m\n",
            "\n",
            "\u001b[93m●\u001b[39m \u001b[93mServer\u001b[39m \u001b[93m█\u001b[39m\u001b[93m█\u001b[39m\u001b[93m█\u001b[39m\u001b[93m█\u001b[39m\u001b[93m█\u001b[39m\u001b[93m█\u001b[39m\u001b[93m█\u001b[39m\u001b[37m█\u001b[39m\u001b[37m█\u001b[39m\u001b[37m█\u001b[39m\u001b[37m█\u001b[39m\u001b[37m█\u001b[39m\u001b[37m█\u001b[39m\u001b[37m█\u001b[39m\u001b[37m█\u001b[39m\u001b[37m█\u001b[39m\u001b[37m█\u001b[39m\u001b[37m█\u001b[39m\u001b[37m█\u001b[39m\u001b[37m█\u001b[39m\u001b[37m█\u001b[39m\u001b[37m█\u001b[39m\u001b[37m█\u001b[39m\u001b[37m█\u001b[39m\u001b[37m█\u001b[39m building (25%) \u001b[90m127/128 modules\u001b[39m \u001b[90m1 active\u001b[39m\n",
            " \u001b[90mbabel-loader \u001b[34m›\u001b[90m vue-loader \u001b[34m›\u001b[90m components/Spinner.vue\u001b[39m\n",
            "\n",
            "\u001b[2K\u001b[1A\u001b[2K\u001b[1A\u001b[2K\u001b[1A\u001b[2K\u001b[1A\u001b[2K\u001b[1A\u001b[2K\u001b[1A\u001b[2K\u001b[1A\u001b[2K\u001b[G\n",
            "\u001b[32m●\u001b[39m \u001b[32mClient\u001b[39m \u001b[32m█\u001b[39m\u001b[32m█\u001b[39m\u001b[32m█\u001b[39m\u001b[32m█\u001b[39m\u001b[32m█\u001b[39m\u001b[32m█\u001b[39m\u001b[32m█\u001b[39m\u001b[32m█\u001b[39m\u001b[32m█\u001b[39m\u001b[32m█\u001b[39m\u001b[32m█\u001b[39m\u001b[32m█\u001b[39m\u001b[37m█\u001b[39m\u001b[37m█\u001b[39m\u001b[37m█\u001b[39m\u001b[37m█\u001b[39m\u001b[37m█\u001b[39m\u001b[37m█\u001b[39m\u001b[37m█\u001b[39m\u001b[37m█\u001b[39m\u001b[37m█\u001b[39m\u001b[37m█\u001b[39m\u001b[37m█\u001b[39m\u001b[37m█\u001b[39m\u001b[37m█\u001b[39m building (47%) \u001b[90m309/310 modules\u001b[39m \u001b[90m1 active\u001b[39m\n",
            " \u001b[90mbabel-loader \u001b[34m›\u001b[90m vue-loader \u001b[34m›\u001b[90m components/Spinner.vue\u001b[39m\n",
            "\n",
            "\u001b[93m●\u001b[39m \u001b[93mServer\u001b[39m \u001b[93m█\u001b[39m\u001b[93m█\u001b[39m\u001b[93m█\u001b[39m\u001b[93m█\u001b[39m\u001b[93m█\u001b[39m\u001b[93m█\u001b[39m\u001b[93m█\u001b[39m\u001b[93m█\u001b[39m\u001b[93m█\u001b[39m\u001b[93m█\u001b[39m\u001b[93m█\u001b[39m\u001b[93m█\u001b[39m\u001b[93m█\u001b[39m\u001b[93m█\u001b[39m\u001b[93m█\u001b[39m\u001b[93m█\u001b[39m\u001b[93m█\u001b[39m\u001b[93m█\u001b[39m\u001b[93m█\u001b[39m\u001b[93m█\u001b[39m\u001b[93m█\u001b[39m\u001b[93m█\u001b[39m\u001b[93m█\u001b[39m\u001b[93m█\u001b[39m\u001b[37m█\u001b[39m after chunk asset optimization (93%) \u001b[90mSource\u001b[39m\n",
            "\u001b[90mMapDevToolPlugin\u001b[39m \n",
            " \n",
            "\n",
            "\u001b[2K\u001b[1A\u001b[2K\u001b[1A\u001b[2K\u001b[1A\u001b[2K\u001b[1A\u001b[2K\u001b[1A\u001b[2K\u001b[1A\u001b[2K\u001b[1A\u001b[2K\u001b[1A\u001b[2K\u001b[G\n",
            "\u001b[32m●\u001b[39m \u001b[32mClient\u001b[39m \u001b[32m█\u001b[39m\u001b[32m█\u001b[39m\u001b[32m█\u001b[39m\u001b[32m█\u001b[39m\u001b[32m█\u001b[39m\u001b[32m█\u001b[39m\u001b[32m█\u001b[39m\u001b[32m█\u001b[39m\u001b[32m█\u001b[39m\u001b[32m█\u001b[39m\u001b[32m█\u001b[39m\u001b[32m█\u001b[39m\u001b[37m█\u001b[39m\u001b[37m█\u001b[39m\u001b[37m█\u001b[39m\u001b[37m█\u001b[39m\u001b[37m█\u001b[39m\u001b[37m█\u001b[39m\u001b[37m█\u001b[39m\u001b[37m█\u001b[39m\u001b[37m█\u001b[39m\u001b[37m█\u001b[39m\u001b[37m█\u001b[39m\u001b[37m█\u001b[39m\u001b[37m█\u001b[39m building (47%) \u001b[90m309/310 modules\u001b[39m \u001b[90m1 active\u001b[39m\n",
            " \u001b[90mbabel-loader \u001b[34m›\u001b[90m vue-loader \u001b[34m›\u001b[90m components/Spinner.vue\u001b[39m\n",
            "\n",
            "\u001b[93m●\u001b[39m \u001b[93mServer\u001b[39m \u001b[93m█\u001b[39m\u001b[93m█\u001b[39m\u001b[93m█\u001b[39m\u001b[93m█\u001b[39m\u001b[93m█\u001b[39m\u001b[93m█\u001b[39m\u001b[93m█\u001b[39m\u001b[93m█\u001b[39m\u001b[93m█\u001b[39m\u001b[93m█\u001b[39m\u001b[93m█\u001b[39m\u001b[93m█\u001b[39m\u001b[93m█\u001b[39m\u001b[93m█\u001b[39m\u001b[93m█\u001b[39m\u001b[93m█\u001b[39m\u001b[93m█\u001b[39m\u001b[93m█\u001b[39m\u001b[93m█\u001b[39m\u001b[93m█\u001b[39m\u001b[93m█\u001b[39m\u001b[93m█\u001b[39m\u001b[93m█\u001b[39m\u001b[93m█\u001b[39m\u001b[37m█\u001b[39m after chunk asset optimization (93%) \u001b[90mSource\u001b[39m\n",
            "\u001b[90mMapDevToolPlugin\u001b[39m \u001b[90mpages/_feed/_page.js\u001b[39m\n",
            " \u001b[90mgenerate SourceMap\u001b[39m\n",
            "\n",
            "\u001b[2K\u001b[1A\u001b[2K\u001b[1A\u001b[2K\u001b[1A\u001b[2K\u001b[1A\u001b[2K\u001b[1A\u001b[2K\u001b[1A\u001b[2K\u001b[1A\u001b[2K\u001b[1A\u001b[2K\u001b[G\n",
            "\u001b[32m●\u001b[39m \u001b[32mClient\u001b[39m \u001b[32m█\u001b[39m\u001b[32m█\u001b[39m\u001b[32m█\u001b[39m\u001b[32m█\u001b[39m\u001b[32m█\u001b[39m\u001b[32m█\u001b[39m\u001b[32m█\u001b[39m\u001b[32m█\u001b[39m\u001b[32m█\u001b[39m\u001b[32m█\u001b[39m\u001b[32m█\u001b[39m\u001b[32m█\u001b[39m\u001b[37m█\u001b[39m\u001b[37m█\u001b[39m\u001b[37m█\u001b[39m\u001b[37m█\u001b[39m\u001b[37m█\u001b[39m\u001b[37m█\u001b[39m\u001b[37m█\u001b[39m\u001b[37m█\u001b[39m\u001b[37m█\u001b[39m\u001b[37m█\u001b[39m\u001b[37m█\u001b[39m\u001b[37m█\u001b[39m\u001b[37m█\u001b[39m building (47%) \u001b[90m309/310 modules\u001b[39m \u001b[90m1 active\u001b[39m\n",
            " \u001b[90mbabel-loader \u001b[34m›\u001b[90m vue-loader \u001b[34m›\u001b[90m components/Spinner.vue\u001b[39m\n",
            "\n",
            "\u001b[93m✔ Server\u001b[39m\n",
            "\u001b[90m  Compiled successfully in 4.94s\u001b[39m\n",
            "\n",
            "\u001b[2K\u001b[1A\u001b[2K\u001b[1A\u001b[2K\u001b[1A\u001b[2K\u001b[1A\u001b[2K\u001b[1A\u001b[2K\u001b[1A\u001b[2K\u001b[1A\u001b[2K\u001b[G\n",
            "\u001b[32m●\u001b[39m \u001b[32mClient\u001b[39m \u001b[32m█\u001b[39m\u001b[32m█\u001b[39m\u001b[32m█\u001b[39m\u001b[32m█\u001b[39m\u001b[32m█\u001b[39m\u001b[32m█\u001b[39m\u001b[32m█\u001b[39m\u001b[32m█\u001b[39m\u001b[32m█\u001b[39m\u001b[32m█\u001b[39m\u001b[32m█\u001b[39m\u001b[32m█\u001b[39m\u001b[37m█\u001b[39m\u001b[37m█\u001b[39m\u001b[37m█\u001b[39m\u001b[37m█\u001b[39m\u001b[37m█\u001b[39m\u001b[37m█\u001b[39m\u001b[37m█\u001b[39m\u001b[37m█\u001b[39m\u001b[37m█\u001b[39m\u001b[37m█\u001b[39m\u001b[37m█\u001b[39m\u001b[37m█\u001b[39m\u001b[37m█\u001b[39m building (47%) \u001b[90m311/313 modules\u001b[39m \u001b[90m2 active\u001b[39m\n",
            " \u001b[90mnode_modules/axios/lib/core/enhanceError.js\u001b[39m\n",
            "\n",
            "\u001b[93m✔ Server\u001b[39m\n",
            "\u001b[90m  Compiled successfully in 4.94s\u001b[39m\n",
            "\n",
            "\u001b[2K\u001b[1A\u001b[2K\u001b[1A\u001b[2K\u001b[1A\u001b[2K\u001b[1A\u001b[2K\u001b[1A\u001b[2K\u001b[1A\u001b[2K\u001b[1A\u001b[2K\u001b[G\n",
            "\u001b[32m●\u001b[39m \u001b[32mClient\u001b[39m \u001b[32m█\u001b[39m\u001b[32m█\u001b[39m\u001b[32m█\u001b[39m\u001b[32m█\u001b[39m\u001b[32m█\u001b[39m\u001b[32m█\u001b[39m\u001b[32m█\u001b[39m\u001b[32m█\u001b[39m\u001b[32m█\u001b[39m\u001b[32m█\u001b[39m\u001b[32m█\u001b[39m\u001b[32m█\u001b[39m\u001b[32m█\u001b[39m\u001b[32m█\u001b[39m\u001b[32m█\u001b[39m\u001b[32m█\u001b[39m\u001b[32m█\u001b[39m\u001b[32m█\u001b[39m\u001b[32m█\u001b[39m\u001b[32m█\u001b[39m\u001b[32m█\u001b[39m\u001b[32m█\u001b[39m\u001b[37m█\u001b[39m\u001b[37m█\u001b[39m\u001b[37m█\u001b[39m after hashing (88%)  \n",
            " \n",
            "\n",
            "\u001b[93m✔ Server\u001b[39m\n",
            "\u001b[90m  Compiled successfully in 4.94s\u001b[39m\n",
            "\n",
            "\u001b[2K\u001b[1A\u001b[2K\u001b[1A\u001b[2K\u001b[1A\u001b[2K\u001b[1A\u001b[2K\u001b[1A\u001b[2K\u001b[1A\u001b[2K\u001b[1A\u001b[2K\u001b[G\n",
            "\u001b[32m●\u001b[39m \u001b[32mClient\u001b[39m \u001b[32m█\u001b[39m\u001b[32m█\u001b[39m\u001b[32m█\u001b[39m\u001b[32m█\u001b[39m\u001b[32m█\u001b[39m\u001b[32m█\u001b[39m\u001b[32m█\u001b[39m\u001b[32m█\u001b[39m\u001b[32m█\u001b[39m\u001b[32m█\u001b[39m\u001b[32m█\u001b[39m\u001b[32m█\u001b[39m\u001b[32m█\u001b[39m\u001b[32m█\u001b[39m\u001b[32m█\u001b[39m\u001b[32m█\u001b[39m\u001b[32m█\u001b[39m\u001b[32m█\u001b[39m\u001b[32m█\u001b[39m\u001b[32m█\u001b[39m\u001b[32m█\u001b[39m\u001b[32m█\u001b[39m\u001b[32m█\u001b[39m\u001b[37m█\u001b[39m\u001b[37m█\u001b[39m additional chunk assets processing (90%)  \n",
            " \n",
            "\n",
            "\u001b[93m✔ Server\u001b[39m\n",
            "\u001b[90m  Compiled successfully in 4.94s\u001b[39m\n",
            "\n",
            "\u001b[2K\u001b[1A\u001b[2K\u001b[1A\u001b[2K\u001b[1A\u001b[2K\u001b[1A\u001b[2K\u001b[1A\u001b[2K\u001b[1A\u001b[2K\u001b[1A\u001b[2K\u001b[G\n",
            "\u001b[32m●\u001b[39m \u001b[32mClient\u001b[39m \u001b[32m█\u001b[39m\u001b[32m█\u001b[39m\u001b[32m█\u001b[39m\u001b[32m█\u001b[39m\u001b[32m█\u001b[39m\u001b[32m█\u001b[39m\u001b[32m█\u001b[39m\u001b[32m█\u001b[39m\u001b[32m█\u001b[39m\u001b[32m█\u001b[39m\u001b[32m█\u001b[39m\u001b[32m█\u001b[39m\u001b[32m█\u001b[39m\u001b[32m█\u001b[39m\u001b[32m█\u001b[39m\u001b[32m█\u001b[39m\u001b[32m█\u001b[39m\u001b[32m█\u001b[39m\u001b[32m█\u001b[39m\u001b[32m█\u001b[39m\u001b[32m█\u001b[39m\u001b[32m█\u001b[39m\u001b[32m█\u001b[39m\u001b[32m█\u001b[39m\u001b[37m█\u001b[39m emitting (95%) \u001b[90mHtmlWebpackPlugin\u001b[39m \n",
            " \n",
            "\n",
            "\u001b[93m✔ Server\u001b[39m\n",
            "\u001b[90m  Compiled successfully in 4.94s\u001b[39m\n",
            "\n",
            "\u001b[2K\u001b[1A\u001b[2K\u001b[1A\u001b[2K\u001b[1A\u001b[2K\u001b[1A\u001b[2K\u001b[1A\u001b[2K\u001b[1A\u001b[2K\u001b[1A\u001b[2K\u001b[G\n",
            "\u001b[32m●\u001b[39m \u001b[32mClient\u001b[39m \u001b[32m█\u001b[39m\u001b[32m█\u001b[39m\u001b[32m█\u001b[39m\u001b[32m█\u001b[39m\u001b[32m█\u001b[39m\u001b[32m█\u001b[39m\u001b[32m█\u001b[39m\u001b[32m█\u001b[39m\u001b[32m█\u001b[39m\u001b[32m█\u001b[39m\u001b[32m█\u001b[39m\u001b[32m█\u001b[39m\u001b[32m█\u001b[39m\u001b[32m█\u001b[39m\u001b[32m█\u001b[39m\u001b[32m█\u001b[39m\u001b[32m█\u001b[39m\u001b[32m█\u001b[39m\u001b[32m█\u001b[39m\u001b[32m█\u001b[39m\u001b[32m█\u001b[39m\u001b[32m█\u001b[39m\u001b[32m█\u001b[39m\u001b[32m█\u001b[39m\u001b[37m█\u001b[39m emitting (95%) \u001b[90mnuxt-pwa-icon\u001b[39m \n",
            " \n",
            "\n",
            "\u001b[93m✔ Server\u001b[39m\n",
            "\u001b[90m  Compiled successfully in 4.94s\u001b[39m\n",
            "\n",
            "\u001b[2K\u001b[1A\u001b[2K\u001b[1A\u001b[2K\u001b[1A\u001b[2K\u001b[1A\u001b[2K\u001b[1A\u001b[2K\u001b[1A\u001b[2K\u001b[1A\u001b[2K\u001b[G\n",
            "\u001b[32m✔ Client\u001b[39m\n",
            "\u001b[90m  Compiled successfully in 5.46s\u001b[39m\n",
            "\n",
            "\u001b[93m✔ Server\u001b[39m\n",
            "\u001b[90m  Compiled successfully in 4.94s\u001b[39m\n",
            "\n",
            "\u001b[36mℹ\u001b[39m Waiting for file changes\n",
            "\u001b[36mℹ\u001b[39m Memory usage: \u001b[1m191 MB\u001b[22m (RSS: 286 MB)\n",
            "\u001b[36mℹ\u001b[39m \u001b[1mListening on: \u001b[22mhttp://localhost:3000/\n"
          ],
          "name": "stdout"
        }
      ]
    },
    {
      "cell_type": "code",
      "metadata": {
        "id": "lIyVS98q52v0"
      },
      "source": [
        "\n"
      ],
      "execution_count": null,
      "outputs": []
    }
  ]
}