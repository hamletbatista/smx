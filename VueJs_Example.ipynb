{
  "nbformat": 4,
  "nbformat_minor": 0,
  "metadata": {
    "colab": {
      "name": "VueJs-Example.ipynb",
      "provenance": [],
      "collapsed_sections": [],
      "toc_visible": true,
      "authorship_tag": "ABX9TyPB14e96ymWIUZo7O6JoXGI",
      "include_colab_link": true
    },
    "kernelspec": {
      "name": "python3",
      "display_name": "Python 3"
    }
  },
  "cells": [
    {
      "cell_type": "markdown",
      "metadata": {
        "id": "view-in-github",
        "colab_type": "text"
      },
      "source": [
        "<a href=\"https://colab.research.google.com/github/hamletbatista/smx/blob/main/VueJs_Example.ipynb\" target=\"_parent\"><img src=\"https://colab.research.google.com/assets/colab-badge.svg\" alt=\"Open In Colab\"/></a>"
      ]
    },
    {
      "cell_type": "markdown",
      "metadata": {
        "id": "hikHa5IVxgiu"
      },
      "source": [
        "#Setup"
      ]
    },
    {
      "cell_type": "code",
      "metadata": {
        "id": "tmjO7WoBsmGe"
      },
      "source": [
        "%%capture\n",
        "!wget https://bin.equinox.io/c/4VmDzA7iaHb/ngrok-stable-linux-amd64.zip && unzip ngrok-stable-linux-amd64.zip \n",
        "!apt-get install jq"
      ],
      "execution_count": 1,
      "outputs": []
    },
    {
      "cell_type": "code",
      "metadata": {
        "id": "fTtYWzjGwv5O",
        "outputId": "10ca9e75-b2c7-4e2b-9ad6-1036a811d5c2",
        "colab": {
          "base_uri": "https://localhost:8080/"
        }
      },
      "source": [
        "!node -v"
      ],
      "execution_count": 2,
      "outputs": [
        {
          "output_type": "stream",
          "text": [
            "v12.14.1\n"
          ],
          "name": "stdout"
        }
      ]
    },
    {
      "cell_type": "code",
      "metadata": {
        "id": "H05HK-Mmw7Z5"
      },
      "source": [
        ""
      ],
      "execution_count": null,
      "outputs": []
    },
    {
      "cell_type": "markdown",
      "metadata": {
        "id": "Xjk5kSuyw-Ji"
      },
      "source": [
        "###Start server\n",
        "\n",
        "``%%bash --bg\n",
        "npm run dev``\n",
        "\n",
        "###Start ngrok\n",
        "\n",
        "``\n",
        "./ngrok http 3000 > ngrok.log 2>&1 &\n",
        "``\n",
        "\n",
        "###Get ngrok URL\n",
        "\n",
        "``\n",
        "!curl -s http://localhost:4040/api/tunnels | jq \".tunnels[0].public_url\"\n",
        "``"
      ]
    },
    {
      "cell_type": "code",
      "metadata": {
        "id": "Kg2Tvvfoxbze"
      },
      "source": [
        ""
      ],
      "execution_count": null,
      "outputs": []
    },
    {
      "cell_type": "markdown",
      "metadata": {
        "id": "PiEiO_72xju4"
      },
      "source": [
        "#VueJs\n",
        "\n",
        "https://github.com/arijs/vue-next-example\n",
        "\n",
        "More examples here: https://awesome-vue.js.org/resources/examples.html\n",
        "\n"
      ]
    },
    {
      "cell_type": "code",
      "metadata": {
        "id": "sJlSIrhq4q4p",
        "outputId": "23baedfe-e996-4b23-bb83-b7b203d70633",
        "colab": {
          "base_uri": "https://localhost:8080/"
        }
      },
      "source": [
        "!git clone https://github.com/snturk/covid19-vue-component"
      ],
      "execution_count": 3,
      "outputs": [
        {
          "output_type": "stream",
          "text": [
            "Cloning into 'covid19-vue-component'...\n",
            "remote: Enumerating objects: 169, done.\u001b[K\n",
            "remote: Counting objects: 100% (169/169), done.\u001b[K\n",
            "remote: Compressing objects: 100% (119/119), done.\u001b[K\n",
            "remote: Total 169 (delta 69), reused 131 (delta 43), pack-reused 0\u001b[K\n",
            "Receiving objects: 100% (169/169), 272.07 KiB | 523.00 KiB/s, done.\n",
            "Resolving deltas: 100% (69/69), done.\n"
          ],
          "name": "stdout"
        }
      ]
    },
    {
      "cell_type": "code",
      "metadata": {
        "id": "jELSvQ3s4tgJ",
        "outputId": "ba9823b6-e92b-4a58-d5dd-3759cdbf2704",
        "colab": {
          "base_uri": "https://localhost:8080/"
        }
      },
      "source": [
        "%cd covid19-vue-component"
      ],
      "execution_count": 4,
      "outputs": [
        {
          "output_type": "stream",
          "text": [
            "/content/covid19-vue-component\n"
          ],
          "name": "stdout"
        }
      ]
    },
    {
      "cell_type": "markdown",
      "metadata": {
        "id": "cb5uTgtOLfaO"
      },
      "source": [
        "##Vue Meta\n",
        "\n",
        "https://vue-meta.nuxtjs.org/\n",
        "\n",
        "``npm install vue-meta --save\n",
        "``"
      ]
    },
    {
      "cell_type": "code",
      "metadata": {
        "id": "wnnHvBt1LwUL",
        "outputId": "5c4051ac-3d2b-46c2-d37f-8c3e7b669313",
        "colab": {
          "base_uri": "https://localhost:8080/"
        }
      },
      "source": [
        "!npm install vue-meta --save"
      ],
      "execution_count": 5,
      "outputs": [
        {
          "output_type": "stream",
          "text": [
            "\u001b[K\u001b[?25h\n",
            "> ejs@2.7.4 postinstall /content/covid19-vue-component/node_modules/ejs\n",
            "> node ./postinstall.js\n",
            "\n",
            "Thank you for installing \u001b[35mEJS\u001b[0m: built with the \u001b[32mJake\u001b[0m JavaScript build tool (\u001b[32mhttps://jakejs.com/\u001b[0m)\n",
            "\n",
            "\u001b[K\u001b[?25h\u001b[37;40mnpm\u001b[0m \u001b[0m\u001b[30;43mWARN\u001b[0m\u001b[35m\u001b[0m covid19-vue-component@0.0.1 No repository field.\n",
            "\u001b[0m\u001b[37;40mnpm\u001b[0m \u001b[0m\u001b[30;43mWARN\u001b[0m \u001b[0m\u001b[35moptional\u001b[0m SKIPPING OPTIONAL DEPENDENCY: fsevents@1.2.13 (node_modules/webpack-dev-server/node_modules/fsevents):\n",
            "\u001b[0m\u001b[37;40mnpm\u001b[0m \u001b[0m\u001b[30;43mWARN\u001b[0m \u001b[0m\u001b[35mnotsup\u001b[0m SKIPPING OPTIONAL DEPENDENCY: Unsupported platform for fsevents@1.2.13: wanted {\"os\":\"darwin\",\"arch\":\"any\"} (current: {\"os\":\"linux\",\"arch\":\"x64\"})\n",
            "\u001b[0m\u001b[37;40mnpm\u001b[0m \u001b[0m\u001b[30;43mWARN\u001b[0m \u001b[0m\u001b[35moptional\u001b[0m SKIPPING OPTIONAL DEPENDENCY: fsevents@1.2.13 (node_modules/watchpack-chokidar2/node_modules/fsevents):\n",
            "\u001b[0m\u001b[37;40mnpm\u001b[0m \u001b[0m\u001b[30;43mWARN\u001b[0m \u001b[0m\u001b[35mnotsup\u001b[0m SKIPPING OPTIONAL DEPENDENCY: Unsupported platform for fsevents@1.2.13: wanted {\"os\":\"darwin\",\"arch\":\"any\"} (current: {\"os\":\"linux\",\"arch\":\"x64\"})\n",
            "\u001b[0m\u001b[37;40mnpm\u001b[0m \u001b[0m\u001b[30;43mWARN\u001b[0m \u001b[0m\u001b[35moptional\u001b[0m SKIPPING OPTIONAL DEPENDENCY: fsevents@2.1.3 (node_modules/fsevents):\n",
            "\u001b[0m\u001b[37;40mnpm\u001b[0m \u001b[0m\u001b[30;43mWARN\u001b[0m \u001b[0m\u001b[35mnotsup\u001b[0m SKIPPING OPTIONAL DEPENDENCY: Unsupported platform for fsevents@2.1.3: wanted {\"os\":\"darwin\",\"arch\":\"any\"} (current: {\"os\":\"linux\",\"arch\":\"x64\"})\n",
            "\u001b[0m\n",
            "+ vue-meta@2.4.0\n",
            "added 1046 packages from 815 contributors and audited 1052 packages in 21.335s\n",
            "\n",
            "37 packages are looking for funding\n",
            "  run `npm fund` for details\n",
            "\n",
            "found \u001b[91m15\u001b[0m vulnerabilities (9 \u001b[1mlow\u001b[0m, 6 \u001b[91mhigh\u001b[0m)\n",
            "  run `npm audit fix` to fix them, or `npm audit` for details\n",
            "\u001b[K\u001b[?25h"
          ],
          "name": "stdout"
        }
      ]
    },
    {
      "cell_type": "code",
      "metadata": {
        "id": "GaUehqkbLxRf"
      },
      "source": [
        ""
      ],
      "execution_count": null,
      "outputs": []
    },
    {
      "cell_type": "code",
      "metadata": {
        "id": "uE7sx3YqDZ0j",
        "outputId": "cd9c61d7-74bf-4b3c-fd11-6cfc06816c7e",
        "colab": {
          "base_uri": "https://localhost:8080/"
        }
      },
      "source": [
        "!npm install"
      ],
      "execution_count": 6,
      "outputs": [
        {
          "output_type": "stream",
          "text": [
            "\u001b[K\u001b[?25h\u001b[37;40mnpm\u001b[0m \u001b[0m\u001b[30;43mWARN\u001b[0m\u001b[35m\u001b[0m covid19-vue-component@0.0.1 No repository field.\n",
            "\u001b[0m\u001b[37;40mnpm\u001b[0m \u001b[0m\u001b[30;43mWARN\u001b[0m \u001b[0m\u001b[35moptional\u001b[0m SKIPPING OPTIONAL DEPENDENCY: fsevents@2.1.3 (node_modules/fsevents):\n",
            "\u001b[0m\u001b[37;40mnpm\u001b[0m \u001b[0m\u001b[30;43mWARN\u001b[0m \u001b[0m\u001b[35mnotsup\u001b[0m SKIPPING OPTIONAL DEPENDENCY: Unsupported platform for fsevents@2.1.3: wanted {\"os\":\"darwin\",\"arch\":\"any\"} (current: {\"os\":\"linux\",\"arch\":\"x64\"})\n",
            "\u001b[0m\u001b[37;40mnpm\u001b[0m \u001b[0m\u001b[30;43mWARN\u001b[0m \u001b[0m\u001b[35moptional\u001b[0m SKIPPING OPTIONAL DEPENDENCY: fsevents@1.2.13 (node_modules/watchpack-chokidar2/node_modules/fsevents):\n",
            "\u001b[0m\u001b[37;40mnpm\u001b[0m \u001b[0m\u001b[30;43mWARN\u001b[0m \u001b[0m\u001b[35mnotsup\u001b[0m SKIPPING OPTIONAL DEPENDENCY: Unsupported platform for fsevents@1.2.13: wanted {\"os\":\"darwin\",\"arch\":\"any\"} (current: {\"os\":\"linux\",\"arch\":\"x64\"})\n",
            "\u001b[0m\u001b[37;40mnpm\u001b[0m \u001b[0m\u001b[30;43mWARN\u001b[0m \u001b[0m\u001b[35moptional\u001b[0m SKIPPING OPTIONAL DEPENDENCY: fsevents@1.2.13 (node_modules/webpack-dev-server/node_modules/fsevents):\n",
            "\u001b[0m\u001b[37;40mnpm\u001b[0m \u001b[0m\u001b[30;43mWARN\u001b[0m \u001b[0m\u001b[35mnotsup\u001b[0m SKIPPING OPTIONAL DEPENDENCY: Unsupported platform for fsevents@1.2.13: wanted {\"os\":\"darwin\",\"arch\":\"any\"} (current: {\"os\":\"linux\",\"arch\":\"x64\"})\n",
            "\u001b[0m\n",
            "\u001b[K\u001b[?25haudited 1052 packages in 5.557s\n",
            "\n",
            "37 packages are looking for funding\n",
            "  run `npm fund` for details\n",
            "\n",
            "found \u001b[91m15\u001b[0m vulnerabilities (9 \u001b[1mlow\u001b[0m, 6 \u001b[91mhigh\u001b[0m)\n",
            "  run `npm audit fix` to fix them, or `npm audit` for details\n",
            "\u001b[K\u001b[?25h"
          ],
          "name": "stdout"
        }
      ]
    },
    {
      "cell_type": "code",
      "metadata": {
        "id": "vzVpVhusDbti"
      },
      "source": [
        "#!cat package.json"
      ],
      "execution_count": null,
      "outputs": []
    },
    {
      "cell_type": "code",
      "metadata": {
        "id": "E5yRqamV1oXk",
        "outputId": "af3e9527-c526-43ea-bcc7-8eb6cf531274",
        "colab": {
          "base_uri": "https://localhost:8080/"
        }
      },
      "source": [
        "!../ngrok authtoken #INPUT ngrok auth token"
      ],
      "execution_count": 7,
      "outputs": [
        {
          "output_type": "stream",
          "text": [
            "Authtoken saved to configuration file: /root/.ngrok2/ngrok.yml\n"
          ],
          "name": "stdout"
        }
      ]
    },
    {
      "cell_type": "code",
      "metadata": {
        "id": "2mkLiG_32ZKT"
      },
      "source": [
        "#https://stackoverflow.com/questions/45425721/invalid-host-header-when-ngrok-tries-to-connect-to-react-dev-server\n",
        "\n",
        "!../ngrok http -hostname=rnd.ranksense.com --host-header=rewrite 8081 > ngrok.log 2>&1 &"
      ],
      "execution_count": 17,
      "outputs": []
    },
    {
      "cell_type": "code",
      "metadata": {
        "id": "8FqmUnrM25yg"
      },
      "source": [
        "#!pkill ngrok"
      ],
      "execution_count": null,
      "outputs": []
    },
    {
      "cell_type": "code",
      "metadata": {
        "id": "KMSf7H3F9Zzr"
      },
      "source": [
        "!tail ngrok.log"
      ],
      "execution_count": 15,
      "outputs": []
    },
    {
      "cell_type": "code",
      "metadata": {
        "id": "FsSa24ps2i4E",
        "outputId": "1f1c1954-a0c5-49f2-db5b-7965fe811cdd",
        "colab": {
          "base_uri": "https://localhost:8080/"
        }
      },
      "source": [
        "!curl -s http://localhost:4040/api/tunnels | jq \".tunnels[0].public_url\""
      ],
      "execution_count": 25,
      "outputs": [
        {
          "output_type": "stream",
          "text": [
            "\u001b[0;32m\"http://rnd.ranksense.com\"\u001b[0m\n"
          ],
          "name": "stdout"
        }
      ]
    },
    {
      "cell_type": "code",
      "metadata": {
        "id": "jA4EC0gt2PfV",
        "outputId": "c5af2ec9-a977-4510-be84-95dba225db07",
        "colab": {
          "base_uri": "https://localhost:8080/"
        }
      },
      "source": [
        "!npm run-script serve"
      ],
      "execution_count": 18,
      "outputs": [
        {
          "output_type": "stream",
          "text": [
            "\n",
            "> covid19-vue-component@0.0.1 serve /content/covid19-vue-component\n",
            "> vue-cli-service serve\n",
            "\n",
            "\u001b[44m\u001b[30m INFO \u001b[39m\u001b[49m Starting development server...\n",
            "\u001b[1m40% building 29/33 modules 4 active /content/covid19-vue-component/node_modules/cache-loader/dist/cjs.js??ref--0-0!/content/covid19-vue-component/node_modules/vue-loader/lib/index.js??vue-loader-options!/content/covid19-vue-component/src/components/covidComponent.vue\u001b[39m\u001b[22mBrowserslist: caniuse-lite is outdated. Please run:\n",
            "npx browserslist@latest --update-db\n",
            "\u001b[1m98% after emitting CopyPlugin\u001b[39m\u001b[22m\n",
            "\u001b[1;1H\u001b[0J\u001b[42m\u001b[30m DONE \u001b[39m\u001b[49m \u001b[32mCompiled successfully in 1861ms\u001b[39m          \u001b[90m1:05:56 AM\u001b[39m\n",
            "\n",
            "\u001b[1m100%\u001b[39m\u001b[22m\u001b[2K\n",
            "  App running at:\n",
            "  - Local:   \u001b[36mhttp://localhost:\u001b[1m8081\u001b[22m/\u001b[39m \n",
            "\n",
            "\u001b[33m  It seems you are running Vue CLI inside a container.\u001b[39m\n",
            "\u001b[33m  Access the dev server via \u001b[36mhttp://localhost:<your container's external mapped port>/\u001b[33m\u001b[39m\n",
            "\n",
            "  Note that the development build is not optimized.\n",
            "  To create a production build, run \u001b[36mnpm run build\u001b[39m.\n",
            "\n"
          ],
          "name": "stdout"
        }
      ]
    },
    {
      "cell_type": "code",
      "metadata": {
        "id": "lIyVS98q52v0"
      },
      "source": [
        "\n"
      ],
      "execution_count": null,
      "outputs": []
    }
  ]
}